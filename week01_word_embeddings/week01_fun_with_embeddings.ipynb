{
 "cells": [
  {
   "cell_type": "markdown",
   "metadata": {},
   "source": [
    "## Seminar 1: Fun with Word Embeddings (3 points)\n",
    "\n",
    "Today we gonna play with word embeddings: train our own little embedding, load one from   gensim model zoo and use it to visualize text corpora.\n",
    "\n",
    "This whole thing is gonna happen on top of embedding dataset.\n",
    "\n",
    "__Requirements:__  `pip install --upgrade nltk gensim bokeh` , but only if you're running locally."
   ]
  },
  {
   "cell_type": "code",
   "execution_count": 1,
   "metadata": {},
   "outputs": [
    {
     "name": "stdout",
     "output_type": "stream",
     "text": [
      "Warning: Failed to set locale category LC_NUMERIC to en_RU.\n",
      "Warning: Failed to set locale category LC_TIME to en_RU.\n",
      "Warning: Failed to set locale category LC_COLLATE to en_RU.\n",
      "Warning: Failed to set locale category LC_MONETARY to en_RU.\n",
      "Warning: Failed to set locale category LC_MESSAGES to en_RU.\n",
      "--2019-09-30 11:47:31--  https://www.dropbox.com/s/obaitrix9jyu84r/quora.txt?dl=1\n",
      "Resolving www.dropbox.com (www.dropbox.com)... 2620:100:6026:1::a27d:4601, 162.125.70.1\n",
      "Connecting to www.dropbox.com (www.dropbox.com)|2620:100:6026:1::a27d:4601|:443... connected.\n",
      "HTTP request sent, awaiting response... 301 Moved Permanently\n",
      "Location: /s/dl/obaitrix9jyu84r/quora.txt [following]\n",
      "--2019-09-30 11:47:32--  https://www.dropbox.com/s/dl/obaitrix9jyu84r/quora.txt\n",
      "Reusing existing connection to [www.dropbox.com]:443.\n",
      "HTTP request sent, awaiting response... 302 Found\n",
      "Location: https://uc8381d730ef889df3ea11023cec.dl.dropboxusercontent.com/cd/0/get/ApgKMi5z_oHWsKD9oDNYSIILzLnshJlTMruWJxp4Gh4zk9u0W7ZfWngfvz6sR8SX2q_KRiSoRYMv4gc62XocHHLZVQwDV2Ol6KbLlpIi_SFhgg/file?dl=1# [following]\n",
      "--2019-09-30 11:47:32--  https://uc8381d730ef889df3ea11023cec.dl.dropboxusercontent.com/cd/0/get/ApgKMi5z_oHWsKD9oDNYSIILzLnshJlTMruWJxp4Gh4zk9u0W7ZfWngfvz6sR8SX2q_KRiSoRYMv4gc62XocHHLZVQwDV2Ol6KbLlpIi_SFhgg/file?dl=1\n",
      "Resolving uc8381d730ef889df3ea11023cec.dl.dropboxusercontent.com (uc8381d730ef889df3ea11023cec.dl.dropboxusercontent.com)... 2620:100:6026:6::a27d:4606, 162.125.70.6\n",
      "Connecting to uc8381d730ef889df3ea11023cec.dl.dropboxusercontent.com (uc8381d730ef889df3ea11023cec.dl.dropboxusercontent.com)|2620:100:6026:6::a27d:4606|:443... connected.\n",
      "HTTP request sent, awaiting response... 200 OK\n",
      "Length: 33813903 (32M) [application/binary]\n",
      "Saving to: ‘./quora.txt’\n",
      "\n",
      "./quora.txt         100%[===================>]  32.25M  7.75MB/s    in 7.6s    \n",
      "\n",
      "2019-09-30 11:47:41 (4.24 MB/s) - ‘./quora.txt’ saved [33813903/33813903]\n",
      "\n"
     ]
    }
   ],
   "source": [
    "# download the data:\n",
    "!wget https://www.dropbox.com/s/obaitrix9jyu84r/quora.txt?dl=1 -O ./quora.txt\n",
    "# alternative download link: https://yadi.sk/i/BPQrUu1NaTduEw"
   ]
  },
  {
   "cell_type": "code",
   "execution_count": 2,
   "metadata": {
    "scrolled": false
   },
   "outputs": [
    {
     "data": {
      "text/plain": [
       "\"What TV shows or books help you read people's body language?\\n\""
      ]
     },
     "execution_count": 2,
     "metadata": {},
     "output_type": "execute_result"
    }
   ],
   "source": [
    "import numpy as np\n",
    "\n",
    "data = list(open(\"./quora.txt\", encoding=\"utf-8\"))\n",
    "data[50]"
   ]
  },
  {
   "cell_type": "markdown",
   "metadata": {},
   "source": [
    "__Tokenization:__ a typical first step for an nlp task is to split raw data into words.\n",
    "The text we're working with is in raw format: with all the punctuation and smiles attached to some words, so a simple str.split won't do.\n",
    "\n",
    "Let's use __`nltk`__ - a library that handles many nlp tasks like tokenization, stemming or part-of-speech tagging."
   ]
  },
  {
   "cell_type": "code",
   "execution_count": 3,
   "metadata": {},
   "outputs": [
    {
     "name": "stdout",
     "output_type": "stream",
     "text": [
      "['What', 'TV', 'shows', 'or', 'books', 'help', 'you', 'read', 'people', \"'\", 's', 'body', 'language', '?']\n"
     ]
    }
   ],
   "source": [
    "from nltk.tokenize import WordPunctTokenizer\n",
    "tokenizer = WordPunctTokenizer()\n",
    "\n",
    "print(tokenizer.tokenize(data[50]))"
   ]
  },
  {
   "cell_type": "code",
   "execution_count": 4,
   "metadata": {},
   "outputs": [],
   "source": [
    "# TASK: lowercase everything and extract tokens with tokenizer. \n",
    "# data_tok should be a list of lists of tokens for each line in data.\n",
    "\n",
    "data_tok = [tokenizer.tokenize(row.lower()) for row in data]"
   ]
  },
  {
   "cell_type": "code",
   "execution_count": 5,
   "metadata": {},
   "outputs": [],
   "source": [
    "assert all(isinstance(row, (list, tuple)) for row in data_tok), \"please convert each line into a list of tokens (strings)\"\n",
    "assert all(all(isinstance(tok, str) for tok in row) for row in data_tok), \"please convert each line into a list of tokens (strings)\"\n",
    "is_latin = lambda tok: all('a' <= x.lower() <= 'z' for x in tok)\n",
    "assert all(map(lambda l: not is_latin(l) or l.islower(), map(' '.join, data_tok))), \"please make sure to lowercase the data\""
   ]
  },
  {
   "cell_type": "code",
   "execution_count": 6,
   "metadata": {},
   "outputs": [
    {
     "name": "stdout",
     "output_type": "stream",
     "text": [
      "[\"can i get back with my ex even though she is pregnant with another guy ' s baby ?\", 'what are some ways to overcome a fast food addiction ?']\n"
     ]
    }
   ],
   "source": [
    "print([' '.join(row) for row in data_tok[:2]])"
   ]
  },
  {
   "cell_type": "markdown",
   "metadata": {},
   "source": [
    "__Word vectors:__ as the saying goes, there's more than one way to train word embeddings. There's Word2Vec and GloVe with different objective functions. Then there's fasttext that uses character-level models to train word embeddings. \n",
    "\n",
    "The choice is huge, so let's start someplace small: __gensim__ is another nlp library that features many vector-based models incuding word2vec."
   ]
  },
  {
   "cell_type": "code",
   "execution_count": 7,
   "metadata": {},
   "outputs": [],
   "source": [
    "from gensim.models import Word2Vec\n",
    "model = Word2Vec(data_tok, \n",
    "                 size=32,      # embedding vector size\n",
    "                 min_count=5,  # consider words that occured at least 5 times\n",
    "                 window=5).wv  # define context as a 5-word window around the target word"
   ]
  },
  {
   "cell_type": "code",
   "execution_count": 8,
   "metadata": {},
   "outputs": [
    {
     "data": {
      "text/plain": [
       "array([ 0.02949568, -2.5736964 ,  2.6502836 ,  1.1825092 ,  1.2396692 ,\n",
       "       -0.07521247,  0.5571    ,  0.780749  , -0.6247386 , -2.7448354 ,\n",
       "       -0.90426356,  0.72435963,  2.011526  , -0.9627675 ,  0.11903959,\n",
       "       -3.2712393 ,  1.9026974 , -1.1429524 ,  6.186001  ,  1.4418024 ,\n",
       "        1.8083287 , -1.6339326 ,  2.2709832 ,  3.3370159 , -1.0114657 ,\n",
       "       -0.763488  ,  1.2171612 , -0.6157559 , -1.0892363 , -2.4444206 ,\n",
       "       -1.2274128 ,  0.8942025 ], dtype=float32)"
      ]
     },
     "execution_count": 8,
     "metadata": {},
     "output_type": "execute_result"
    }
   ],
   "source": [
    "# now you can get word vectors !\n",
    "model.get_vector('anything')"
   ]
  },
  {
   "cell_type": "code",
   "execution_count": 9,
   "metadata": {},
   "outputs": [
    {
     "data": {
      "text/plain": [
       "[('rice', 0.9451369047164917),\n",
       " ('cheese', 0.9309906959533691),\n",
       " ('fruit', 0.9267195463180542),\n",
       " ('sauce', 0.9180855751037598),\n",
       " ('corn', 0.9157529473304749),\n",
       " ('potato', 0.9127457141876221),\n",
       " ('butter', 0.9085476398468018),\n",
       " ('beans', 0.9060613512992859),\n",
       " ('soup', 0.9039124250411987),\n",
       " ('chocolate', 0.9013663530349731)]"
      ]
     },
     "execution_count": 9,
     "metadata": {},
     "output_type": "execute_result"
    }
   ],
   "source": [
    "# or query similar words directly. Go play with it!\n",
    "model.most_similar('bread')"
   ]
  },
  {
   "cell_type": "markdown",
   "metadata": {},
   "source": [
    "### Using pre-trained model\n",
    "\n",
    "Took it a while, huh? Now imagine training life-sized (100~300D) word embeddings on gigabytes of text: wikipedia articles or twitter posts. \n",
    "\n",
    "Thankfully, nowadays you can get a pre-trained word embedding model in 2 lines of code (no sms required, promise)."
   ]
  },
  {
   "cell_type": "code",
   "execution_count": 10,
   "metadata": {},
   "outputs": [],
   "source": [
    "import gensim.downloader as api\n",
    "model = api.load('glove-twitter-100')"
   ]
  },
  {
   "cell_type": "code",
   "execution_count": 11,
   "metadata": {},
   "outputs": [
    {
     "data": {
      "text/plain": [
       "[('broker', 0.5820155739784241),\n",
       " ('bonuses', 0.5424473285675049),\n",
       " ('banker', 0.538511335849762),\n",
       " ('designer', 0.5197198390960693),\n",
       " ('merchandising', 0.4964233934879303),\n",
       " ('treet', 0.49220192432403564),\n",
       " ('shopper', 0.4920561909675598),\n",
       " ('part-time', 0.49128279089927673),\n",
       " ('freelance', 0.4843311905860901),\n",
       " ('aupair', 0.4796452522277832)]"
      ]
     },
     "execution_count": 11,
     "metadata": {},
     "output_type": "execute_result"
    }
   ],
   "source": [
    "model.most_similar(positive=[\"coder\", \"money\"], negative=[\"brain\"])"
   ]
  },
  {
   "cell_type": "markdown",
   "metadata": {},
   "source": [
    "### Visualizing word vectors\n",
    "\n",
    "One way to see if our vectors are any good is to plot them. Thing is, those vectors are in 30D+ space and we humans are more used to 2-3D.\n",
    "\n",
    "Luckily, we machine learners know about __dimensionality reduction__ methods.\n",
    "\n",
    "Let's use that to plot 1000 most frequent words"
   ]
  },
  {
   "cell_type": "code",
   "execution_count": 12,
   "metadata": {},
   "outputs": [
    {
     "name": "stdout",
     "output_type": "stream",
     "text": [
      "['<user>', '_', 'please', 'apa', 'justin', 'text', 'hari', 'playing', 'once', 'sei']\n"
     ]
    }
   ],
   "source": [
    "words = sorted(model.vocab.keys(), \n",
    "               key=lambda word: model.vocab[word].count,\n",
    "               reverse=True)[:1000]\n",
    "\n",
    "print(words[::100])"
   ]
  },
  {
   "cell_type": "code",
   "execution_count": 13,
   "metadata": {},
   "outputs": [],
   "source": [
    "# for each word, compute it's vector with model\n",
    "word_vectors = np.array([model.get_vector(word) for word in words])"
   ]
  },
  {
   "cell_type": "code",
   "execution_count": 14,
   "metadata": {},
   "outputs": [],
   "source": [
    "assert isinstance(word_vectors, np.ndarray)\n",
    "assert word_vectors.shape == (len(words), 100)\n",
    "assert np.isfinite(word_vectors).all()"
   ]
  },
  {
   "cell_type": "markdown",
   "metadata": {},
   "source": [
    "#### Linear projection: PCA\n",
    "\n",
    "The simplest linear dimensionality reduction method is __P__rincipial __C__omponent __A__nalysis.\n",
    "\n",
    "In geometric terms, PCA tries to find axes along which most of the variance occurs. The \"natural\" axes, if you wish.\n",
    "\n",
    "<img src=\"https://github.com/yandexdataschool/Practical_RL/raw/master/yet_another_week/_resource/pca_fish.png\" style=\"width:30%\">\n",
    "\n",
    "\n",
    "Under the hood, it attempts to decompose object-feature matrix $X$ into two smaller matrices: $W$ and $\\hat W$ minimizing _mean squared error_:\n",
    "\n",
    "$$\\|(X W) \\hat{W} - X\\|^2_2 \\to_{W, \\hat{W}} \\min$$\n",
    "- $X \\in \\mathbb{R}^{n \\times m}$ - object matrix (**centered**);\n",
    "- $W \\in \\mathbb{R}^{m \\times d}$ - matrix of direct transformation;\n",
    "- $\\hat{W} \\in \\mathbb{R}^{d \\times m}$ - matrix of reverse transformation;\n",
    "- $n$ samples, $m$ original dimensions and $d$ target dimensions;\n",
    "\n"
   ]
  },
  {
   "cell_type": "code",
   "execution_count": 15,
   "metadata": {},
   "outputs": [],
   "source": [
    "from sklearn.decomposition import PCA\n",
    "\n",
    "# map word vectors onto 2d plane with PCA. Use good old sklearn api (fit, transform)\n",
    "# after that, normalize vectors to make sure they have zero mean and unit variance\n",
    "\n",
    "pca = PCA(n_components=2)\n",
    "word_vectors = pca.fit_transform(word_vectors)\n",
    "word_vectors_pca = (word_vectors - word_vectors.mean(0)) / word_vectors.std(0)\n",
    "\n",
    "# and maybe MORE OF YOUR CODE here :)"
   ]
  },
  {
   "cell_type": "code",
   "execution_count": 16,
   "metadata": {},
   "outputs": [],
   "source": [
    "assert word_vectors_pca.shape == (len(word_vectors), 2), \"there must be a 2d vector for each word\"\n",
    "assert max(abs(word_vectors_pca.mean(0))) < 1e-5, \"points must be zero-centered\"\n",
    "assert max(abs(1.0 - word_vectors_pca.std(0))) < 1e-2, \"points must have unit variance\""
   ]
  },
  {
   "cell_type": "markdown",
   "metadata": {},
   "source": [
    "#### Let's draw it!"
   ]
  },
  {
   "cell_type": "code",
   "execution_count": 17,
   "metadata": {},
   "outputs": [
    {
     "data": {
      "text/html": [
       "\n",
       "    <div class=\"bk-root\">\n",
       "        <a href=\"https://bokeh.pydata.org\" target=\"_blank\" class=\"bk-logo bk-logo-small bk-logo-notebook\"></a>\n",
       "        <span id=\"1001\">Loading BokehJS ...</span>\n",
       "    </div>"
      ]
     },
     "metadata": {},
     "output_type": "display_data"
    },
    {
     "data": {
      "application/javascript": [
       "\n",
       "(function(root) {\n",
       "  function now() {\n",
       "    return new Date();\n",
       "  }\n",
       "\n",
       "  var force = true;\n",
       "\n",
       "  if (typeof root._bokeh_onload_callbacks === \"undefined\" || force === true) {\n",
       "    root._bokeh_onload_callbacks = [];\n",
       "    root._bokeh_is_loading = undefined;\n",
       "  }\n",
       "\n",
       "  var JS_MIME_TYPE = 'application/javascript';\n",
       "  var HTML_MIME_TYPE = 'text/html';\n",
       "  var EXEC_MIME_TYPE = 'application/vnd.bokehjs_exec.v0+json';\n",
       "  var CLASS_NAME = 'output_bokeh rendered_html';\n",
       "\n",
       "  /**\n",
       "   * Render data to the DOM node\n",
       "   */\n",
       "  function render(props, node) {\n",
       "    var script = document.createElement(\"script\");\n",
       "    node.appendChild(script);\n",
       "  }\n",
       "\n",
       "  /**\n",
       "   * Handle when an output is cleared or removed\n",
       "   */\n",
       "  function handleClearOutput(event, handle) {\n",
       "    var cell = handle.cell;\n",
       "\n",
       "    var id = cell.output_area._bokeh_element_id;\n",
       "    var server_id = cell.output_area._bokeh_server_id;\n",
       "    // Clean up Bokeh references\n",
       "    if (id != null && id in Bokeh.index) {\n",
       "      Bokeh.index[id].model.document.clear();\n",
       "      delete Bokeh.index[id];\n",
       "    }\n",
       "\n",
       "    if (server_id !== undefined) {\n",
       "      // Clean up Bokeh references\n",
       "      var cmd = \"from bokeh.io.state import curstate; print(curstate().uuid_to_server['\" + server_id + \"'].get_sessions()[0].document.roots[0]._id)\";\n",
       "      cell.notebook.kernel.execute(cmd, {\n",
       "        iopub: {\n",
       "          output: function(msg) {\n",
       "            var id = msg.content.text.trim();\n",
       "            if (id in Bokeh.index) {\n",
       "              Bokeh.index[id].model.document.clear();\n",
       "              delete Bokeh.index[id];\n",
       "            }\n",
       "          }\n",
       "        }\n",
       "      });\n",
       "      // Destroy server and session\n",
       "      var cmd = \"import bokeh.io.notebook as ion; ion.destroy_server('\" + server_id + \"')\";\n",
       "      cell.notebook.kernel.execute(cmd);\n",
       "    }\n",
       "  }\n",
       "\n",
       "  /**\n",
       "   * Handle when a new output is added\n",
       "   */\n",
       "  function handleAddOutput(event, handle) {\n",
       "    var output_area = handle.output_area;\n",
       "    var output = handle.output;\n",
       "\n",
       "    // limit handleAddOutput to display_data with EXEC_MIME_TYPE content only\n",
       "    if ((output.output_type != \"display_data\") || (!output.data.hasOwnProperty(EXEC_MIME_TYPE))) {\n",
       "      return\n",
       "    }\n",
       "\n",
       "    var toinsert = output_area.element.find(\".\" + CLASS_NAME.split(' ')[0]);\n",
       "\n",
       "    if (output.metadata[EXEC_MIME_TYPE][\"id\"] !== undefined) {\n",
       "      toinsert[toinsert.length - 1].firstChild.textContent = output.data[JS_MIME_TYPE];\n",
       "      // store reference to embed id on output_area\n",
       "      output_area._bokeh_element_id = output.metadata[EXEC_MIME_TYPE][\"id\"];\n",
       "    }\n",
       "    if (output.metadata[EXEC_MIME_TYPE][\"server_id\"] !== undefined) {\n",
       "      var bk_div = document.createElement(\"div\");\n",
       "      bk_div.innerHTML = output.data[HTML_MIME_TYPE];\n",
       "      var script_attrs = bk_div.children[0].attributes;\n",
       "      for (var i = 0; i < script_attrs.length; i++) {\n",
       "        toinsert[toinsert.length - 1].firstChild.setAttribute(script_attrs[i].name, script_attrs[i].value);\n",
       "      }\n",
       "      // store reference to server id on output_area\n",
       "      output_area._bokeh_server_id = output.metadata[EXEC_MIME_TYPE][\"server_id\"];\n",
       "    }\n",
       "  }\n",
       "\n",
       "  function register_renderer(events, OutputArea) {\n",
       "\n",
       "    function append_mime(data, metadata, element) {\n",
       "      // create a DOM node to render to\n",
       "      var toinsert = this.create_output_subarea(\n",
       "        metadata,\n",
       "        CLASS_NAME,\n",
       "        EXEC_MIME_TYPE\n",
       "      );\n",
       "      this.keyboard_manager.register_events(toinsert);\n",
       "      // Render to node\n",
       "      var props = {data: data, metadata: metadata[EXEC_MIME_TYPE]};\n",
       "      render(props, toinsert[toinsert.length - 1]);\n",
       "      element.append(toinsert);\n",
       "      return toinsert\n",
       "    }\n",
       "\n",
       "    /* Handle when an output is cleared or removed */\n",
       "    events.on('clear_output.CodeCell', handleClearOutput);\n",
       "    events.on('delete.Cell', handleClearOutput);\n",
       "\n",
       "    /* Handle when a new output is added */\n",
       "    events.on('output_added.OutputArea', handleAddOutput);\n",
       "\n",
       "    /**\n",
       "     * Register the mime type and append_mime function with output_area\n",
       "     */\n",
       "    OutputArea.prototype.register_mime_type(EXEC_MIME_TYPE, append_mime, {\n",
       "      /* Is output safe? */\n",
       "      safe: true,\n",
       "      /* Index of renderer in `output_area.display_order` */\n",
       "      index: 0\n",
       "    });\n",
       "  }\n",
       "\n",
       "  // register the mime type if in Jupyter Notebook environment and previously unregistered\n",
       "  if (root.Jupyter !== undefined) {\n",
       "    var events = require('base/js/events');\n",
       "    var OutputArea = require('notebook/js/outputarea').OutputArea;\n",
       "\n",
       "    if (OutputArea.prototype.mime_types().indexOf(EXEC_MIME_TYPE) == -1) {\n",
       "      register_renderer(events, OutputArea);\n",
       "    }\n",
       "  }\n",
       "\n",
       "  \n",
       "  if (typeof (root._bokeh_timeout) === \"undefined\" || force === true) {\n",
       "    root._bokeh_timeout = Date.now() + 5000;\n",
       "    root._bokeh_failed_load = false;\n",
       "  }\n",
       "\n",
       "  var NB_LOAD_WARNING = {'data': {'text/html':\n",
       "     \"<div style='background-color: #fdd'>\\n\"+\n",
       "     \"<p>\\n\"+\n",
       "     \"BokehJS does not appear to have successfully loaded. If loading BokehJS from CDN, this \\n\"+\n",
       "     \"may be due to a slow or bad network connection. Possible fixes:\\n\"+\n",
       "     \"</p>\\n\"+\n",
       "     \"<ul>\\n\"+\n",
       "     \"<li>re-rerun `output_notebook()` to attempt to load from CDN again, or</li>\\n\"+\n",
       "     \"<li>use INLINE resources instead, as so:</li>\\n\"+\n",
       "     \"</ul>\\n\"+\n",
       "     \"<code>\\n\"+\n",
       "     \"from bokeh.resources import INLINE\\n\"+\n",
       "     \"output_notebook(resources=INLINE)\\n\"+\n",
       "     \"</code>\\n\"+\n",
       "     \"</div>\"}};\n",
       "\n",
       "  function display_loaded() {\n",
       "    var el = document.getElementById(\"1001\");\n",
       "    if (el != null) {\n",
       "      el.textContent = \"BokehJS is loading...\";\n",
       "    }\n",
       "    if (root.Bokeh !== undefined) {\n",
       "      if (el != null) {\n",
       "        el.textContent = \"BokehJS \" + root.Bokeh.version + \" successfully loaded.\";\n",
       "      }\n",
       "    } else if (Date.now() < root._bokeh_timeout) {\n",
       "      setTimeout(display_loaded, 100)\n",
       "    }\n",
       "  }\n",
       "\n",
       "\n",
       "  function run_callbacks() {\n",
       "    try {\n",
       "      root._bokeh_onload_callbacks.forEach(function(callback) {\n",
       "        if (callback != null)\n",
       "          callback();\n",
       "      });\n",
       "    } finally {\n",
       "      delete root._bokeh_onload_callbacks\n",
       "    }\n",
       "    console.debug(\"Bokeh: all callbacks have finished\");\n",
       "  }\n",
       "\n",
       "  function load_libs(css_urls, js_urls, callback) {\n",
       "    if (css_urls == null) css_urls = [];\n",
       "    if (js_urls == null) js_urls = [];\n",
       "\n",
       "    root._bokeh_onload_callbacks.push(callback);\n",
       "    if (root._bokeh_is_loading > 0) {\n",
       "      console.debug(\"Bokeh: BokehJS is being loaded, scheduling callback at\", now());\n",
       "      return null;\n",
       "    }\n",
       "    if (js_urls == null || js_urls.length === 0) {\n",
       "      run_callbacks();\n",
       "      return null;\n",
       "    }\n",
       "    console.debug(\"Bokeh: BokehJS not loaded, scheduling load and callback at\", now());\n",
       "    root._bokeh_is_loading = css_urls.length + js_urls.length;\n",
       "\n",
       "    function on_load() {\n",
       "      root._bokeh_is_loading--;\n",
       "      if (root._bokeh_is_loading === 0) {\n",
       "        console.debug(\"Bokeh: all BokehJS libraries/stylesheets loaded\");\n",
       "        run_callbacks()\n",
       "      }\n",
       "    }\n",
       "\n",
       "    function on_error() {\n",
       "      console.error(\"failed to load \" + url);\n",
       "    }\n",
       "\n",
       "    for (var i = 0; i < css_urls.length; i++) {\n",
       "      var url = css_urls[i];\n",
       "      const element = document.createElement(\"link\");\n",
       "      element.onload = on_load;\n",
       "      element.onerror = on_error;\n",
       "      element.rel = \"stylesheet\";\n",
       "      element.type = \"text/css\";\n",
       "      element.href = url;\n",
       "      console.debug(\"Bokeh: injecting link tag for BokehJS stylesheet: \", url);\n",
       "      document.body.appendChild(element);\n",
       "    }\n",
       "\n",
       "    for (var i = 0; i < js_urls.length; i++) {\n",
       "      var url = js_urls[i];\n",
       "      var element = document.createElement('script');\n",
       "      element.onload = on_load;\n",
       "      element.onerror = on_error;\n",
       "      element.async = false;\n",
       "      element.src = url;\n",
       "      console.debug(\"Bokeh: injecting script tag for BokehJS library: \", url);\n",
       "      document.head.appendChild(element);\n",
       "    }\n",
       "  };var element = document.getElementById(\"1001\");\n",
       "  if (element == null) {\n",
       "    console.error(\"Bokeh: ERROR: autoload.js configured with elementid '1001' but no matching script tag was found. \")\n",
       "    return false;\n",
       "  }\n",
       "\n",
       "  function inject_raw_css(css) {\n",
       "    const element = document.createElement(\"style\");\n",
       "    element.appendChild(document.createTextNode(css));\n",
       "    document.body.appendChild(element);\n",
       "  }\n",
       "\n",
       "  var js_urls = [\"https://cdn.pydata.org/bokeh/release/bokeh-1.3.4.min.js\", \"https://cdn.pydata.org/bokeh/release/bokeh-widgets-1.3.4.min.js\", \"https://cdn.pydata.org/bokeh/release/bokeh-tables-1.3.4.min.js\", \"https://cdn.pydata.org/bokeh/release/bokeh-gl-1.3.4.min.js\"];\n",
       "  var css_urls = [];\n",
       "\n",
       "  var inline_js = [\n",
       "    function(Bokeh) {\n",
       "      Bokeh.set_log_level(\"info\");\n",
       "    },\n",
       "    \n",
       "    function(Bokeh) {\n",
       "      \n",
       "    },\n",
       "    function(Bokeh) {} // ensure no trailing comma for IE\n",
       "  ];\n",
       "\n",
       "  function run_inline_js() {\n",
       "    \n",
       "    if ((root.Bokeh !== undefined) || (force === true)) {\n",
       "      for (var i = 0; i < inline_js.length; i++) {\n",
       "        inline_js[i].call(root, root.Bokeh);\n",
       "      }if (force === true) {\n",
       "        display_loaded();\n",
       "      }} else if (Date.now() < root._bokeh_timeout) {\n",
       "      setTimeout(run_inline_js, 100);\n",
       "    } else if (!root._bokeh_failed_load) {\n",
       "      console.log(\"Bokeh: BokehJS failed to load within specified timeout.\");\n",
       "      root._bokeh_failed_load = true;\n",
       "    } else if (force !== true) {\n",
       "      var cell = $(document.getElementById(\"1001\")).parents('.cell').data().cell;\n",
       "      cell.output_area.append_execute_result(NB_LOAD_WARNING)\n",
       "    }\n",
       "\n",
       "  }\n",
       "\n",
       "  if (root._bokeh_is_loading === 0) {\n",
       "    console.debug(\"Bokeh: BokehJS loaded, going straight to plotting\");\n",
       "    run_inline_js();\n",
       "  } else {\n",
       "    load_libs(css_urls, js_urls, function() {\n",
       "      console.debug(\"Bokeh: BokehJS plotting callback run at\", now());\n",
       "      run_inline_js();\n",
       "    });\n",
       "  }\n",
       "}(window));"
      ],
      "application/vnd.bokehjs_load.v0+json": "\n(function(root) {\n  function now() {\n    return new Date();\n  }\n\n  var force = true;\n\n  if (typeof root._bokeh_onload_callbacks === \"undefined\" || force === true) {\n    root._bokeh_onload_callbacks = [];\n    root._bokeh_is_loading = undefined;\n  }\n\n  \n\n  \n  if (typeof (root._bokeh_timeout) === \"undefined\" || force === true) {\n    root._bokeh_timeout = Date.now() + 5000;\n    root._bokeh_failed_load = false;\n  }\n\n  var NB_LOAD_WARNING = {'data': {'text/html':\n     \"<div style='background-color: #fdd'>\\n\"+\n     \"<p>\\n\"+\n     \"BokehJS does not appear to have successfully loaded. If loading BokehJS from CDN, this \\n\"+\n     \"may be due to a slow or bad network connection. Possible fixes:\\n\"+\n     \"</p>\\n\"+\n     \"<ul>\\n\"+\n     \"<li>re-rerun `output_notebook()` to attempt to load from CDN again, or</li>\\n\"+\n     \"<li>use INLINE resources instead, as so:</li>\\n\"+\n     \"</ul>\\n\"+\n     \"<code>\\n\"+\n     \"from bokeh.resources import INLINE\\n\"+\n     \"output_notebook(resources=INLINE)\\n\"+\n     \"</code>\\n\"+\n     \"</div>\"}};\n\n  function display_loaded() {\n    var el = document.getElementById(\"1001\");\n    if (el != null) {\n      el.textContent = \"BokehJS is loading...\";\n    }\n    if (root.Bokeh !== undefined) {\n      if (el != null) {\n        el.textContent = \"BokehJS \" + root.Bokeh.version + \" successfully loaded.\";\n      }\n    } else if (Date.now() < root._bokeh_timeout) {\n      setTimeout(display_loaded, 100)\n    }\n  }\n\n\n  function run_callbacks() {\n    try {\n      root._bokeh_onload_callbacks.forEach(function(callback) {\n        if (callback != null)\n          callback();\n      });\n    } finally {\n      delete root._bokeh_onload_callbacks\n    }\n    console.debug(\"Bokeh: all callbacks have finished\");\n  }\n\n  function load_libs(css_urls, js_urls, callback) {\n    if (css_urls == null) css_urls = [];\n    if (js_urls == null) js_urls = [];\n\n    root._bokeh_onload_callbacks.push(callback);\n    if (root._bokeh_is_loading > 0) {\n      console.debug(\"Bokeh: BokehJS is being loaded, scheduling callback at\", now());\n      return null;\n    }\n    if (js_urls == null || js_urls.length === 0) {\n      run_callbacks();\n      return null;\n    }\n    console.debug(\"Bokeh: BokehJS not loaded, scheduling load and callback at\", now());\n    root._bokeh_is_loading = css_urls.length + js_urls.length;\n\n    function on_load() {\n      root._bokeh_is_loading--;\n      if (root._bokeh_is_loading === 0) {\n        console.debug(\"Bokeh: all BokehJS libraries/stylesheets loaded\");\n        run_callbacks()\n      }\n    }\n\n    function on_error() {\n      console.error(\"failed to load \" + url);\n    }\n\n    for (var i = 0; i < css_urls.length; i++) {\n      var url = css_urls[i];\n      const element = document.createElement(\"link\");\n      element.onload = on_load;\n      element.onerror = on_error;\n      element.rel = \"stylesheet\";\n      element.type = \"text/css\";\n      element.href = url;\n      console.debug(\"Bokeh: injecting link tag for BokehJS stylesheet: \", url);\n      document.body.appendChild(element);\n    }\n\n    for (var i = 0; i < js_urls.length; i++) {\n      var url = js_urls[i];\n      var element = document.createElement('script');\n      element.onload = on_load;\n      element.onerror = on_error;\n      element.async = false;\n      element.src = url;\n      console.debug(\"Bokeh: injecting script tag for BokehJS library: \", url);\n      document.head.appendChild(element);\n    }\n  };var element = document.getElementById(\"1001\");\n  if (element == null) {\n    console.error(\"Bokeh: ERROR: autoload.js configured with elementid '1001' but no matching script tag was found. \")\n    return false;\n  }\n\n  function inject_raw_css(css) {\n    const element = document.createElement(\"style\");\n    element.appendChild(document.createTextNode(css));\n    document.body.appendChild(element);\n  }\n\n  var js_urls = [\"https://cdn.pydata.org/bokeh/release/bokeh-1.3.4.min.js\", \"https://cdn.pydata.org/bokeh/release/bokeh-widgets-1.3.4.min.js\", \"https://cdn.pydata.org/bokeh/release/bokeh-tables-1.3.4.min.js\", \"https://cdn.pydata.org/bokeh/release/bokeh-gl-1.3.4.min.js\"];\n  var css_urls = [];\n\n  var inline_js = [\n    function(Bokeh) {\n      Bokeh.set_log_level(\"info\");\n    },\n    \n    function(Bokeh) {\n      \n    },\n    function(Bokeh) {} // ensure no trailing comma for IE\n  ];\n\n  function run_inline_js() {\n    \n    if ((root.Bokeh !== undefined) || (force === true)) {\n      for (var i = 0; i < inline_js.length; i++) {\n        inline_js[i].call(root, root.Bokeh);\n      }if (force === true) {\n        display_loaded();\n      }} else if (Date.now() < root._bokeh_timeout) {\n      setTimeout(run_inline_js, 100);\n    } else if (!root._bokeh_failed_load) {\n      console.log(\"Bokeh: BokehJS failed to load within specified timeout.\");\n      root._bokeh_failed_load = true;\n    } else if (force !== true) {\n      var cell = $(document.getElementById(\"1001\")).parents('.cell').data().cell;\n      cell.output_area.append_execute_result(NB_LOAD_WARNING)\n    }\n\n  }\n\n  if (root._bokeh_is_loading === 0) {\n    console.debug(\"Bokeh: BokehJS loaded, going straight to plotting\");\n    run_inline_js();\n  } else {\n    load_libs(css_urls, js_urls, function() {\n      console.debug(\"Bokeh: BokehJS plotting callback run at\", now());\n      run_inline_js();\n    });\n  }\n}(window));"
     },
     "metadata": {},
     "output_type": "display_data"
    }
   ],
   "source": [
    "import bokeh.models as bm, bokeh.plotting as pl\n",
    "from bokeh.io import output_notebook\n",
    "output_notebook()\n",
    "\n",
    "def draw_vectors(x, y, radius=10, alpha=0.25, color='blue',\n",
    "                 width=600, height=400, show=True, **kwargs):\n",
    "    \"\"\" draws an interactive plot for data points with auxilirary info on hover \"\"\"\n",
    "    if isinstance(color, str): color = [color] * len(x)\n",
    "    data_source = bm.ColumnDataSource({ 'x' : x, 'y' : y, 'color': color, **kwargs })\n",
    "\n",
    "    fig = pl.figure(active_scroll='wheel_zoom', width=width, height=height)\n",
    "    fig.scatter('x', 'y', size=radius, color='color', alpha=alpha, source=data_source)\n",
    "\n",
    "    fig.add_tools(bm.HoverTool(tooltips=[(key, \"@\" + key) for key in kwargs.keys()]))\n",
    "    if show: pl.show(fig)\n",
    "    return fig"
   ]
  },
  {
   "cell_type": "code",
   "execution_count": 18,
   "metadata": {},
   "outputs": [
    {
     "data": {
      "text/html": [
       "\n",
       "\n",
       "\n",
       "\n",
       "\n",
       "\n",
       "  <div class=\"bk-root\" id=\"c450fbe6-9195-4428-9ccf-a1d7680fa216\" data-root-id=\"1003\"></div>\n"
      ]
     },
     "metadata": {},
     "output_type": "display_data"
    },
    {
     "data": {
      "application/javascript": [
       "(function(root) {\n",
       "  function embed_document(root) {\n",
       "    \n",
       "  var docs_json = {\"8bd3f5b5-37ea-4da2-9c8e-a7c3e129921a\":{\"roots\":{\"references\":[{\"attributes\":{\"below\":[{\"id\":\"1012\",\"type\":\"LinearAxis\"}],\"center\":[{\"id\":\"1016\",\"type\":\"Grid\"},{\"id\":\"1021\",\"type\":\"Grid\"}],\"left\":[{\"id\":\"1017\",\"type\":\"LinearAxis\"}],\"plot_height\":400,\"renderers\":[{\"id\":\"1038\",\"type\":\"GlyphRenderer\"}],\"title\":{\"id\":\"1042\",\"type\":\"Title\"},\"toolbar\":{\"id\":\"1028\",\"type\":\"Toolbar\"},\"x_range\":{\"id\":\"1004\",\"type\":\"DataRange1d\"},\"x_scale\":{\"id\":\"1008\",\"type\":\"LinearScale\"},\"y_range\":{\"id\":\"1006\",\"type\":\"DataRange1d\"},\"y_scale\":{\"id\":\"1010\",\"type\":\"LinearScale\"}},\"id\":\"1003\",\"subtype\":\"Figure\",\"type\":\"Plot\"},{\"attributes\":{},\"id\":\"1008\",\"type\":\"LinearScale\"},{\"attributes\":{\"callback\":null,\"data\":{\"color\":[\"blue\",\"blue\",\"blue\",\"blue\",\"blue\",\"blue\",\"blue\",\"blue\",\"blue\",\"blue\",\"blue\",\"blue\",\"blue\",\"blue\",\"blue\",\"blue\",\"blue\",\"blue\",\"blue\",\"blue\",\"blue\",\"blue\",\"blue\",\"blue\",\"blue\",\"blue\",\"blue\",\"blue\",\"blue\",\"blue\",\"blue\",\"blue\",\"blue\",\"blue\",\"blue\",\"blue\",\"blue\",\"blue\",\"blue\",\"blue\",\"blue\",\"blue\",\"blue\",\"blue\",\"blue\",\"blue\",\"blue\",\"blue\",\"blue\",\"blue\",\"blue\",\"blue\",\"blue\",\"blue\",\"blue\",\"blue\",\"blue\",\"blue\",\"blue\",\"blue\",\"blue\",\"blue\",\"blue\",\"blue\",\"blue\",\"blue\",\"blue\",\"blue\",\"blue\",\"blue\",\"blue\",\"blue\",\"blue\",\"blue\",\"blue\",\"blue\",\"blue\",\"blue\",\"blue\",\"blue\",\"blue\",\"blue\",\"blue\",\"blue\",\"blue\",\"blue\",\"blue\",\"blue\",\"blue\",\"blue\",\"blue\",\"blue\",\"blue\",\"blue\",\"blue\",\"blue\",\"blue\",\"blue\",\"blue\",\"blue\",\"blue\",\"blue\",\"blue\",\"blue\",\"blue\",\"blue\",\"blue\",\"blue\",\"blue\",\"blue\",\"blue\",\"blue\",\"blue\",\"blue\",\"blue\",\"blue\",\"blue\",\"blue\",\"blue\",\"blue\",\"blue\",\"blue\",\"blue\",\"blue\",\"blue\",\"blue\",\"blue\",\"blue\",\"blue\",\"blue\",\"blue\",\"blue\",\"blue\",\"blue\",\"blue\",\"blue\",\"blue\",\"blue\",\"blue\",\"blue\",\"blue\",\"blue\",\"blue\",\"blue\",\"blue\",\"blue\",\"blue\",\"blue\",\"blue\",\"blue\",\"blue\",\"blue\",\"blue\",\"blue\",\"blue\",\"blue\",\"blue\",\"blue\",\"blue\",\"blue\",\"blue\",\"blue\",\"blue\",\"blue\",\"blue\",\"blue\",\"blue\",\"blue\",\"blue\",\"blue\",\"blue\",\"blue\",\"blue\",\"blue\",\"blue\",\"blue\",\"blue\",\"blue\",\"blue\",\"blue\",\"blue\",\"blue\",\"blue\",\"blue\",\"blue\",\"blue\",\"blue\",\"blue\",\"blue\",\"blue\",\"blue\",\"blue\",\"blue\",\"blue\",\"blue\",\"blue\",\"blue\",\"blue\",\"blue\",\"blue\",\"blue\",\"blue\",\"blue\",\"blue\",\"blue\",\"blue\",\"blue\",\"blue\",\"blue\",\"blue\",\"blue\",\"blue\",\"blue\",\"blue\",\"blue\",\"blue\",\"blue\",\"blue\",\"blue\",\"blue\",\"blue\",\"blue\",\"blue\",\"blue\",\"blue\",\"blue\",\"blue\",\"blue\",\"blue\",\"blue\",\"blue\",\"blue\",\"blue\",\"blue\",\"blue\",\"blue\",\"blue\",\"blue\",\"blue\",\"blue\",\"blue\",\"blue\",\"blue\",\"blue\",\"blue\",\"blue\",\"blue\",\"blue\",\"blue\",\"blue\",\"blue\",\"blue\",\"blue\",\"blue\",\"blue\",\"blue\",\"blue\",\"blue\",\"blue\",\"blue\",\"blue\",\"blue\",\"blue\",\"blue\",\"blue\",\"blue\",\"blue\",\"blue\",\"blue\",\"blue\",\"blue\",\"blue\",\"blue\",\"blue\",\"blue\",\"blue\",\"blue\",\"blue\",\"blue\",\"blue\",\"blue\",\"blue\",\"blue\",\"blue\",\"blue\",\"blue\",\"blue\",\"blue\",\"blue\",\"blue\",\"blue\",\"blue\",\"blue\",\"blue\",\"blue\",\"blue\",\"blue\",\"blue\",\"blue\",\"blue\",\"blue\",\"blue\",\"blue\",\"blue\",\"blue\",\"blue\",\"blue\",\"blue\",\"blue\",\"blue\",\"blue\",\"blue\",\"blue\",\"blue\",\"blue\",\"blue\",\"blue\",\"blue\",\"blue\",\"blue\",\"blue\",\"blue\",\"blue\",\"blue\",\"blue\",\"blue\",\"blue\",\"blue\",\"blue\",\"blue\",\"blue\",\"blue\",\"blue\",\"blue\",\"blue\",\"blue\",\"blue\",\"blue\",\"blue\",\"blue\",\"blue\",\"blue\",\"blue\",\"blue\",\"blue\",\"blue\",\"blue\",\"blue\",\"blue\",\"blue\",\"blue\",\"blue\",\"blue\",\"blue\",\"blue\",\"blue\",\"blue\",\"blue\",\"blue\",\"blue\",\"blue\",\"blue\",\"blue\",\"blue\",\"blue\",\"blue\",\"blue\",\"blue\",\"blue\",\"blue\",\"blue\",\"blue\",\"blue\",\"blue\",\"blue\",\"blue\",\"blue\",\"blue\",\"blue\",\"blue\",\"blue\",\"blue\",\"blue\",\"blue\",\"blue\",\"blue\",\"blue\",\"blue\",\"blue\",\"blue\",\"blue\",\"blue\",\"blue\",\"blue\",\"blue\",\"blue\",\"blue\",\"blue\",\"blue\",\"blue\",\"blue\",\"blue\",\"blue\",\"blue\",\"blue\",\"blue\",\"blue\",\"blue\",\"blue\",\"blue\",\"blue\",\"blue\",\"blue\",\"blue\",\"blue\",\"blue\",\"blue\",\"blue\",\"blue\",\"blue\",\"blue\",\"blue\",\"blue\",\"blue\",\"blue\",\"blue\",\"blue\",\"blue\",\"blue\",\"blue\",\"blue\",\"blue\",\"blue\",\"blue\",\"blue\",\"blue\",\"blue\",\"blue\",\"blue\",\"blue\",\"blue\",\"blue\",\"blue\",\"blue\",\"blue\",\"blue\",\"blue\",\"blue\",\"blue\",\"blue\",\"blue\",\"blue\",\"blue\",\"blue\",\"blue\",\"blue\",\"blue\",\"blue\",\"blue\",\"blue\",\"blue\",\"blue\",\"blue\",\"blue\",\"blue\",\"blue\",\"blue\",\"blue\",\"blue\",\"blue\",\"blue\",\"blue\",\"blue\",\"blue\",\"blue\",\"blue\",\"blue\",\"blue\",\"blue\",\"blue\",\"blue\",\"blue\",\"blue\",\"blue\",\"blue\",\"blue\",\"blue\",\"blue\",\"blue\",\"blue\",\"blue\",\"blue\",\"blue\",\"blue\",\"blue\",\"blue\",\"blue\",\"blue\",\"blue\",\"blue\",\"blue\",\"blue\",\"blue\",\"blue\",\"blue\",\"blue\",\"blue\",\"blue\",\"blue\",\"blue\",\"blue\",\"blue\",\"blue\",\"blue\",\"blue\",\"blue\",\"blue\",\"blue\",\"blue\",\"blue\",\"blue\",\"blue\",\"blue\",\"blue\",\"blue\",\"blue\",\"blue\",\"blue\",\"blue\",\"blue\",\"blue\",\"blue\",\"blue\",\"blue\",\"blue\",\"blue\",\"blue\",\"blue\",\"blue\",\"blue\",\"blue\",\"blue\",\"blue\",\"blue\",\"blue\",\"blue\",\"blue\",\"blue\",\"blue\",\"blue\",\"blue\",\"blue\",\"blue\",\"blue\",\"blue\",\"blue\",\"blue\",\"blue\",\"blue\",\"blue\",\"blue\",\"blue\",\"blue\",\"blue\",\"blue\",\"blue\",\"blue\",\"blue\",\"blue\",\"blue\",\"blue\",\"blue\",\"blue\",\"blue\",\"blue\",\"blue\",\"blue\",\"blue\",\"blue\",\"blue\",\"blue\",\"blue\",\"blue\",\"blue\",\"blue\",\"blue\",\"blue\",\"blue\",\"blue\",\"blue\",\"blue\",\"blue\",\"blue\",\"blue\",\"blue\",\"blue\",\"blue\",\"blue\",\"blue\",\"blue\",\"blue\",\"blue\",\"blue\",\"blue\",\"blue\",\"blue\",\"blue\",\"blue\",\"blue\",\"blue\",\"blue\",\"blue\",\"blue\",\"blue\",\"blue\",\"blue\",\"blue\",\"blue\",\"blue\",\"blue\",\"blue\",\"blue\",\"blue\",\"blue\",\"blue\",\"blue\",\"blue\",\"blue\",\"blue\",\"blue\",\"blue\",\"blue\",\"blue\",\"blue\",\"blue\",\"blue\",\"blue\",\"blue\",\"blue\",\"blue\",\"blue\",\"blue\",\"blue\",\"blue\",\"blue\",\"blue\",\"blue\",\"blue\",\"blue\",\"blue\",\"blue\",\"blue\",\"blue\",\"blue\",\"blue\",\"blue\",\"blue\",\"blue\",\"blue\",\"blue\",\"blue\",\"blue\",\"blue\",\"blue\",\"blue\",\"blue\",\"blue\",\"blue\",\"blue\",\"blue\",\"blue\",\"blue\",\"blue\",\"blue\",\"blue\",\"blue\",\"blue\",\"blue\",\"blue\",\"blue\",\"blue\",\"blue\",\"blue\",\"blue\",\"blue\",\"blue\",\"blue\",\"blue\",\"blue\",\"blue\",\"blue\",\"blue\",\"blue\",\"blue\",\"blue\",\"blue\",\"blue\",\"blue\",\"blue\",\"blue\",\"blue\",\"blue\",\"blue\",\"blue\",\"blue\",\"blue\",\"blue\",\"blue\",\"blue\",\"blue\",\"blue\",\"blue\",\"blue\",\"blue\",\"blue\",\"blue\",\"blue\",\"blue\",\"blue\",\"blue\",\"blue\",\"blue\",\"blue\",\"blue\",\"blue\",\"blue\",\"blue\",\"blue\",\"blue\",\"blue\",\"blue\",\"blue\",\"blue\",\"blue\",\"blue\",\"blue\",\"blue\",\"blue\",\"blue\",\"blue\",\"blue\",\"blue\",\"blue\",\"blue\",\"blue\",\"blue\",\"blue\",\"blue\",\"blue\",\"blue\",\"blue\",\"blue\",\"blue\",\"blue\",\"blue\",\"blue\",\"blue\",\"blue\",\"blue\",\"blue\",\"blue\",\"blue\",\"blue\",\"blue\",\"blue\",\"blue\",\"blue\",\"blue\",\"blue\",\"blue\",\"blue\",\"blue\",\"blue\",\"blue\",\"blue\",\"blue\",\"blue\",\"blue\",\"blue\",\"blue\",\"blue\",\"blue\",\"blue\",\"blue\",\"blue\",\"blue\",\"blue\",\"blue\",\"blue\",\"blue\",\"blue\",\"blue\",\"blue\",\"blue\",\"blue\",\"blue\",\"blue\",\"blue\",\"blue\",\"blue\",\"blue\",\"blue\",\"blue\",\"blue\",\"blue\",\"blue\",\"blue\",\"blue\",\"blue\",\"blue\",\"blue\",\"blue\",\"blue\",\"blue\",\"blue\",\"blue\",\"blue\",\"blue\",\"blue\",\"blue\",\"blue\",\"blue\",\"blue\",\"blue\",\"blue\",\"blue\",\"blue\",\"blue\",\"blue\",\"blue\",\"blue\",\"blue\",\"blue\",\"blue\",\"blue\",\"blue\",\"blue\",\"blue\",\"blue\",\"blue\",\"blue\",\"blue\",\"blue\",\"blue\",\"blue\",\"blue\",\"blue\",\"blue\",\"blue\",\"blue\",\"blue\",\"blue\",\"blue\",\"blue\",\"blue\",\"blue\",\"blue\",\"blue\",\"blue\",\"blue\",\"blue\",\"blue\",\"blue\",\"blue\",\"blue\",\"blue\",\"blue\",\"blue\",\"blue\",\"blue\",\"blue\",\"blue\",\"blue\",\"blue\",\"blue\",\"blue\",\"blue\",\"blue\",\"blue\",\"blue\",\"blue\",\"blue\",\"blue\",\"blue\",\"blue\",\"blue\",\"blue\",\"blue\",\"blue\",\"blue\",\"blue\",\"blue\",\"blue\",\"blue\",\"blue\",\"blue\",\"blue\",\"blue\",\"blue\",\"blue\",\"blue\",\"blue\",\"blue\",\"blue\",\"blue\",\"blue\",\"blue\",\"blue\",\"blue\",\"blue\",\"blue\",\"blue\",\"blue\",\"blue\",\"blue\",\"blue\",\"blue\",\"blue\",\"blue\",\"blue\",\"blue\",\"blue\",\"blue\",\"blue\",\"blue\",\"blue\",\"blue\",\"blue\",\"blue\",\"blue\",\"blue\",\"blue\",\"blue\",\"blue\",\"blue\",\"blue\",\"blue\",\"blue\",\"blue\",\"blue\",\"blue\",\"blue\",\"blue\",\"blue\",\"blue\",\"blue\",\"blue\",\"blue\",\"blue\",\"blue\",\"blue\",\"blue\",\"blue\",\"blue\",\"blue\",\"blue\",\"blue\",\"blue\",\"blue\",\"blue\",\"blue\",\"blue\",\"blue\",\"blue\",\"blue\",\"blue\",\"blue\",\"blue\",\"blue\",\"blue\",\"blue\",\"blue\",\"blue\",\"blue\",\"blue\",\"blue\",\"blue\",\"blue\",\"blue\",\"blue\",\"blue\",\"blue\",\"blue\",\"blue\",\"blue\",\"blue\",\"blue\",\"blue\",\"blue\",\"blue\",\"blue\",\"blue\",\"blue\",\"blue\",\"blue\",\"blue\",\"blue\",\"blue\",\"blue\",\"blue\"],\"token\":[\"<user>\",\".\",\":\",\"rt\",\",\",\"<repeat>\",\"<hashtag>\",\"<number>\",\"<url>\",\"!\",\"i\",\"a\",\"\\\"\",\"the\",\"?\",\"you\",\"to\",\"(\",\"<allcaps>\",\"<elong>\",\")\",\"me\",\"de\",\"<smile>\",\"\\uff01\",\"que\",\"and\",\"\\u3002\",\"-\",\"my\",\"no\",\"\\u3001\",\"is\",\"it\",\"\\u2026\",\"in\",\"n\",\"for\",\"/\",\"of\",\"la\",\"'s\",\"*\",\"do\",\"n't\",\"that\",\"on\",\"y\",\"'\",\"e\",\"o\",\"u\",\"en\",\"this\",\"el\",\"so\",\"be\",\"'m\",\"with\",\"just\",\">\",\"your\",\"^\",\"like\",\"have\",\"te\",\"at\",\"\\uff1f\",\"love\",\"se\",\"are\",\"<\",\"m\",\"r\",\"if\",\"all\",\"b\",\"\\u30fb\",\"not\",\"but\",\"we\",\"es\",\"ya\",\"&\",\"follow\",\"up\",\"what\",\"get\",\"lol\",\"un\",\"\\u2665\",\"lo\",\"when\",\"was\",\"\\u201c\",\"\\u201d\",\"one\",\"por\",\"si\",\"out\",\"_\",\"mi\",\"can\",\"<sadface>\",\"\\u0645\\u0646\",\"\\u2661\",\"\\u00b4\",\"he\",\"con\",\"they\",\"now\",\"go\",\"\\u060c\",\"para\",\"los\",\"know\",\"haha\",\"good\",\"tu\",\"back\",\"~\",\"about\",\"new\",\";\",\"as\",\"day\",\"how\",\"who\",\"will\",\"want\",\"people\",\"yo\",\"eu\",\"from\",\"di\",\"time\",\"<heart>\",\"s\",\"aku\",\"da\",\"'re\",\"<lolface>\",\"una\",\"got\",\"las\",\"more\",\"x\",\"she\",\"today\",\"\\uff08\",\">>\",\"k\",\"by\",\"or\",\"\\u0641\\u064a\",\"\\uff65\",\"too\",\"le\",\"\\u00e9\",\"|\",\"[\",\"\\uff09\",\"]\",\"see\",\"why\",\"yg\",\"ca\",\"como\",\"her\",\"\\u2014\",\"q\",\"need\",\"an\",\"na\",\"\\u7b11\",\"there\",\"\\u03c9\",\"happy\",\"im\",\"mas\",\"je\",\"life\",\"really\",\"make\",\"yang\",\"shit\",\"think\",\"t\",\"\\u2764\",\"n\\u00e3o\",\"never\",\"some\",\"\\uff5e\",\"oh\",\"\\u2605\",\"did\",\"would\",\"del\",\"`\",\"d\",\"please\",\"via\",\"much\",\"fuck\",\"al\",\"dia\",\"$\",\"\\u0648\",\"right\",\"best\",\"c\",\"going\",\"\\u0627\\u0644\\u0644\\u0647\",\"pero\",\"only\",\"has\",\"\\u266a\",\"'ll\",\"twitter\",\"=\",\"hahaha\",\"its\",\"nn\",\"\\uff40\",\"\\u00bf\",\"am\",\"say\",\"<neutralface>\",\"them\",\"here\",\"\\u0644\\u0627\",\"off\",\"still\",\"dan\",\"+\",\"night\",\"w\",\"ada\",\"someone\",\"even\",\"then\",\"\\u2606\",\"ni\",\"come\",\"com\",\"always\",\"man\",\"'ve\",\"been\",\"his\",\"itu\",\"\\u0639\\u0644\\u0649\",\"-_-\",\"\\u263a\",\"over\",\"um\",\"\\u0645\\u0627\",\"hate\",\"girl\",\"ai\",\"had\",\"pra\",\"todo\",\"mais\",\"feel\",\"let\",\"ini\",\"because\",\"\\uff9f\",\"thanks\",\"ah\",\"way\",\"ever\",\"look\",\"tweet\",\"followers\",\"should\",\"our\",\"xd\",\"aja\",\"esta\",\"school\",\"him\",\"ser\",\"take\",\"than\",\"video\",\"em\",\"last\",\"wanna\",\"does\",\"us\",\"miss\",\"l\",\"ga\",\"better\",\"well\",\"could\",\"\\u25bd\",\"%\",\"apa\",\"cuando\",\"team\",\"\\u2714\",\"@\",\"ok\",\"\\u061f\",\"\\u2022\",\"vida\",\"quiero\",\"les\",\"being\",\"real\",\"down\",\"kamu\",\"everyone\",\"gonna\",\"live\",\"tonight\",\"yes\",\"work\",\"ass\",\"retweet\",\"nada\",\"sama\",\"first\",\"<<\",\"photo\",\"tomorrow\",\"where\",\"god\",\"son\",\"ke\",\"ta\",\"f\",\"home\",\"lagi\",\"thank\",\"birthday\",\"\\u2588\",\"ha\",\"great\",\"lmao\",\"omg\",\"morning\",\"m\\u00e1s\",\"mau\",\"baby\",\"dont\",\"\\uff61\",\"their\",\"p\",\"things\",\"game\",\"pas\",\"bad\",\"year\",\"yeah\",\"su\",\"bitch\",\"\\u0432\",\"stop\",\"hoy\",\"something\",\"meu\",\"tak\",\"gak\",\"world\",\"amor\",\"h\",\"\\\\\",\"ver\",\"\\uff1b\",\"porque\",\"give\",\"these\",\"\\u0627\\u0644\\u0644\\u0647\\u0645\",\"were\",\"hay\",\"sleep\",\"gue\",\"every\",\"friends\",\"uma\",\"tell\",\"amo\",\"vou\",\"bien\",\"\\u00a1\",\"again\",\"\\uff3e\",\"\\uff0f\",\"done\",\"after\",\"todos\",\"girls\",\"guys\",\"getting\",\"big\",\"wait\",\"justin\",\"eh\",\"\\u2192\",\"kan\",\"kita\",\"jajaja\",\"wish\",\"said\",\"fucking\",\"show\",\"thing\",\"next\",\"voc\\u00ea\",\"nos\",\"little\",\"tengo\",\"keep\",\"person\",\"''\",\"\\u2200\",\"hope\",\"\\u0643\\u0644\",\"hey\",\"bisa\",\"free\",\"made\",\"foto\",\"va\",\"everything\",\"iya\",\"nigga\",\"eso\",\"et\",\"watch\",\"music\",\"week\",\"talk\",\"ne\",\"solo\",\"gente\",\"udah\",\"\\uff1a\",\"--\",\"\\uff3c\",\"mejor\",\"facebook\",\"ma\",\"v\",\"phone\",\"most\",\"same\",\"okay\",\"ik\",\"before\",\"minha\",\"days\",\"g\",\"ti\",\"damn\",\"nice\",\"voy\",\"vai\",\"call\",\"long\",\"tapi\",\"http\",\"sin\",\"nunca\",\"doing\",\"other\",\"find\",\"il\",\"sa\",\"sorry\",\"nya\",\"orang\",\"\\u00b0\",\"hard\",\"mean\",\"die\",\"\\u0627\\u0644\\u0644\\u064a\",\"tem\",\"soy\",\"este\",\"kalo\",\"s\\u00f3\",\"th\",\"win\",\"nothing\",\"into\",\"face\",\"cute\",\"'d\",\"gracias\",\"lah\",\"\\u0438\",\"any\",\"play\",\"\\u2190\",\"ko\",\"text\",\"\\u2323\",\"estoy\",\"tau\",\"ur\",\"buat\",\"#\",\"cause\",\"\\u044f\",\"put\",\"kau\",\"siempre\",\"juga\",\"casa\",\"\\u0623\\u0646\",\"help\",\"start\",\"feliz\",\"old\",\"ir\",\"very\",\"care\",\"bir\",\"makes\",\"song\",\"check\",\"watching\",\"ahora\",\"jadi\",\"os\",\"may\",\"friend\",\"beautiful\",\"heart\",\"ka\",\"vc\",\"mundo\",\"\\u043d\\u0430\",\"sure\",\"tan\",\"pretty\",\"aqui\",\"\\u043d\\u0435\",\"house\",\"\\u0631\\u062a\\u0648\\u064a\\u062a\",\"\\u064a\\u0627\",\"ja\",\"true\",\"muy\",\"away\",\"already\",\"actually\",\"believe\",\"try\",\"many\",\"ma\\u00f1ana\",\"mis\",\"lu\",\"those\",\"hot\",\"qu\\u00e9\",\"mal\",\"\\u0639\\u0646\",\"though\",\"ask\",\"amazing\",\"bed\",\"}\",\"two\",\"mom\",\"d\\u00eda\",\"ve\",\"dari\",\"gameinsight\",\"stay\",\"fun\",\"around\",\"van\",\"cont\",\"ready\",\"money\",\"bu\",\"funny\",\"cool\",\"hair\",\"\\u00e0\",\"tho\",\"{\",\"wo\",\"hi\",\"name\",\"tiene\",\"hahahaha\",\"pa\",\"algo\",\"gotta\",\"\\u0648\\u0644\\u0627\",\"boy\",\"another\",\"c'est\",\"hari\",\"jajajaja\",\"having\",\"cara\",\"jaja\",\"dm\",\"looking\",\"top\",\"android\",\"dah\",\"wow\",\"\\u2591\",\"eres\",\"ben\",\"must\",\"news\",\"met\",\"est\\u00e1\",\"nih\",\"family\",\"black\",\"thought\",\"nak\",\"super\",\"end\",\"hace\",\"remember\",\"ama\",\"party\",\"cant\",\"vamos\",\"anything\",\"anyone\",\"\\u0641\\u0648\\u0644\\u0648\",\"perfect\",\"guy\",\"vez\",\"christmas\",\"dos\",\"bueno\",\"nao\",\"years\",\"vote\",\"dormir\",\"bro\",\"else\",\"quien\",\"untuk\",\"jangan\",\"myself\",\"head\",\"mind\",\"gua\",\"talking\",\"while\",\"dat\",\"food\",\"\\u0434\",\"coming\",\"wkwk\",\"trying\",\"saya\",\"mucho\",\"without\",\"wrong\",\"\\u2019s\",\"baru\",\"__\",\"hehe\",\"hacer\",\"lot\",\"followed\",\"crazy\",\"hell\",\"feeling\",\"des\",\"kok\",\"j\",\"stats\",\"j'\",\"\\u0627\\u0646\",\"tweets\",\"non\",\"cosas\",\"era\",\"high\",\"niggas\",\"change\",\"movie\",\"xx\",\"mad\",\"sih\",\"sometimes\",\"deh\",\"allah\",\"through\",\"pour\",\"ela\",\"soon\",\"gone\",\"playing\",\"smile\",\"bukan\",\"tv\",\"fans\",\"hasta\",\"akan\",\"y'\",\"looks\",\"isso\",\"\\u270c\",\"tired\",\"boys\",\"might\",\"dong\",\"lg\",\"use\",\"maybe\",\"until\",\"menos\",\"own\",\"dengan\",\"eat\",\"ou\",\"weekend\",\"\\u02d8\",\"class\",\"ele\",\"harry\",\"iphone\",\"friday\",\"single\",\"ff\",\"awesome\",\"bout\",\"muito\",\"hoje\",\"\\u00ac\",\"dios\",\"such\",\"estar\",\"j\\u00e1\",\"quando\",\"esa\",\"making\",\"\\u2501\",\"times\",\"lmfao\",\"gw\",\"moment\",\"yet\",\"aw\",\"smh\",\"banget\",\"masih\",\"qui\",\"quem\",\"\\u2013\",\"leave\",\"du\",\"une\",\"guess\",\"hit\",\"\\u0441\",\"pm\",\"since\",\"pues\",\"est\",\"job\",\"\\uff89\",\"mana\",\"bom\",\"siapa\",\"suka\",\"bieber\",\"mention\",\"lebih\",\"favorite\",\"bitches\",\"forever\",\"\\u0644\\u064a\",\"final\",\"read\",\"alguien\",\"open\",\"yourself\",\"ese\",\"che\",\"sex\",\"yaa\",\"car\",\"direction\",\"tidak\",\"seu\",\"gets\",\"left\",\"re\",\"jam\",\"enough\",\"\\u0625\\u0644\\u0627\",\"once\",\"\\u2019\",\"part\",\"cada\",\"\\u5b9a\\u671f\",\"\\u0644\\u0643\",\"een\",\"seen\",\"kak\",\"as\\u00ed\",\"nem\",\"\\u0639\\u0645\\u0644\",\"white\",\"told\",\"says\",\"esto\",\"sad\",\"mo\",\"fue\",\"yah\",\"summer\",\"\\u0647\",\"\\u2b55\",\"\\u00bb\",\"thats\",\"\\u0645\\u0639\",\"posted\",\"wants\",\"agora\",\"together\",\"fan\",\"men\",\"hear\",\"full\",\"\\u2600\",\"sigo\",\"pq\",\"dulu\",\"plus\",\"foi\",\"tudo\",\"\\u0647\\u0648\",\"ill\",\"\\u3042\",\"thinking\",\"wtf\",\"pagi\",\"mama\",\"kalau\",\"hati\",\"sexy\",\"sayang\",\"baik\",\"semua\",\"hola\",\"went\",\"vos\",\"tanto\",\"finally\",\"fb\",\"sea\",\"stupid\",\"tus\",\"seriously\",\"hora\",\"min\",\"pic\",\"estas\",\"turn\",\"hours\",\"excited\",\"nah\",\"buy\",\"saying\",\"mah\",\"break\",\"needs\",\"ce\",\"room\",\"choice\",\"far\",\"dead\",\"quero\",\"saw\",\"kids\",\"lil\",\"whole\",\"puede\",\"fall\",\"sus\",\"lost\",\"asi\",\"word\",\"\\u2639\",\"also\",\"\\u0631\\u064a\\u062a\\u0648\\u064a\\u062a\",\"probably\",\"everybody\",\"tarde\",\"run\",\"sei\",\"follback\",\"forget\",\"sweet\",\"welcome\",\"selamat\",\"\\uff3f\",\"sur\",\"place\",\"gusta\",\"sabe\",\"androidgames\",\"tp\",\"tiempo\",\"\\u0628\\u0633\",\"sou\",\"tuh\",\"vs\",\"eyes\",\"\\u0627\\u0646\\u0627\",\"picture\",\"das\",\"meet\",\"anak\",\"persona\",\"essa\",\"bored\",\"following\",\"nadie\",\"nobody\",\"dice\",\"alone\",\"sick\",\"red\",\"city\",\"cinta\",\"\\u6708\",\"linda\",\"dream\",\"story\",\"km\",\"het\",\"waiting\",\"^_^\",\"mine\",\"\\u0447\\u0442\\u043e\",\"reason\",\"kk\",\"\\u0644\\u0648\",\"online\",\"fast\",\"udh\",\"wanted\",\"op\",\"others\",\"gay\",\"n\\u2019t\",\"used\",\"sem\",\"understand\",\"moi\",\"sm\",\"aint\",\"donde\",\"bem\",\"which\",\"ng\",\"followback\",\"punya\",\"late\",\"anda\",\"tidur\",\"puedo\",\"early\",\"nd\",\"personas\",\"banyak\",\"\\u2705\",\"\\u278a\",\"trust\",\"noche\",\"tl\",\"\\uff1e\",\"\\u00ab\",\"af\",\"move\",\"pro\",\"bring\",\"ku\",\"called\",\"relationship\",\"idk\",\"hurt\",\"st\",\"pernah\",\"pessoas\",\"hello\",\"uno\",\"unfollowers\",\"cry\"],\"x\":{\"__ndarray__\":\"xb3GPrJJmz5Pqfs+RCPKPmrvqz7B5dk+RVtWPv1OqT6psJk+DomMPg73jL+DgAK9FmHJPlCRor+YkqM+z+yqv9zRgb8Rrxc/0HYOPwoqLz+whBk/lF9jvbt9vT8lr8I+Rx2FPkya1j/ps7S/leQYPoUv0D6hO6O/qEabPoNGhz6e9Ke/fMq2v00kCz/dNIy/KuQNP5PBj78mafU+y9eivxj9nz9wtoW/5fULPwg1Er8dWMW/O77VvxE1bb+7SZo//y20PkCIPz+pj3k/ehZhvnHrqD8QHLG/ybCkPy0XVr9FIJ6/UvGZv97ap7/N9bi/N0yWPsqfvb8tohg/+lqTv8tsw7+X3cU/H8SAv+EbpD5jPEq/NirNP3HCor8cyac+ZnazPjYJWT7II7i/boSdv0nASD71LLk+6empvz6Ku7+HuH6/DMjAP3ZDJT+RsbG+rjZPvqj1jL+jaaa/LHC7v13GN79ij6c/6apNPx7Gxj9Qws6/+iO0v9Hjkz6Y5Mo9wYFNv4pG0z/o87c//Eqcv2LOPj9zjp8/cU+kv+APFj95K8g/o7w7P/ingT+ZGx2/j1alP/UX278DCJa/Wv5rv+7Hrz85T9s/ocuhPwEVq79/6yI8FuWHv1emvz//QEy/JiXRPmYitr9bUFG/nvzUPgYi976uiWq/Dvq0v0Ebr7+wsqC/nlyfv0hmrr9BYvk+2liXP68Knb/AXUU//A9Gvy2rvT4L59M+LVYIP67yLj+zd7W/yDYCPyPttz+Nyae/Yt6mP/Vsir/aL8E+iH6uv5jjmr9XDrU+GUOFvZSyHj9O01S/ZMiLv54aoD+M/BE/rZyKv7Dehz+zk50/ktUEP1yB7j75nbw+EKnZPpX9i78EKpu/wPH3PhfCOr9YvNo/wPqSv7nTRT+NCK0/DRqZv9YGOb8MeSY/qhcOP/KIwb9hmkA/quwDvzJPjb/dSNM/7xEPP538f79Mz7i/tuCRvypiEj8Yp5O/Fq+/vx8Yuz5RxyU+0y+0Pw9Wkr9LBqe/PDiTPu4IML5RCAM/rKa6v5jUwr8Z75s/ApjoPhazFT+MkRO/E7JHPi1Pmb9VsmK/se1wP4fksz8blJg+ehagPwojqb/760q/GX8LPxB0uL/92aE/nLKuP7wTo7+YHzi/YIFePyU2rb9+Pj8+5JDZPlLOhj7huqm/ByQIP7yobD+YI6w/b+MNv7ksc78Saz8/yPTEv8LIjr97Xq0/Y5ZDvz8tqL/f90g/bGoeP/ZXXL88H1m+UOQAP8U3qb+dd6y/lWiqvzZ7BT81s0Y/ZsYkv7b7eT+PRZ2/nCYLvzs1v79fO7S/VDasv1YeKD8P65M/KVazPgsH3z73/4+/LIMYP58stT+T8pe/XO5sv34M1j1Geay/c+WlP6OC1D9E2aA/nX2Xv/v/iL8zJyM/xuC6v8bhPT9QOyy/SdgQPyl8ir9pZI2/S/6Cv8Fc071Hyrq9KT25v9uJnb/lxTQ/b3hdPxSh0D/urH6/3O6uv4w81D+G54m/GI2qv8hbtbzh7sY+q1CEvzrEnL8/oLi/G7x1v9CD8L67ULo+I1QNP0nspb+OuJe/yHu/v6MqHj8aLaI+o7EzP1L9yz+vXdK+9MjZPulrcz7D2h0+dwiHP428JD98T9M/lt2/P+4PhT/8q7a/EA+xvn6kb790BU0/LWusv9ULs79gBtm+lTqSvxD5KL8yYZ+/Ac+QvwLV+70CD9Y/WMQuP9N8kr+nMje+Oyyjvpm9kL/cR5y/o2lZv0fTCz+3blY/ZiRzP2PVXD74L0i/TmwaP8SaW78qee6+jMwmP/uY2j5PfJe/tzqDv+gz3r7Pd0O/3dXTP4YbXT8009y+k3CKv+nUHz9Yyb+/rZAgP5YCiL/DZS2/6LY0P8ZKX78fkIa/fcYzvzFSrD863E6/gcrqPtzMVr/UNsA/1yGfvy2Zmj/7sOo+Bn5FPyUcRL/NYuI/7VXyPrKLRD9h6bg/4PkVPywu3D8CT5G/RHq4v0AyqD9GW7a/wbGjP17kir+1dzQ/g42vv8D5Y7+pzpQ/Ay+av+8gqj/7KKM/4Km8P2Tvpj/273i/sIkkP43+wT7uFX6/E7iRv/fq2j/30XK/YWKGv8Whtb/zyiC/lCh5v4tAFT5i7E8//S8hP76PFz8p6RY/Xjy7PwZZbr/ZipW/e1yBvx8Rwb6KBqC/CS9yv+FTvT/a7r8/9o9RvwjwvT/8PX6/UtmWvznLXT8pn0I/m42Nv+8ymj/Ijw2+zLQ1P6CRFL+ulou/DxS0P2KFlD+h3Z+/I+A/P3QDhb+rV8o/+t3IPh32hr80zg6/XQRyvykqk7/+wUc/Uh+KP+z/2D848EM/892BPg6+tT5T3Rc/SfLEPxVRaz4l6Xc+OqLEPrL9Sr9jeZi/BpiJv5CtAr9enye+Jr+fvx5dnj93gYi/g/SiPjopqD9NY4q/9elPv8KLvz8EtaQ/QeFIvy92YL9M7ig/HwaoPvG1fT8ZRN4/G26tv+4UsL/WOY6/25vlPkgNfj5cBdW+f2IgPyUrKD8nxm4/HKhnv6t8jL9A/uy+zMOrP0IpoD/qjKs/Ff7PP1w/PT9qm6U/Lf02vxRfR7+qu42/PlKlv0TJjL4/xD6/zbd0v1rguD8zQLs+LOkoP/Kpmb8WEh+/GTc2P03Ggz4q1F+/YAwdP+dDvz+bcjU/bkCNvyjOCz+JXck+7+2Pv+M7GD/8cXG/lo7lPimIzT/3FUI/CJ+5P4eFqT9gKU+/vXmCvy4U2j8twYG/GnmwPxdYgb+uoUq/uh5EP/dYlb/CEje/hF43v/mEj785Bb8/5swwP2t4mj9E2yi/G8ZMv7udT7/77Ti/XhO0PvuMlD8yhdQ/DpsDP4cEgb/XXW4/fSqAv7xzxj87YkU/Umw9vzndmT8Qhoc/Lu2NP7hzOL8N28E/7LqJv9Lapb+/26+/ycAkv4Cagr/JGqS/X9O6P6gpkT9vbno/iJG2v4EiAr++48s/k6zDPw4iuT/pQay/npGBvtVKf7/OoX6/0twWP8Tnh7+8n2e/oPnTPwMjjj+kKR0/Z8+UPUXnT7+sXEq/D+2dvxKTIj+iJrM+vJg2v10wZL9pFjQ/326Mv8zaAr9QmmK/SaREP1oagb9AhxQ/YZQ/v4O5Mb5h02O/sMzCP/sYpD6rA2k/EYjfP4aumb93+q8/aq7zvpZTi78edfw+dKESP8PtuT/viqy/m9u6P8Odvj+bTKQ+GhCdv6FnKb5HPYU+G1emPhmtib7AbTw/wWnFPxbJiT6ecoa/3dOuvgsNob6xKs4/uB8qP2StN7/sLvq+60yvv374mz4gQ4w+NIpavz3Wwj+QiYC/NU+WP5u06L47fYy/RIXDP8xOrb/ZT6W/ZFOWP1SQL7+t/4+/3IzWPyvLZL8Ym60/B2uxPxq7mT/bH4O/0qINvnl61D/gXpW+VfSgv17o0z/u/yY/i2k2PwU5qL/wA42/JkaIv+AmQT/blZy/vhmiv8xEPL8+EXC/32pZPzXUgb+5dz4/g2Gxv6+iDD/Lcrg/34Gcvz0cor8Cx2e/zsMZP7hdAz+FMqw+N0jIP3wiib8ybdm+UqRkv8lner8wZ16/n8wnP5YzRD8d6XM+2ir7vkc2+z6fkas/fyO5vXnD4z5patU/xT2SPzR1Rb/Jn5S/0A94vz/sJL9FWw++KgFsv5AQMz/x3Zm/rsoMP+shYT5EIae/dyZVPm2Poz/EE1u/FrGZv1L+ar/uqhO/gIIvP9oWBD4BSS++mQnHP9+GND+yVFS/csCEv0Knqj9gkZc9WfuOv4X/Or8Ao7O/ndwOP4rRFD8+gDm/JhVXv1HcoL8YlOM/YEhrvxgZFD9YqYm/VE9QP//7Kr9NNSA/SNZvv858pj9IJMY9DO9XPnxPMb9iQ92+EgUIP7glWL9BpYO/1sSdPyGpoT94HK0/n7PFPyz+kb+yVd8/N/arP6gdqT9YNsM/ne+Uv7cVMj9WSWG/GYdQvxCqGz9KhRC/89Scv41iFD1cPny/an0sP+SbND/SOUI/Jj20P4JrRj43GJG/TnbWPjjpKj+Gt42/bQVHv21+AT8r1YM90MyKv9rcvz85/O8+z+9Ov+Y2JD+VBls/8SuaP43iOj9+LyE/SukUPsGb/Lwl4i0/RLUsv5XzUr9ttcS+hDqkP8/1Bj8ev2G/l+7TP1ev+L44ZZS/MbSxP+g2gj/92ya/7Qs3P3jWKL+4UKc93F1DP3MHpD9yapK/T8CPv4edEz9c1Rs+NWigv1G+uT/zbDa/QXFHPsNaCr/MeNg/PH0RPwPzmT8lt6Y9yXmBv7UFGT/5/9Q/NJqXP52rlT/9/Dq/xJydv2Qydr/Twcc/HwFZv77KhD75Db8/+pdqPteOO7+fB6Q/2NO1PoPLOD+beJi/vCLBP9vjMr/XHGe/5n6ZPwrch7/9TAy+5zmTvjtamb/QYZy+PhKNPr0dzj+0rLc/MokpPxlKob0NwJk/8b+xP6TkrD/t9pu/r614P0vIlb+RkdG+PAM6P7F/zD6PmAc/ec82P0A0Jz1vchE/VFg3PzFIEj+vqZc/WuOavxyswj8qrtQ/u1J3v9vrzD73Wjs/DFCTv+UEyT/Pr4y/l2DUP5Pb0j4epMu+/WfHP/mtc7/fSoy/A3pgv/kTBTt8u36/gp+Wv9TuyD6pZTW/7bBXv6pVRz+rNHO/TYO1vrOpQ7+WKQu/EoOgP6bWPb/OYUy/0UJHv4tFp792h88/TuZZv4btnT9H/WS/IUHLP/ZfRr9UMUM/k+eIv8QhbD+CAra/k0WFv0JR3T+4nTW/Qi6oP0VVMz+mAH2/cP4Gv6CGwL6yrCo/XdxSPxyvKz9+e1e/jzqoP3oL1D/Rq5c+jdIjP+WTzD8A560/5aiWPy2SGT8z/J8+E5Frvx8vlD8/S3u/6YCDP9uGGb+nQj0/RrqqPxh4lz8Vm1S/c/8rvyb30j96g4e/XAKUP3jh7r5phoK/Pl8pvpxQm74NeGw/7ULGPjrapD/siCK/WLrmvqU9Wj9EFg0+LqRwv422eT5pM1q/VdM8P7ivj79dQGc/eeCnP4/Kl7zSeCu/3m86P/u5Lr9X8Sc+yJBQv60uD72OQJy/5jSSvxtqiD8DQ5i/e14IP/y60z7dyJW/q1HLPyA/rz9+85+/2ZUcPn7q/T4jhyY/KLEnv+YUtD/iYUM/oPDAP8Z5j79RHMq+TIPEP9TyIT/yUMg+9+sUP2IEg7+Mi8A/60ivPiZkDT/p8zk/XowrvgY1GL/YTw8/NfiDv6CMFj8wMJG/EkmHvy39QL8VlZa/2HzfvvV3MD/SW6w/mvATvlg1hz8BdwW92H1Vvw==\",\"dtype\":\"float32\",\"shape\":[1000]},\"y\":{\"__ndarray__\":\"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\",\"dtype\":\"float32\",\"shape\":[1000]}},\"selected\":{\"id\":\"1049\",\"type\":\"Selection\"},\"selection_policy\":{\"id\":\"1050\",\"type\":\"UnionRenderers\"}},\"id\":\"1002\",\"type\":\"ColumnDataSource\"},{\"attributes\":{},\"id\":\"1050\",\"type\":\"UnionRenderers\"},{\"attributes\":{\"overlay\":{\"id\":\"1048\",\"type\":\"BoxAnnotation\"}},\"id\":\"1024\",\"type\":\"BoxZoomTool\"},{\"attributes\":{\"ticker\":{\"id\":\"1013\",\"type\":\"BasicTicker\"}},\"id\":\"1016\",\"type\":\"Grid\"},{\"attributes\":{},\"id\":\"1018\",\"type\":\"BasicTicker\"},{\"attributes\":{},\"id\":\"1010\",\"type\":\"LinearScale\"},{\"attributes\":{},\"id\":\"1025\",\"type\":\"SaveTool\"},{\"attributes\":{\"source\":{\"id\":\"1002\",\"type\":\"ColumnDataSource\"}},\"id\":\"1039\",\"type\":\"CDSView\"},{\"attributes\":{\"text\":\"\"},\"id\":\"1042\",\"type\":\"Title\"},{\"attributes\":{\"formatter\":{\"id\":\"1047\",\"type\":\"BasicTickFormatter\"},\"ticker\":{\"id\":\"1013\",\"type\":\"BasicTicker\"}},\"id\":\"1012\",\"type\":\"LinearAxis\"},{\"attributes\":{},\"id\":\"1013\",\"type\":\"BasicTicker\"},{\"attributes\":{},\"id\":\"1023\",\"type\":\"WheelZoomTool\"},{\"attributes\":{\"dimension\":1,\"ticker\":{\"id\":\"1018\",\"type\":\"BasicTicker\"}},\"id\":\"1021\",\"type\":\"Grid\"},{\"attributes\":{},\"id\":\"1045\",\"type\":\"BasicTickFormatter\"},{\"attributes\":{\"formatter\":{\"id\":\"1045\",\"type\":\"BasicTickFormatter\"},\"ticker\":{\"id\":\"1018\",\"type\":\"BasicTicker\"}},\"id\":\"1017\",\"type\":\"LinearAxis\"},{\"attributes\":{\"callback\":null},\"id\":\"1006\",\"type\":\"DataRange1d\"},{\"attributes\":{\"callback\":null},\"id\":\"1004\",\"type\":\"DataRange1d\"},{\"attributes\":{},\"id\":\"1027\",\"type\":\"HelpTool\"},{\"attributes\":{\"fill_alpha\":{\"value\":0.25},\"fill_color\":{\"field\":\"color\"},\"line_alpha\":{\"value\":0.25},\"line_color\":{\"field\":\"color\"},\"size\":{\"units\":\"screen\",\"value\":10},\"x\":{\"field\":\"x\"},\"y\":{\"field\":\"y\"}},\"id\":\"1036\",\"type\":\"Scatter\"},{\"attributes\":{},\"id\":\"1047\",\"type\":\"BasicTickFormatter\"},{\"attributes\":{},\"id\":\"1026\",\"type\":\"ResetTool\"},{\"attributes\":{\"fill_alpha\":{\"value\":0.1},\"fill_color\":{\"value\":\"#1f77b4\"},\"line_alpha\":{\"value\":0.1},\"line_color\":{\"value\":\"#1f77b4\"},\"size\":{\"units\":\"screen\",\"value\":10},\"x\":{\"field\":\"x\"},\"y\":{\"field\":\"y\"}},\"id\":\"1037\",\"type\":\"Scatter\"},{\"attributes\":{\"callback\":null,\"tooltips\":[[\"token\",\"@token\"]]},\"id\":\"1040\",\"type\":\"HoverTool\"},{\"attributes\":{\"active_drag\":\"auto\",\"active_inspect\":\"auto\",\"active_multi\":null,\"active_scroll\":{\"id\":\"1023\",\"type\":\"WheelZoomTool\"},\"active_tap\":\"auto\",\"tools\":[{\"id\":\"1022\",\"type\":\"PanTool\"},{\"id\":\"1023\",\"type\":\"WheelZoomTool\"},{\"id\":\"1024\",\"type\":\"BoxZoomTool\"},{\"id\":\"1025\",\"type\":\"SaveTool\"},{\"id\":\"1026\",\"type\":\"ResetTool\"},{\"id\":\"1027\",\"type\":\"HelpTool\"},{\"id\":\"1040\",\"type\":\"HoverTool\"}]},\"id\":\"1028\",\"type\":\"Toolbar\"},{\"attributes\":{\"data_source\":{\"id\":\"1002\",\"type\":\"ColumnDataSource\"},\"glyph\":{\"id\":\"1036\",\"type\":\"Scatter\"},\"hover_glyph\":null,\"muted_glyph\":null,\"nonselection_glyph\":{\"id\":\"1037\",\"type\":\"Scatter\"},\"selection_glyph\":null,\"view\":{\"id\":\"1039\",\"type\":\"CDSView\"}},\"id\":\"1038\",\"type\":\"GlyphRenderer\"},{\"attributes\":{},\"id\":\"1022\",\"type\":\"PanTool\"},{\"attributes\":{},\"id\":\"1049\",\"type\":\"Selection\"},{\"attributes\":{\"bottom_units\":\"screen\",\"fill_alpha\":{\"value\":0.5},\"fill_color\":{\"value\":\"lightgrey\"},\"left_units\":\"screen\",\"level\":\"overlay\",\"line_alpha\":{\"value\":1.0},\"line_color\":{\"value\":\"black\"},\"line_dash\":[4,4],\"line_width\":{\"value\":2},\"render_mode\":\"css\",\"right_units\":\"screen\",\"top_units\":\"screen\"},\"id\":\"1048\",\"type\":\"BoxAnnotation\"}],\"root_ids\":[\"1003\"]},\"title\":\"Bokeh Application\",\"version\":\"1.3.4\"}};\n",
       "  var render_items = [{\"docid\":\"8bd3f5b5-37ea-4da2-9c8e-a7c3e129921a\",\"roots\":{\"1003\":\"c450fbe6-9195-4428-9ccf-a1d7680fa216\"}}];\n",
       "  root.Bokeh.embed.embed_items_notebook(docs_json, render_items);\n",
       "\n",
       "  }\n",
       "  if (root.Bokeh !== undefined) {\n",
       "    embed_document(root);\n",
       "  } else {\n",
       "    var attempts = 0;\n",
       "    var timer = setInterval(function(root) {\n",
       "      if (root.Bokeh !== undefined) {\n",
       "        embed_document(root);\n",
       "        clearInterval(timer);\n",
       "      }\n",
       "      attempts++;\n",
       "      if (attempts > 100) {\n",
       "        console.log(\"Bokeh: ERROR: Unable to run BokehJS code because BokehJS library is missing\");\n",
       "        clearInterval(timer);\n",
       "      }\n",
       "    }, 10, root)\n",
       "  }\n",
       "})(window);"
      ],
      "application/vnd.bokehjs_exec.v0+json": ""
     },
     "metadata": {
      "application/vnd.bokehjs_exec.v0+json": {
       "id": "1003"
      }
     },
     "output_type": "display_data"
    },
    {
     "data": {
      "text/html": [
       "<div style=\"display: table;\"><div style=\"display: table-row;\"><div style=\"display: table-cell;\"><b title=\"bokeh.plotting.figure.Figure\">Figure</b>(</div><div style=\"display: table-cell;\">id&nbsp;=&nbsp;'1003', <span id=\"1106\" style=\"cursor: pointer;\">&hellip;)</span></div></div><div class=\"1105\" style=\"display: none;\"><div style=\"display: table-cell;\"></div><div style=\"display: table-cell;\">above&nbsp;=&nbsp;[],</div></div><div class=\"1105\" style=\"display: none;\"><div style=\"display: table-cell;\"></div><div style=\"display: table-cell;\">align&nbsp;=&nbsp;'start',</div></div><div class=\"1105\" style=\"display: none;\"><div style=\"display: table-cell;\"></div><div style=\"display: table-cell;\">aspect_ratio&nbsp;=&nbsp;None,</div></div><div class=\"1105\" style=\"display: none;\"><div style=\"display: table-cell;\"></div><div style=\"display: table-cell;\">aspect_scale&nbsp;=&nbsp;1,</div></div><div class=\"1105\" style=\"display: none;\"><div style=\"display: table-cell;\"></div><div style=\"display: table-cell;\">background&nbsp;=&nbsp;None,</div></div><div class=\"1105\" style=\"display: none;\"><div style=\"display: table-cell;\"></div><div style=\"display: table-cell;\">background_fill_alpha&nbsp;=&nbsp;{'value': 1.0},</div></div><div class=\"1105\" style=\"display: none;\"><div style=\"display: table-cell;\"></div><div style=\"display: table-cell;\">background_fill_color&nbsp;=&nbsp;{'value': '#ffffff'},</div></div><div class=\"1105\" style=\"display: none;\"><div style=\"display: table-cell;\"></div><div style=\"display: table-cell;\">below&nbsp;=&nbsp;[LinearAxis(id='1012', ...)],</div></div><div class=\"1105\" style=\"display: none;\"><div style=\"display: table-cell;\"></div><div style=\"display: table-cell;\">border_fill_alpha&nbsp;=&nbsp;{'value': 1.0},</div></div><div class=\"1105\" style=\"display: none;\"><div style=\"display: table-cell;\"></div><div style=\"display: table-cell;\">border_fill_color&nbsp;=&nbsp;{'value': '#ffffff'},</div></div><div class=\"1105\" style=\"display: none;\"><div style=\"display: table-cell;\"></div><div style=\"display: table-cell;\">center&nbsp;=&nbsp;[Grid(id='1016', ...), Grid(id='1021', ...)],</div></div><div class=\"1105\" style=\"display: none;\"><div style=\"display: table-cell;\"></div><div style=\"display: table-cell;\">css_classes&nbsp;=&nbsp;[],</div></div><div class=\"1105\" style=\"display: none;\"><div style=\"display: table-cell;\"></div><div style=\"display: table-cell;\">disabled&nbsp;=&nbsp;False,</div></div><div class=\"1105\" style=\"display: none;\"><div style=\"display: table-cell;\"></div><div style=\"display: table-cell;\">extra_x_ranges&nbsp;=&nbsp;{},</div></div><div class=\"1105\" style=\"display: none;\"><div style=\"display: table-cell;\"></div><div style=\"display: table-cell;\">extra_y_ranges&nbsp;=&nbsp;{},</div></div><div class=\"1105\" style=\"display: none;\"><div style=\"display: table-cell;\"></div><div style=\"display: table-cell;\">frame_height&nbsp;=&nbsp;None,</div></div><div class=\"1105\" style=\"display: none;\"><div style=\"display: table-cell;\"></div><div style=\"display: table-cell;\">frame_width&nbsp;=&nbsp;None,</div></div><div class=\"1105\" style=\"display: none;\"><div style=\"display: table-cell;\"></div><div style=\"display: table-cell;\">height&nbsp;=&nbsp;None,</div></div><div class=\"1105\" style=\"display: none;\"><div style=\"display: table-cell;\"></div><div style=\"display: table-cell;\">height_policy&nbsp;=&nbsp;'auto',</div></div><div class=\"1105\" style=\"display: none;\"><div style=\"display: table-cell;\"></div><div style=\"display: table-cell;\">hidpi&nbsp;=&nbsp;True,</div></div><div class=\"1105\" style=\"display: none;\"><div style=\"display: table-cell;\"></div><div style=\"display: table-cell;\">js_event_callbacks&nbsp;=&nbsp;{},</div></div><div class=\"1105\" style=\"display: none;\"><div style=\"display: table-cell;\"></div><div style=\"display: table-cell;\">js_property_callbacks&nbsp;=&nbsp;{},</div></div><div class=\"1105\" style=\"display: none;\"><div style=\"display: table-cell;\"></div><div style=\"display: table-cell;\">left&nbsp;=&nbsp;[LinearAxis(id='1017', ...)],</div></div><div class=\"1105\" style=\"display: none;\"><div style=\"display: table-cell;\"></div><div style=\"display: table-cell;\">lod_factor&nbsp;=&nbsp;10,</div></div><div class=\"1105\" style=\"display: none;\"><div style=\"display: table-cell;\"></div><div style=\"display: table-cell;\">lod_interval&nbsp;=&nbsp;300,</div></div><div class=\"1105\" style=\"display: none;\"><div style=\"display: table-cell;\"></div><div style=\"display: table-cell;\">lod_threshold&nbsp;=&nbsp;2000,</div></div><div class=\"1105\" style=\"display: none;\"><div style=\"display: table-cell;\"></div><div style=\"display: table-cell;\">lod_timeout&nbsp;=&nbsp;500,</div></div><div class=\"1105\" style=\"display: none;\"><div style=\"display: table-cell;\"></div><div style=\"display: table-cell;\">margin&nbsp;=&nbsp;(0, 0, 0, 0),</div></div><div class=\"1105\" style=\"display: none;\"><div style=\"display: table-cell;\"></div><div style=\"display: table-cell;\">match_aspect&nbsp;=&nbsp;False,</div></div><div class=\"1105\" style=\"display: none;\"><div style=\"display: table-cell;\"></div><div style=\"display: table-cell;\">max_height&nbsp;=&nbsp;None,</div></div><div class=\"1105\" style=\"display: none;\"><div style=\"display: table-cell;\"></div><div style=\"display: table-cell;\">max_width&nbsp;=&nbsp;None,</div></div><div class=\"1105\" style=\"display: none;\"><div style=\"display: table-cell;\"></div><div style=\"display: table-cell;\">min_border&nbsp;=&nbsp;5,</div></div><div class=\"1105\" style=\"display: none;\"><div style=\"display: table-cell;\"></div><div style=\"display: table-cell;\">min_border_bottom&nbsp;=&nbsp;None,</div></div><div class=\"1105\" style=\"display: none;\"><div style=\"display: table-cell;\"></div><div style=\"display: table-cell;\">min_border_left&nbsp;=&nbsp;None,</div></div><div class=\"1105\" style=\"display: none;\"><div style=\"display: table-cell;\"></div><div style=\"display: table-cell;\">min_border_right&nbsp;=&nbsp;None,</div></div><div class=\"1105\" style=\"display: none;\"><div style=\"display: table-cell;\"></div><div style=\"display: table-cell;\">min_border_top&nbsp;=&nbsp;None,</div></div><div class=\"1105\" style=\"display: none;\"><div style=\"display: table-cell;\"></div><div style=\"display: table-cell;\">min_height&nbsp;=&nbsp;None,</div></div><div class=\"1105\" style=\"display: none;\"><div style=\"display: table-cell;\"></div><div style=\"display: table-cell;\">min_width&nbsp;=&nbsp;None,</div></div><div class=\"1105\" style=\"display: none;\"><div style=\"display: table-cell;\"></div><div style=\"display: table-cell;\">name&nbsp;=&nbsp;None,</div></div><div class=\"1105\" style=\"display: none;\"><div style=\"display: table-cell;\"></div><div style=\"display: table-cell;\">outline_line_alpha&nbsp;=&nbsp;{'value': 1.0},</div></div><div class=\"1105\" style=\"display: none;\"><div style=\"display: table-cell;\"></div><div style=\"display: table-cell;\">outline_line_cap&nbsp;=&nbsp;'butt',</div></div><div class=\"1105\" style=\"display: none;\"><div style=\"display: table-cell;\"></div><div style=\"display: table-cell;\">outline_line_color&nbsp;=&nbsp;{'value': '#e5e5e5'},</div></div><div class=\"1105\" style=\"display: none;\"><div style=\"display: table-cell;\"></div><div style=\"display: table-cell;\">outline_line_dash&nbsp;=&nbsp;[],</div></div><div class=\"1105\" style=\"display: none;\"><div style=\"display: table-cell;\"></div><div style=\"display: table-cell;\">outline_line_dash_offset&nbsp;=&nbsp;0,</div></div><div class=\"1105\" style=\"display: none;\"><div style=\"display: table-cell;\"></div><div style=\"display: table-cell;\">outline_line_join&nbsp;=&nbsp;'bevel',</div></div><div class=\"1105\" style=\"display: none;\"><div style=\"display: table-cell;\"></div><div style=\"display: table-cell;\">outline_line_width&nbsp;=&nbsp;{'value': 1},</div></div><div class=\"1105\" style=\"display: none;\"><div style=\"display: table-cell;\"></div><div style=\"display: table-cell;\">output_backend&nbsp;=&nbsp;'canvas',</div></div><div class=\"1105\" style=\"display: none;\"><div style=\"display: table-cell;\"></div><div style=\"display: table-cell;\">plot_height&nbsp;=&nbsp;400,</div></div><div class=\"1105\" style=\"display: none;\"><div style=\"display: table-cell;\"></div><div style=\"display: table-cell;\">plot_width&nbsp;=&nbsp;600,</div></div><div class=\"1105\" style=\"display: none;\"><div style=\"display: table-cell;\"></div><div style=\"display: table-cell;\">renderers&nbsp;=&nbsp;[GlyphRenderer(id='1038', ...)],</div></div><div class=\"1105\" style=\"display: none;\"><div style=\"display: table-cell;\"></div><div style=\"display: table-cell;\">reset_policy&nbsp;=&nbsp;'standard',</div></div><div class=\"1105\" style=\"display: none;\"><div style=\"display: table-cell;\"></div><div style=\"display: table-cell;\">right&nbsp;=&nbsp;[],</div></div><div class=\"1105\" style=\"display: none;\"><div style=\"display: table-cell;\"></div><div style=\"display: table-cell;\">sizing_mode&nbsp;=&nbsp;None,</div></div><div class=\"1105\" style=\"display: none;\"><div style=\"display: table-cell;\"></div><div style=\"display: table-cell;\">subscribed_events&nbsp;=&nbsp;[],</div></div><div class=\"1105\" style=\"display: none;\"><div style=\"display: table-cell;\"></div><div style=\"display: table-cell;\">tags&nbsp;=&nbsp;[],</div></div><div class=\"1105\" style=\"display: none;\"><div style=\"display: table-cell;\"></div><div style=\"display: table-cell;\">title&nbsp;=&nbsp;Title(id='1042', ...),</div></div><div class=\"1105\" style=\"display: none;\"><div style=\"display: table-cell;\"></div><div style=\"display: table-cell;\">title_location&nbsp;=&nbsp;'above',</div></div><div class=\"1105\" style=\"display: none;\"><div style=\"display: table-cell;\"></div><div style=\"display: table-cell;\">toolbar&nbsp;=&nbsp;Toolbar(id='1028', ...),</div></div><div class=\"1105\" style=\"display: none;\"><div style=\"display: table-cell;\"></div><div style=\"display: table-cell;\">toolbar_location&nbsp;=&nbsp;'right',</div></div><div class=\"1105\" style=\"display: none;\"><div style=\"display: table-cell;\"></div><div style=\"display: table-cell;\">toolbar_sticky&nbsp;=&nbsp;True,</div></div><div class=\"1105\" style=\"display: none;\"><div style=\"display: table-cell;\"></div><div style=\"display: table-cell;\">visible&nbsp;=&nbsp;True,</div></div><div class=\"1105\" style=\"display: none;\"><div style=\"display: table-cell;\"></div><div style=\"display: table-cell;\">width&nbsp;=&nbsp;None,</div></div><div class=\"1105\" style=\"display: none;\"><div style=\"display: table-cell;\"></div><div style=\"display: table-cell;\">width_policy&nbsp;=&nbsp;'auto',</div></div><div class=\"1105\" style=\"display: none;\"><div style=\"display: table-cell;\"></div><div style=\"display: table-cell;\">x_range&nbsp;=&nbsp;DataRange1d(id='1004', ...),</div></div><div class=\"1105\" style=\"display: none;\"><div style=\"display: table-cell;\"></div><div style=\"display: table-cell;\">x_scale&nbsp;=&nbsp;LinearScale(id='1008', ...),</div></div><div class=\"1105\" style=\"display: none;\"><div style=\"display: table-cell;\"></div><div style=\"display: table-cell;\">y_range&nbsp;=&nbsp;DataRange1d(id='1006', ...),</div></div><div class=\"1105\" style=\"display: none;\"><div style=\"display: table-cell;\"></div><div style=\"display: table-cell;\">y_scale&nbsp;=&nbsp;LinearScale(id='1010', ...))</div></div></div>\n",
       "<script>\n",
       "(function() {\n",
       "  var expanded = false;\n",
       "  var ellipsis = document.getElementById(\"1106\");\n",
       "  ellipsis.addEventListener(\"click\", function() {\n",
       "    var rows = document.getElementsByClassName(\"1105\");\n",
       "    for (var i = 0; i < rows.length; i++) {\n",
       "      var el = rows[i];\n",
       "      el.style.display = expanded ? \"none\" : \"table-row\";\n",
       "    }\n",
       "    ellipsis.innerHTML = expanded ? \"&hellip;)\" : \"&lsaquo;&lsaquo;&lsaquo;\";\n",
       "    expanded = !expanded;\n",
       "  });\n",
       "})();\n",
       "</script>\n"
      ],
      "text/plain": [
       "Figure(id='1003', ...)"
      ]
     },
     "execution_count": 18,
     "metadata": {},
     "output_type": "execute_result"
    }
   ],
   "source": [
    "draw_vectors(word_vectors_pca[:, 0], word_vectors_pca[:, 1], token=words)\n",
    "\n",
    "# hover a mouse over there and see if you can identify the clusters"
   ]
  },
  {
   "cell_type": "markdown",
   "metadata": {},
   "source": [
    "### Visualizing neighbors with t-SNE\n",
    "PCA is nice but it's strictly linear and thus only able to capture coarse high-level structure of the data.\n",
    "\n",
    "If we instead want to focus on keeping neighboring points near, we could use TSNE, which is itself an embedding method. Here you can read __[more on TSNE](https://distill.pub/2016/misread-tsne/)__."
   ]
  },
  {
   "cell_type": "code",
   "execution_count": 19,
   "metadata": {},
   "outputs": [
    {
     "name": "stdout",
     "output_type": "stream",
     "text": [
      "[t-SNE] Computing 91 nearest neighbors...\n",
      "[t-SNE] Indexed 1000 samples in 0.000s...\n",
      "[t-SNE] Computed neighbors for 1000 samples in 0.013s...\n",
      "[t-SNE] Computed conditional probabilities for sample 1000 / 1000\n",
      "[t-SNE] Mean sigma: 0.209563\n",
      "[t-SNE] Computed conditional probabilities in 0.034s\n",
      "[t-SNE] Iteration 50: error = 59.8253136, gradient norm = 0.2526028 (50 iterations in 4.845s)\n",
      "[t-SNE] Iteration 100: error = 55.5959015, gradient norm = 0.1896791 (50 iterations in 4.041s)\n",
      "[t-SNE] Iteration 150: error = 54.8356514, gradient norm = 0.1681365 (50 iterations in 4.090s)\n",
      "[t-SNE] Iteration 200: error = 54.5865822, gradient norm = 0.1735114 (50 iterations in 4.060s)\n",
      "[t-SNE] Iteration 250: error = 54.5161133, gradient norm = 0.1726892 (50 iterations in 4.031s)\n",
      "[t-SNE] KL divergence after 250 iterations with early exaggeration: 54.516113\n",
      "[t-SNE] Iteration 300: error = 0.4901029, gradient norm = 0.0006922 (50 iterations in 4.230s)\n",
      "[t-SNE] Iteration 350: error = 0.4125612, gradient norm = 0.0002487 (50 iterations in 3.896s)\n",
      "[t-SNE] Iteration 400: error = 0.3981615, gradient norm = 0.0001644 (50 iterations in 3.769s)\n",
      "[t-SNE] Iteration 450: error = 0.3922099, gradient norm = 0.0001404 (50 iterations in 4.572s)\n",
      "[t-SNE] Iteration 500: error = 0.3893141, gradient norm = 0.0001322 (50 iterations in 4.044s)\n",
      "[t-SNE] Iteration 550: error = 0.3873601, gradient norm = 0.0001179 (50 iterations in 4.025s)\n",
      "[t-SNE] Iteration 600: error = 0.3857263, gradient norm = 0.0001179 (50 iterations in 3.898s)\n",
      "[t-SNE] Iteration 650: error = 0.3846159, gradient norm = 0.0000938 (50 iterations in 4.099s)\n",
      "[t-SNE] Iteration 700: error = 0.3836048, gradient norm = 0.0001033 (50 iterations in 3.653s)\n",
      "[t-SNE] Iteration 750: error = 0.3827366, gradient norm = 0.0000812 (50 iterations in 4.497s)\n",
      "[t-SNE] KL divergence after 750 iterations: 0.382737\n"
     ]
    }
   ],
   "source": [
    "from sklearn.manifold import TSNE\n",
    "\n",
    "# map word vectors onto 2d plane with TSNE. hint: use verbose=100 to see what it's doing.\n",
    "# normalize them as just lke with pca\n",
    "\n",
    "pca = TSNE(n_components=2, n_iter=750, verbose=100)\n",
    "word_vectors = pca.fit_transform(word_vectors)\n",
    "word_tsne = (word_vectors - word_vectors.mean(0)) / word_vectors.std(0)"
   ]
  },
  {
   "cell_type": "code",
   "execution_count": 20,
   "metadata": {
    "scrolled": false
   },
   "outputs": [
    {
     "data": {
      "text/html": [
       "\n",
       "\n",
       "\n",
       "\n",
       "\n",
       "\n",
       "  <div class=\"bk-root\" id=\"6209a1db-2138-456c-868c-db9d635fe263\" data-root-id=\"1110\"></div>\n"
      ]
     },
     "metadata": {},
     "output_type": "display_data"
    },
    {
     "data": {
      "application/javascript": [
       "(function(root) {\n",
       "  function embed_document(root) {\n",
       "    \n",
       "  var docs_json = {\"ad53169b-e782-4854-873c-fb95b3453fa8\":{\"roots\":{\"references\":[{\"attributes\":{\"below\":[{\"id\":\"1119\",\"type\":\"LinearAxis\"}],\"center\":[{\"id\":\"1123\",\"type\":\"Grid\"},{\"id\":\"1128\",\"type\":\"Grid\"}],\"left\":[{\"id\":\"1124\",\"type\":\"LinearAxis\"}],\"plot_height\":400,\"renderers\":[{\"id\":\"1145\",\"type\":\"GlyphRenderer\"}],\"title\":{\"id\":\"1158\",\"type\":\"Title\"},\"toolbar\":{\"id\":\"1135\",\"type\":\"Toolbar\"},\"x_range\":{\"id\":\"1111\",\"type\":\"DataRange1d\"},\"x_scale\":{\"id\":\"1115\",\"type\":\"LinearScale\"},\"y_range\":{\"id\":\"1113\",\"type\":\"DataRange1d\"},\"y_scale\":{\"id\":\"1117\",\"type\":\"LinearScale\"}},\"id\":\"1110\",\"subtype\":\"Figure\",\"type\":\"Plot\"},{\"attributes\":{\"callback\":null},\"id\":\"1113\",\"type\":\"DataRange1d\"},{\"attributes\":{},\"id\":\"1133\",\"type\":\"ResetTool\"},{\"attributes\":{\"callback\":null,\"data\":{\"color\":[\"green\",\"green\",\"green\",\"green\",\"green\",\"green\",\"green\",\"green\",\"green\",\"green\",\"green\",\"green\",\"green\",\"green\",\"green\",\"green\",\"green\",\"green\",\"green\",\"green\",\"green\",\"green\",\"green\",\"green\",\"green\",\"green\",\"green\",\"green\",\"green\",\"green\",\"green\",\"green\",\"green\",\"green\",\"green\",\"green\",\"green\",\"green\",\"green\",\"green\",\"green\",\"green\",\"green\",\"green\",\"green\",\"green\",\"green\",\"green\",\"green\",\"green\",\"green\",\"green\",\"green\",\"green\",\"green\",\"green\",\"green\",\"green\",\"green\",\"green\",\"green\",\"green\",\"green\",\"green\",\"green\",\"green\",\"green\",\"green\",\"green\",\"green\",\"green\",\"green\",\"green\",\"green\",\"green\",\"green\",\"green\",\"green\",\"green\",\"green\",\"green\",\"green\",\"green\",\"green\",\"green\",\"green\",\"green\",\"green\",\"green\",\"green\",\"green\",\"green\",\"green\",\"green\",\"green\",\"green\",\"green\",\"green\",\"green\",\"green\",\"green\",\"green\",\"green\",\"green\",\"green\",\"green\",\"green\",\"green\",\"green\",\"green\",\"green\",\"green\",\"green\",\"green\",\"green\",\"green\",\"green\",\"green\",\"green\",\"green\",\"green\",\"green\",\"green\",\"green\",\"green\",\"green\",\"green\",\"green\",\"green\",\"green\",\"green\",\"green\",\"green\",\"green\",\"green\",\"green\",\"green\",\"green\",\"green\",\"green\",\"green\",\"green\",\"green\",\"green\",\"green\",\"green\",\"green\",\"green\",\"green\",\"green\",\"green\",\"green\",\"green\",\"green\",\"green\",\"green\",\"green\",\"green\",\"green\",\"green\",\"green\",\"green\",\"green\",\"green\",\"green\",\"green\",\"green\",\"green\",\"green\",\"green\",\"green\",\"green\",\"green\",\"green\",\"green\",\"green\",\"green\",\"green\",\"green\",\"green\",\"green\",\"green\",\"green\",\"green\",\"green\",\"green\",\"green\",\"green\",\"green\",\"green\",\"green\",\"green\",\"green\",\"green\",\"green\",\"green\",\"green\",\"green\",\"green\",\"green\",\"green\",\"green\",\"green\",\"green\",\"green\",\"green\",\"green\",\"green\",\"green\",\"green\",\"green\",\"green\",\"green\",\"green\",\"green\",\"green\",\"green\",\"green\",\"green\",\"green\",\"green\",\"green\",\"green\",\"green\",\"green\",\"green\",\"green\",\"green\",\"green\",\"green\",\"green\",\"green\",\"green\",\"green\",\"green\",\"green\",\"green\",\"green\",\"green\",\"green\",\"green\",\"green\",\"green\",\"green\",\"green\",\"green\",\"green\",\"green\",\"green\",\"green\",\"green\",\"green\",\"green\",\"green\",\"green\",\"green\",\"green\",\"green\",\"green\",\"green\",\"green\",\"green\",\"green\",\"green\",\"green\",\"green\",\"green\",\"green\",\"green\",\"green\",\"green\",\"green\",\"green\",\"green\",\"green\",\"green\",\"green\",\"green\",\"green\",\"green\",\"green\",\"green\",\"green\",\"green\",\"green\",\"green\",\"green\",\"green\",\"green\",\"green\",\"green\",\"green\",\"green\",\"green\",\"green\",\"green\",\"green\",\"green\",\"green\",\"green\",\"green\",\"green\",\"green\",\"green\",\"green\",\"green\",\"green\",\"green\",\"green\",\"green\",\"green\",\"green\",\"green\",\"green\",\"green\",\"green\",\"green\",\"green\",\"green\",\"green\",\"green\",\"green\",\"green\",\"green\",\"green\",\"green\",\"green\",\"green\",\"green\",\"green\",\"green\",\"green\",\"green\",\"green\",\"green\",\"green\",\"green\",\"green\",\"green\",\"green\",\"green\",\"green\",\"green\",\"green\",\"green\",\"green\",\"green\",\"green\",\"green\",\"green\",\"green\",\"green\",\"green\",\"green\",\"green\",\"green\",\"green\",\"green\",\"green\",\"green\",\"green\",\"green\",\"green\",\"green\",\"green\",\"green\",\"green\",\"green\",\"green\",\"green\",\"green\",\"green\",\"green\",\"green\",\"green\",\"green\",\"green\",\"green\",\"green\",\"green\",\"green\",\"green\",\"green\",\"green\",\"green\",\"green\",\"green\",\"green\",\"green\",\"green\",\"green\",\"green\",\"green\",\"green\",\"green\",\"green\",\"green\",\"green\",\"green\",\"green\",\"green\",\"green\",\"green\",\"green\",\"green\",\"green\",\"green\",\"green\",\"green\",\"green\",\"green\",\"green\",\"green\",\"green\",\"green\",\"green\",\"green\",\"green\",\"green\",\"green\",\"green\",\"green\",\"green\",\"green\",\"green\",\"green\",\"green\",\"green\",\"green\",\"green\",\"green\",\"green\",\"green\",\"green\",\"green\",\"green\",\"green\",\"green\",\"green\",\"green\",\"green\",\"green\",\"green\",\"green\",\"green\",\"green\",\"green\",\"green\",\"green\",\"green\",\"green\",\"green\",\"green\",\"green\",\"green\",\"green\",\"green\",\"green\",\"green\",\"green\",\"green\",\"green\",\"green\",\"green\",\"green\",\"green\",\"green\",\"green\",\"green\",\"green\",\"green\",\"green\",\"green\",\"green\",\"green\",\"green\",\"green\",\"green\",\"green\",\"green\",\"green\",\"green\",\"green\",\"green\",\"green\",\"green\",\"green\",\"green\",\"green\",\"green\",\"green\",\"green\",\"green\",\"green\",\"green\",\"green\",\"green\",\"green\",\"green\",\"green\",\"green\",\"green\",\"green\",\"green\",\"green\",\"green\",\"green\",\"green\",\"green\",\"green\",\"green\",\"green\",\"green\",\"green\",\"green\",\"green\",\"green\",\"green\",\"green\",\"green\",\"green\",\"green\",\"green\",\"green\",\"green\",\"green\",\"green\",\"green\",\"green\",\"green\",\"green\",\"green\",\"green\",\"green\",\"green\",\"green\",\"green\",\"green\",\"green\",\"green\",\"green\",\"green\",\"green\",\"green\",\"green\",\"green\",\"green\",\"green\",\"green\",\"green\",\"green\",\"green\",\"green\",\"green\",\"green\",\"green\",\"green\",\"green\",\"green\",\"green\",\"green\",\"green\",\"green\",\"green\",\"green\",\"green\",\"green\",\"green\",\"green\",\"green\",\"green\",\"green\",\"green\",\"green\",\"green\",\"green\",\"green\",\"green\",\"green\",\"green\",\"green\",\"green\",\"green\",\"green\",\"green\",\"green\",\"green\",\"green\",\"green\",\"green\",\"green\",\"green\",\"green\",\"green\",\"green\",\"green\",\"green\",\"green\",\"green\",\"green\",\"green\",\"green\",\"green\",\"green\",\"green\",\"green\",\"green\",\"green\",\"green\",\"green\",\"green\",\"green\",\"green\",\"green\",\"green\",\"green\",\"green\",\"green\",\"green\",\"green\",\"green\",\"green\",\"green\",\"green\",\"green\",\"green\",\"green\",\"green\",\"green\",\"green\",\"green\",\"green\",\"green\",\"green\",\"green\",\"green\",\"green\",\"green\",\"green\",\"green\",\"green\",\"green\",\"green\",\"green\",\"green\",\"green\",\"green\",\"green\",\"green\",\"green\",\"green\",\"green\",\"green\",\"green\",\"green\",\"green\",\"green\",\"green\",\"green\",\"green\",\"green\",\"green\",\"green\",\"green\",\"green\",\"green\",\"green\",\"green\",\"green\",\"green\",\"green\",\"green\",\"green\",\"green\",\"green\",\"green\",\"green\",\"green\",\"green\",\"green\",\"green\",\"green\",\"green\",\"green\",\"green\",\"green\",\"green\",\"green\",\"green\",\"green\",\"green\",\"green\",\"green\",\"green\",\"green\",\"green\",\"green\",\"green\",\"green\",\"green\",\"green\",\"green\",\"green\",\"green\",\"green\",\"green\",\"green\",\"green\",\"green\",\"green\",\"green\",\"green\",\"green\",\"green\",\"green\",\"green\",\"green\",\"green\",\"green\",\"green\",\"green\",\"green\",\"green\",\"green\",\"green\",\"green\",\"green\",\"green\",\"green\",\"green\",\"green\",\"green\",\"green\",\"green\",\"green\",\"green\",\"green\",\"green\",\"green\",\"green\",\"green\",\"green\",\"green\",\"green\",\"green\",\"green\",\"green\",\"green\",\"green\",\"green\",\"green\",\"green\",\"green\",\"green\",\"green\",\"green\",\"green\",\"green\",\"green\",\"green\",\"green\",\"green\",\"green\",\"green\",\"green\",\"green\",\"green\",\"green\",\"green\",\"green\",\"green\",\"green\",\"green\",\"green\",\"green\",\"green\",\"green\",\"green\",\"green\",\"green\",\"green\",\"green\",\"green\",\"green\",\"green\",\"green\",\"green\",\"green\",\"green\",\"green\",\"green\",\"green\",\"green\",\"green\",\"green\",\"green\",\"green\",\"green\",\"green\",\"green\",\"green\",\"green\",\"green\",\"green\",\"green\",\"green\",\"green\",\"green\",\"green\",\"green\",\"green\",\"green\",\"green\",\"green\",\"green\",\"green\",\"green\",\"green\",\"green\",\"green\",\"green\",\"green\",\"green\",\"green\",\"green\",\"green\",\"green\",\"green\",\"green\",\"green\",\"green\",\"green\",\"green\",\"green\",\"green\",\"green\",\"green\",\"green\",\"green\",\"green\",\"green\",\"green\",\"green\",\"green\",\"green\",\"green\",\"green\",\"green\",\"green\",\"green\",\"green\",\"green\",\"green\",\"green\",\"green\",\"green\",\"green\",\"green\",\"green\",\"green\",\"green\",\"green\",\"green\",\"green\",\"green\",\"green\",\"green\",\"green\",\"green\",\"green\",\"green\",\"green\",\"green\",\"green\",\"green\",\"green\",\"green\",\"green\",\"green\",\"green\",\"green\",\"green\",\"green\",\"green\",\"green\",\"green\",\"green\",\"green\",\"green\",\"green\",\"green\",\"green\",\"green\",\"green\",\"green\",\"green\",\"green\",\"green\",\"green\",\"green\",\"green\",\"green\",\"green\",\"green\",\"green\",\"green\",\"green\",\"green\",\"green\",\"green\",\"green\",\"green\",\"green\",\"green\",\"green\",\"green\",\"green\",\"green\",\"green\",\"green\",\"green\",\"green\",\"green\",\"green\",\"green\",\"green\",\"green\",\"green\",\"green\",\"green\",\"green\",\"green\",\"green\",\"green\",\"green\",\"green\",\"green\",\"green\",\"green\",\"green\",\"green\",\"green\",\"green\",\"green\",\"green\",\"green\",\"green\",\"green\",\"green\",\"green\",\"green\",\"green\",\"green\",\"green\",\"green\",\"green\",\"green\",\"green\",\"green\",\"green\",\"green\",\"green\",\"green\",\"green\",\"green\",\"green\",\"green\",\"green\",\"green\",\"green\",\"green\",\"green\",\"green\",\"green\",\"green\",\"green\",\"green\",\"green\",\"green\",\"green\",\"green\",\"green\",\"green\",\"green\",\"green\",\"green\",\"green\",\"green\",\"green\",\"green\",\"green\",\"green\",\"green\",\"green\",\"green\",\"green\",\"green\",\"green\",\"green\",\"green\"],\"token\":[\"<user>\",\".\",\":\",\"rt\",\",\",\"<repeat>\",\"<hashtag>\",\"<number>\",\"<url>\",\"!\",\"i\",\"a\",\"\\\"\",\"the\",\"?\",\"you\",\"to\",\"(\",\"<allcaps>\",\"<elong>\",\")\",\"me\",\"de\",\"<smile>\",\"\\uff01\",\"que\",\"and\",\"\\u3002\",\"-\",\"my\",\"no\",\"\\u3001\",\"is\",\"it\",\"\\u2026\",\"in\",\"n\",\"for\",\"/\",\"of\",\"la\",\"'s\",\"*\",\"do\",\"n't\",\"that\",\"on\",\"y\",\"'\",\"e\",\"o\",\"u\",\"en\",\"this\",\"el\",\"so\",\"be\",\"'m\",\"with\",\"just\",\">\",\"your\",\"^\",\"like\",\"have\",\"te\",\"at\",\"\\uff1f\",\"love\",\"se\",\"are\",\"<\",\"m\",\"r\",\"if\",\"all\",\"b\",\"\\u30fb\",\"not\",\"but\",\"we\",\"es\",\"ya\",\"&\",\"follow\",\"up\",\"what\",\"get\",\"lol\",\"un\",\"\\u2665\",\"lo\",\"when\",\"was\",\"\\u201c\",\"\\u201d\",\"one\",\"por\",\"si\",\"out\",\"_\",\"mi\",\"can\",\"<sadface>\",\"\\u0645\\u0646\",\"\\u2661\",\"\\u00b4\",\"he\",\"con\",\"they\",\"now\",\"go\",\"\\u060c\",\"para\",\"los\",\"know\",\"haha\",\"good\",\"tu\",\"back\",\"~\",\"about\",\"new\",\";\",\"as\",\"day\",\"how\",\"who\",\"will\",\"want\",\"people\",\"yo\",\"eu\",\"from\",\"di\",\"time\",\"<heart>\",\"s\",\"aku\",\"da\",\"'re\",\"<lolface>\",\"una\",\"got\",\"las\",\"more\",\"x\",\"she\",\"today\",\"\\uff08\",\">>\",\"k\",\"by\",\"or\",\"\\u0641\\u064a\",\"\\uff65\",\"too\",\"le\",\"\\u00e9\",\"|\",\"[\",\"\\uff09\",\"]\",\"see\",\"why\",\"yg\",\"ca\",\"como\",\"her\",\"\\u2014\",\"q\",\"need\",\"an\",\"na\",\"\\u7b11\",\"there\",\"\\u03c9\",\"happy\",\"im\",\"mas\",\"je\",\"life\",\"really\",\"make\",\"yang\",\"shit\",\"think\",\"t\",\"\\u2764\",\"n\\u00e3o\",\"never\",\"some\",\"\\uff5e\",\"oh\",\"\\u2605\",\"did\",\"would\",\"del\",\"`\",\"d\",\"please\",\"via\",\"much\",\"fuck\",\"al\",\"dia\",\"$\",\"\\u0648\",\"right\",\"best\",\"c\",\"going\",\"\\u0627\\u0644\\u0644\\u0647\",\"pero\",\"only\",\"has\",\"\\u266a\",\"'ll\",\"twitter\",\"=\",\"hahaha\",\"its\",\"nn\",\"\\uff40\",\"\\u00bf\",\"am\",\"say\",\"<neutralface>\",\"them\",\"here\",\"\\u0644\\u0627\",\"off\",\"still\",\"dan\",\"+\",\"night\",\"w\",\"ada\",\"someone\",\"even\",\"then\",\"\\u2606\",\"ni\",\"come\",\"com\",\"always\",\"man\",\"'ve\",\"been\",\"his\",\"itu\",\"\\u0639\\u0644\\u0649\",\"-_-\",\"\\u263a\",\"over\",\"um\",\"\\u0645\\u0627\",\"hate\",\"girl\",\"ai\",\"had\",\"pra\",\"todo\",\"mais\",\"feel\",\"let\",\"ini\",\"because\",\"\\uff9f\",\"thanks\",\"ah\",\"way\",\"ever\",\"look\",\"tweet\",\"followers\",\"should\",\"our\",\"xd\",\"aja\",\"esta\",\"school\",\"him\",\"ser\",\"take\",\"than\",\"video\",\"em\",\"last\",\"wanna\",\"does\",\"us\",\"miss\",\"l\",\"ga\",\"better\",\"well\",\"could\",\"\\u25bd\",\"%\",\"apa\",\"cuando\",\"team\",\"\\u2714\",\"@\",\"ok\",\"\\u061f\",\"\\u2022\",\"vida\",\"quiero\",\"les\",\"being\",\"real\",\"down\",\"kamu\",\"everyone\",\"gonna\",\"live\",\"tonight\",\"yes\",\"work\",\"ass\",\"retweet\",\"nada\",\"sama\",\"first\",\"<<\",\"photo\",\"tomorrow\",\"where\",\"god\",\"son\",\"ke\",\"ta\",\"f\",\"home\",\"lagi\",\"thank\",\"birthday\",\"\\u2588\",\"ha\",\"great\",\"lmao\",\"omg\",\"morning\",\"m\\u00e1s\",\"mau\",\"baby\",\"dont\",\"\\uff61\",\"their\",\"p\",\"things\",\"game\",\"pas\",\"bad\",\"year\",\"yeah\",\"su\",\"bitch\",\"\\u0432\",\"stop\",\"hoy\",\"something\",\"meu\",\"tak\",\"gak\",\"world\",\"amor\",\"h\",\"\\\\\",\"ver\",\"\\uff1b\",\"porque\",\"give\",\"these\",\"\\u0627\\u0644\\u0644\\u0647\\u0645\",\"were\",\"hay\",\"sleep\",\"gue\",\"every\",\"friends\",\"uma\",\"tell\",\"amo\",\"vou\",\"bien\",\"\\u00a1\",\"again\",\"\\uff3e\",\"\\uff0f\",\"done\",\"after\",\"todos\",\"girls\",\"guys\",\"getting\",\"big\",\"wait\",\"justin\",\"eh\",\"\\u2192\",\"kan\",\"kita\",\"jajaja\",\"wish\",\"said\",\"fucking\",\"show\",\"thing\",\"next\",\"voc\\u00ea\",\"nos\",\"little\",\"tengo\",\"keep\",\"person\",\"''\",\"\\u2200\",\"hope\",\"\\u0643\\u0644\",\"hey\",\"bisa\",\"free\",\"made\",\"foto\",\"va\",\"everything\",\"iya\",\"nigga\",\"eso\",\"et\",\"watch\",\"music\",\"week\",\"talk\",\"ne\",\"solo\",\"gente\",\"udah\",\"\\uff1a\",\"--\",\"\\uff3c\",\"mejor\",\"facebook\",\"ma\",\"v\",\"phone\",\"most\",\"same\",\"okay\",\"ik\",\"before\",\"minha\",\"days\",\"g\",\"ti\",\"damn\",\"nice\",\"voy\",\"vai\",\"call\",\"long\",\"tapi\",\"http\",\"sin\",\"nunca\",\"doing\",\"other\",\"find\",\"il\",\"sa\",\"sorry\",\"nya\",\"orang\",\"\\u00b0\",\"hard\",\"mean\",\"die\",\"\\u0627\\u0644\\u0644\\u064a\",\"tem\",\"soy\",\"este\",\"kalo\",\"s\\u00f3\",\"th\",\"win\",\"nothing\",\"into\",\"face\",\"cute\",\"'d\",\"gracias\",\"lah\",\"\\u0438\",\"any\",\"play\",\"\\u2190\",\"ko\",\"text\",\"\\u2323\",\"estoy\",\"tau\",\"ur\",\"buat\",\"#\",\"cause\",\"\\u044f\",\"put\",\"kau\",\"siempre\",\"juga\",\"casa\",\"\\u0623\\u0646\",\"help\",\"start\",\"feliz\",\"old\",\"ir\",\"very\",\"care\",\"bir\",\"makes\",\"song\",\"check\",\"watching\",\"ahora\",\"jadi\",\"os\",\"may\",\"friend\",\"beautiful\",\"heart\",\"ka\",\"vc\",\"mundo\",\"\\u043d\\u0430\",\"sure\",\"tan\",\"pretty\",\"aqui\",\"\\u043d\\u0435\",\"house\",\"\\u0631\\u062a\\u0648\\u064a\\u062a\",\"\\u064a\\u0627\",\"ja\",\"true\",\"muy\",\"away\",\"already\",\"actually\",\"believe\",\"try\",\"many\",\"ma\\u00f1ana\",\"mis\",\"lu\",\"those\",\"hot\",\"qu\\u00e9\",\"mal\",\"\\u0639\\u0646\",\"though\",\"ask\",\"amazing\",\"bed\",\"}\",\"two\",\"mom\",\"d\\u00eda\",\"ve\",\"dari\",\"gameinsight\",\"stay\",\"fun\",\"around\",\"van\",\"cont\",\"ready\",\"money\",\"bu\",\"funny\",\"cool\",\"hair\",\"\\u00e0\",\"tho\",\"{\",\"wo\",\"hi\",\"name\",\"tiene\",\"hahahaha\",\"pa\",\"algo\",\"gotta\",\"\\u0648\\u0644\\u0627\",\"boy\",\"another\",\"c'est\",\"hari\",\"jajajaja\",\"having\",\"cara\",\"jaja\",\"dm\",\"looking\",\"top\",\"android\",\"dah\",\"wow\",\"\\u2591\",\"eres\",\"ben\",\"must\",\"news\",\"met\",\"est\\u00e1\",\"nih\",\"family\",\"black\",\"thought\",\"nak\",\"super\",\"end\",\"hace\",\"remember\",\"ama\",\"party\",\"cant\",\"vamos\",\"anything\",\"anyone\",\"\\u0641\\u0648\\u0644\\u0648\",\"perfect\",\"guy\",\"vez\",\"christmas\",\"dos\",\"bueno\",\"nao\",\"years\",\"vote\",\"dormir\",\"bro\",\"else\",\"quien\",\"untuk\",\"jangan\",\"myself\",\"head\",\"mind\",\"gua\",\"talking\",\"while\",\"dat\",\"food\",\"\\u0434\",\"coming\",\"wkwk\",\"trying\",\"saya\",\"mucho\",\"without\",\"wrong\",\"\\u2019s\",\"baru\",\"__\",\"hehe\",\"hacer\",\"lot\",\"followed\",\"crazy\",\"hell\",\"feeling\",\"des\",\"kok\",\"j\",\"stats\",\"j'\",\"\\u0627\\u0646\",\"tweets\",\"non\",\"cosas\",\"era\",\"high\",\"niggas\",\"change\",\"movie\",\"xx\",\"mad\",\"sih\",\"sometimes\",\"deh\",\"allah\",\"through\",\"pour\",\"ela\",\"soon\",\"gone\",\"playing\",\"smile\",\"bukan\",\"tv\",\"fans\",\"hasta\",\"akan\",\"y'\",\"looks\",\"isso\",\"\\u270c\",\"tired\",\"boys\",\"might\",\"dong\",\"lg\",\"use\",\"maybe\",\"until\",\"menos\",\"own\",\"dengan\",\"eat\",\"ou\",\"weekend\",\"\\u02d8\",\"class\",\"ele\",\"harry\",\"iphone\",\"friday\",\"single\",\"ff\",\"awesome\",\"bout\",\"muito\",\"hoje\",\"\\u00ac\",\"dios\",\"such\",\"estar\",\"j\\u00e1\",\"quando\",\"esa\",\"making\",\"\\u2501\",\"times\",\"lmfao\",\"gw\",\"moment\",\"yet\",\"aw\",\"smh\",\"banget\",\"masih\",\"qui\",\"quem\",\"\\u2013\",\"leave\",\"du\",\"une\",\"guess\",\"hit\",\"\\u0441\",\"pm\",\"since\",\"pues\",\"est\",\"job\",\"\\uff89\",\"mana\",\"bom\",\"siapa\",\"suka\",\"bieber\",\"mention\",\"lebih\",\"favorite\",\"bitches\",\"forever\",\"\\u0644\\u064a\",\"final\",\"read\",\"alguien\",\"open\",\"yourself\",\"ese\",\"che\",\"sex\",\"yaa\",\"car\",\"direction\",\"tidak\",\"seu\",\"gets\",\"left\",\"re\",\"jam\",\"enough\",\"\\u0625\\u0644\\u0627\",\"once\",\"\\u2019\",\"part\",\"cada\",\"\\u5b9a\\u671f\",\"\\u0644\\u0643\",\"een\",\"seen\",\"kak\",\"as\\u00ed\",\"nem\",\"\\u0639\\u0645\\u0644\",\"white\",\"told\",\"says\",\"esto\",\"sad\",\"mo\",\"fue\",\"yah\",\"summer\",\"\\u0647\",\"\\u2b55\",\"\\u00bb\",\"thats\",\"\\u0645\\u0639\",\"posted\",\"wants\",\"agora\",\"together\",\"fan\",\"men\",\"hear\",\"full\",\"\\u2600\",\"sigo\",\"pq\",\"dulu\",\"plus\",\"foi\",\"tudo\",\"\\u0647\\u0648\",\"ill\",\"\\u3042\",\"thinking\",\"wtf\",\"pagi\",\"mama\",\"kalau\",\"hati\",\"sexy\",\"sayang\",\"baik\",\"semua\",\"hola\",\"went\",\"vos\",\"tanto\",\"finally\",\"fb\",\"sea\",\"stupid\",\"tus\",\"seriously\",\"hora\",\"min\",\"pic\",\"estas\",\"turn\",\"hours\",\"excited\",\"nah\",\"buy\",\"saying\",\"mah\",\"break\",\"needs\",\"ce\",\"room\",\"choice\",\"far\",\"dead\",\"quero\",\"saw\",\"kids\",\"lil\",\"whole\",\"puede\",\"fall\",\"sus\",\"lost\",\"asi\",\"word\",\"\\u2639\",\"also\",\"\\u0631\\u064a\\u062a\\u0648\\u064a\\u062a\",\"probably\",\"everybody\",\"tarde\",\"run\",\"sei\",\"follback\",\"forget\",\"sweet\",\"welcome\",\"selamat\",\"\\uff3f\",\"sur\",\"place\",\"gusta\",\"sabe\",\"androidgames\",\"tp\",\"tiempo\",\"\\u0628\\u0633\",\"sou\",\"tuh\",\"vs\",\"eyes\",\"\\u0627\\u0646\\u0627\",\"picture\",\"das\",\"meet\",\"anak\",\"persona\",\"essa\",\"bored\",\"following\",\"nadie\",\"nobody\",\"dice\",\"alone\",\"sick\",\"red\",\"city\",\"cinta\",\"\\u6708\",\"linda\",\"dream\",\"story\",\"km\",\"het\",\"waiting\",\"^_^\",\"mine\",\"\\u0447\\u0442\\u043e\",\"reason\",\"kk\",\"\\u0644\\u0648\",\"online\",\"fast\",\"udh\",\"wanted\",\"op\",\"others\",\"gay\",\"n\\u2019t\",\"used\",\"sem\",\"understand\",\"moi\",\"sm\",\"aint\",\"donde\",\"bem\",\"which\",\"ng\",\"followback\",\"punya\",\"late\",\"anda\",\"tidur\",\"puedo\",\"early\",\"nd\",\"personas\",\"banyak\",\"\\u2705\",\"\\u278a\",\"trust\",\"noche\",\"tl\",\"\\uff1e\",\"\\u00ab\",\"af\",\"move\",\"pro\",\"bring\",\"ku\",\"called\",\"relationship\",\"idk\",\"hurt\",\"st\",\"pernah\",\"pessoas\",\"hello\",\"uno\",\"unfollowers\",\"cry\"],\"x\":{\"__ndarray__\":\"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\",\"dtype\":\"float32\",\"shape\":[1000]},\"y\":{\"__ndarray__\":\"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\",\"dtype\":\"float32\",\"shape\":[1000]}},\"selected\":{\"id\":\"1165\",\"type\":\"Selection\"},\"selection_policy\":{\"id\":\"1166\",\"type\":\"UnionRenderers\"}},\"id\":\"1109\",\"type\":\"ColumnDataSource\"},{\"attributes\":{},\"id\":\"1117\",\"type\":\"LinearScale\"},{\"attributes\":{},\"id\":\"1134\",\"type\":\"HelpTool\"},{\"attributes\":{},\"id\":\"1115\",\"type\":\"LinearScale\"},{\"attributes\":{},\"id\":\"1125\",\"type\":\"BasicTicker\"},{\"attributes\":{\"source\":{\"id\":\"1109\",\"type\":\"ColumnDataSource\"}},\"id\":\"1146\",\"type\":\"CDSView\"},{\"attributes\":{\"ticker\":{\"id\":\"1120\",\"type\":\"BasicTicker\"}},\"id\":\"1123\",\"type\":\"Grid\"},{\"attributes\":{\"callback\":null},\"id\":\"1111\",\"type\":\"DataRange1d\"},{\"attributes\":{\"dimension\":1,\"ticker\":{\"id\":\"1125\",\"type\":\"BasicTicker\"}},\"id\":\"1128\",\"type\":\"Grid\"},{\"attributes\":{\"formatter\":{\"id\":\"1161\",\"type\":\"BasicTickFormatter\"},\"ticker\":{\"id\":\"1125\",\"type\":\"BasicTicker\"}},\"id\":\"1124\",\"type\":\"LinearAxis\"},{\"attributes\":{\"text\":\"\"},\"id\":\"1158\",\"type\":\"Title\"},{\"attributes\":{},\"id\":\"1163\",\"type\":\"BasicTickFormatter\"},{\"attributes\":{\"bottom_units\":\"screen\",\"fill_alpha\":{\"value\":0.5},\"fill_color\":{\"value\":\"lightgrey\"},\"left_units\":\"screen\",\"level\":\"overlay\",\"line_alpha\":{\"value\":1.0},\"line_color\":{\"value\":\"black\"},\"line_dash\":[4,4],\"line_width\":{\"value\":2},\"render_mode\":\"css\",\"right_units\":\"screen\",\"top_units\":\"screen\"},\"id\":\"1164\",\"type\":\"BoxAnnotation\"},{\"attributes\":{\"formatter\":{\"id\":\"1163\",\"type\":\"BasicTickFormatter\"},\"ticker\":{\"id\":\"1120\",\"type\":\"BasicTicker\"}},\"id\":\"1119\",\"type\":\"LinearAxis\"},{\"attributes\":{},\"id\":\"1120\",\"type\":\"BasicTicker\"},{\"attributes\":{},\"id\":\"1165\",\"type\":\"Selection\"},{\"attributes\":{\"data_source\":{\"id\":\"1109\",\"type\":\"ColumnDataSource\"},\"glyph\":{\"id\":\"1143\",\"type\":\"Scatter\"},\"hover_glyph\":null,\"muted_glyph\":null,\"nonselection_glyph\":{\"id\":\"1144\",\"type\":\"Scatter\"},\"selection_glyph\":null,\"view\":{\"id\":\"1146\",\"type\":\"CDSView\"}},\"id\":\"1145\",\"type\":\"GlyphRenderer\"},{\"attributes\":{\"fill_alpha\":{\"value\":0.1},\"fill_color\":{\"value\":\"#1f77b4\"},\"line_alpha\":{\"value\":0.1},\"line_color\":{\"value\":\"#1f77b4\"},\"size\":{\"units\":\"screen\",\"value\":10},\"x\":{\"field\":\"x\"},\"y\":{\"field\":\"y\"}},\"id\":\"1144\",\"type\":\"Scatter\"},{\"attributes\":{\"active_drag\":\"auto\",\"active_inspect\":\"auto\",\"active_multi\":null,\"active_scroll\":{\"id\":\"1130\",\"type\":\"WheelZoomTool\"},\"active_tap\":\"auto\",\"tools\":[{\"id\":\"1129\",\"type\":\"PanTool\"},{\"id\":\"1130\",\"type\":\"WheelZoomTool\"},{\"id\":\"1131\",\"type\":\"BoxZoomTool\"},{\"id\":\"1132\",\"type\":\"SaveTool\"},{\"id\":\"1133\",\"type\":\"ResetTool\"},{\"id\":\"1134\",\"type\":\"HelpTool\"},{\"id\":\"1147\",\"type\":\"HoverTool\"}]},\"id\":\"1135\",\"type\":\"Toolbar\"},{\"attributes\":{},\"id\":\"1161\",\"type\":\"BasicTickFormatter\"},{\"attributes\":{\"fill_alpha\":{\"value\":0.25},\"fill_color\":{\"field\":\"color\"},\"line_alpha\":{\"value\":0.25},\"line_color\":{\"field\":\"color\"},\"size\":{\"units\":\"screen\",\"value\":10},\"x\":{\"field\":\"x\"},\"y\":{\"field\":\"y\"}},\"id\":\"1143\",\"type\":\"Scatter\"},{\"attributes\":{\"callback\":null,\"tooltips\":[[\"token\",\"@token\"]]},\"id\":\"1147\",\"type\":\"HoverTool\"},{\"attributes\":{},\"id\":\"1166\",\"type\":\"UnionRenderers\"},{\"attributes\":{},\"id\":\"1129\",\"type\":\"PanTool\"},{\"attributes\":{},\"id\":\"1130\",\"type\":\"WheelZoomTool\"},{\"attributes\":{\"overlay\":{\"id\":\"1164\",\"type\":\"BoxAnnotation\"}},\"id\":\"1131\",\"type\":\"BoxZoomTool\"},{\"attributes\":{},\"id\":\"1132\",\"type\":\"SaveTool\"}],\"root_ids\":[\"1110\"]},\"title\":\"Bokeh Application\",\"version\":\"1.3.4\"}};\n",
       "  var render_items = [{\"docid\":\"ad53169b-e782-4854-873c-fb95b3453fa8\",\"roots\":{\"1110\":\"6209a1db-2138-456c-868c-db9d635fe263\"}}];\n",
       "  root.Bokeh.embed.embed_items_notebook(docs_json, render_items);\n",
       "\n",
       "  }\n",
       "  if (root.Bokeh !== undefined) {\n",
       "    embed_document(root);\n",
       "  } else {\n",
       "    var attempts = 0;\n",
       "    var timer = setInterval(function(root) {\n",
       "      if (root.Bokeh !== undefined) {\n",
       "        embed_document(root);\n",
       "        clearInterval(timer);\n",
       "      }\n",
       "      attempts++;\n",
       "      if (attempts > 100) {\n",
       "        console.log(\"Bokeh: ERROR: Unable to run BokehJS code because BokehJS library is missing\");\n",
       "        clearInterval(timer);\n",
       "      }\n",
       "    }, 10, root)\n",
       "  }\n",
       "})(window);"
      ],
      "application/vnd.bokehjs_exec.v0+json": ""
     },
     "metadata": {
      "application/vnd.bokehjs_exec.v0+json": {
       "id": "1110"
      }
     },
     "output_type": "display_data"
    },
    {
     "data": {
      "text/html": [
       "<div style=\"display: table;\"><div style=\"display: table-row;\"><div style=\"display: table-cell;\"><b title=\"bokeh.plotting.figure.Figure\">Figure</b>(</div><div style=\"display: table-cell;\">id&nbsp;=&nbsp;'1110', <span id=\"1222\" style=\"cursor: pointer;\">&hellip;)</span></div></div><div class=\"1221\" style=\"display: none;\"><div style=\"display: table-cell;\"></div><div style=\"display: table-cell;\">above&nbsp;=&nbsp;[],</div></div><div class=\"1221\" style=\"display: none;\"><div style=\"display: table-cell;\"></div><div style=\"display: table-cell;\">align&nbsp;=&nbsp;'start',</div></div><div class=\"1221\" style=\"display: none;\"><div style=\"display: table-cell;\"></div><div style=\"display: table-cell;\">aspect_ratio&nbsp;=&nbsp;None,</div></div><div class=\"1221\" style=\"display: none;\"><div style=\"display: table-cell;\"></div><div style=\"display: table-cell;\">aspect_scale&nbsp;=&nbsp;1,</div></div><div class=\"1221\" style=\"display: none;\"><div style=\"display: table-cell;\"></div><div style=\"display: table-cell;\">background&nbsp;=&nbsp;None,</div></div><div class=\"1221\" style=\"display: none;\"><div style=\"display: table-cell;\"></div><div style=\"display: table-cell;\">background_fill_alpha&nbsp;=&nbsp;{'value': 1.0},</div></div><div class=\"1221\" style=\"display: none;\"><div style=\"display: table-cell;\"></div><div style=\"display: table-cell;\">background_fill_color&nbsp;=&nbsp;{'value': '#ffffff'},</div></div><div class=\"1221\" style=\"display: none;\"><div style=\"display: table-cell;\"></div><div style=\"display: table-cell;\">below&nbsp;=&nbsp;[LinearAxis(id='1119', ...)],</div></div><div class=\"1221\" style=\"display: none;\"><div style=\"display: table-cell;\"></div><div style=\"display: table-cell;\">border_fill_alpha&nbsp;=&nbsp;{'value': 1.0},</div></div><div class=\"1221\" style=\"display: none;\"><div style=\"display: table-cell;\"></div><div style=\"display: table-cell;\">border_fill_color&nbsp;=&nbsp;{'value': '#ffffff'},</div></div><div class=\"1221\" style=\"display: none;\"><div style=\"display: table-cell;\"></div><div style=\"display: table-cell;\">center&nbsp;=&nbsp;[Grid(id='1123', ...), Grid(id='1128', ...)],</div></div><div class=\"1221\" style=\"display: none;\"><div style=\"display: table-cell;\"></div><div style=\"display: table-cell;\">css_classes&nbsp;=&nbsp;[],</div></div><div class=\"1221\" style=\"display: none;\"><div style=\"display: table-cell;\"></div><div style=\"display: table-cell;\">disabled&nbsp;=&nbsp;False,</div></div><div class=\"1221\" style=\"display: none;\"><div style=\"display: table-cell;\"></div><div style=\"display: table-cell;\">extra_x_ranges&nbsp;=&nbsp;{},</div></div><div class=\"1221\" style=\"display: none;\"><div style=\"display: table-cell;\"></div><div style=\"display: table-cell;\">extra_y_ranges&nbsp;=&nbsp;{},</div></div><div class=\"1221\" style=\"display: none;\"><div style=\"display: table-cell;\"></div><div style=\"display: table-cell;\">frame_height&nbsp;=&nbsp;None,</div></div><div class=\"1221\" style=\"display: none;\"><div style=\"display: table-cell;\"></div><div style=\"display: table-cell;\">frame_width&nbsp;=&nbsp;None,</div></div><div class=\"1221\" style=\"display: none;\"><div style=\"display: table-cell;\"></div><div style=\"display: table-cell;\">height&nbsp;=&nbsp;None,</div></div><div class=\"1221\" style=\"display: none;\"><div style=\"display: table-cell;\"></div><div style=\"display: table-cell;\">height_policy&nbsp;=&nbsp;'auto',</div></div><div class=\"1221\" style=\"display: none;\"><div style=\"display: table-cell;\"></div><div style=\"display: table-cell;\">hidpi&nbsp;=&nbsp;True,</div></div><div class=\"1221\" style=\"display: none;\"><div style=\"display: table-cell;\"></div><div style=\"display: table-cell;\">js_event_callbacks&nbsp;=&nbsp;{},</div></div><div class=\"1221\" style=\"display: none;\"><div style=\"display: table-cell;\"></div><div style=\"display: table-cell;\">js_property_callbacks&nbsp;=&nbsp;{},</div></div><div class=\"1221\" style=\"display: none;\"><div style=\"display: table-cell;\"></div><div style=\"display: table-cell;\">left&nbsp;=&nbsp;[LinearAxis(id='1124', ...)],</div></div><div class=\"1221\" style=\"display: none;\"><div style=\"display: table-cell;\"></div><div style=\"display: table-cell;\">lod_factor&nbsp;=&nbsp;10,</div></div><div class=\"1221\" style=\"display: none;\"><div style=\"display: table-cell;\"></div><div style=\"display: table-cell;\">lod_interval&nbsp;=&nbsp;300,</div></div><div class=\"1221\" style=\"display: none;\"><div style=\"display: table-cell;\"></div><div style=\"display: table-cell;\">lod_threshold&nbsp;=&nbsp;2000,</div></div><div class=\"1221\" style=\"display: none;\"><div style=\"display: table-cell;\"></div><div style=\"display: table-cell;\">lod_timeout&nbsp;=&nbsp;500,</div></div><div class=\"1221\" style=\"display: none;\"><div style=\"display: table-cell;\"></div><div style=\"display: table-cell;\">margin&nbsp;=&nbsp;(0, 0, 0, 0),</div></div><div class=\"1221\" style=\"display: none;\"><div style=\"display: table-cell;\"></div><div style=\"display: table-cell;\">match_aspect&nbsp;=&nbsp;False,</div></div><div class=\"1221\" style=\"display: none;\"><div style=\"display: table-cell;\"></div><div style=\"display: table-cell;\">max_height&nbsp;=&nbsp;None,</div></div><div class=\"1221\" style=\"display: none;\"><div style=\"display: table-cell;\"></div><div style=\"display: table-cell;\">max_width&nbsp;=&nbsp;None,</div></div><div class=\"1221\" style=\"display: none;\"><div style=\"display: table-cell;\"></div><div style=\"display: table-cell;\">min_border&nbsp;=&nbsp;5,</div></div><div class=\"1221\" style=\"display: none;\"><div style=\"display: table-cell;\"></div><div style=\"display: table-cell;\">min_border_bottom&nbsp;=&nbsp;None,</div></div><div class=\"1221\" style=\"display: none;\"><div style=\"display: table-cell;\"></div><div style=\"display: table-cell;\">min_border_left&nbsp;=&nbsp;None,</div></div><div class=\"1221\" style=\"display: none;\"><div style=\"display: table-cell;\"></div><div style=\"display: table-cell;\">min_border_right&nbsp;=&nbsp;None,</div></div><div class=\"1221\" style=\"display: none;\"><div style=\"display: table-cell;\"></div><div style=\"display: table-cell;\">min_border_top&nbsp;=&nbsp;None,</div></div><div class=\"1221\" style=\"display: none;\"><div style=\"display: table-cell;\"></div><div style=\"display: table-cell;\">min_height&nbsp;=&nbsp;None,</div></div><div class=\"1221\" style=\"display: none;\"><div style=\"display: table-cell;\"></div><div style=\"display: table-cell;\">min_width&nbsp;=&nbsp;None,</div></div><div class=\"1221\" style=\"display: none;\"><div style=\"display: table-cell;\"></div><div style=\"display: table-cell;\">name&nbsp;=&nbsp;None,</div></div><div class=\"1221\" style=\"display: none;\"><div style=\"display: table-cell;\"></div><div style=\"display: table-cell;\">outline_line_alpha&nbsp;=&nbsp;{'value': 1.0},</div></div><div class=\"1221\" style=\"display: none;\"><div style=\"display: table-cell;\"></div><div style=\"display: table-cell;\">outline_line_cap&nbsp;=&nbsp;'butt',</div></div><div class=\"1221\" style=\"display: none;\"><div style=\"display: table-cell;\"></div><div style=\"display: table-cell;\">outline_line_color&nbsp;=&nbsp;{'value': '#e5e5e5'},</div></div><div class=\"1221\" style=\"display: none;\"><div style=\"display: table-cell;\"></div><div style=\"display: table-cell;\">outline_line_dash&nbsp;=&nbsp;[],</div></div><div class=\"1221\" style=\"display: none;\"><div style=\"display: table-cell;\"></div><div style=\"display: table-cell;\">outline_line_dash_offset&nbsp;=&nbsp;0,</div></div><div class=\"1221\" style=\"display: none;\"><div style=\"display: table-cell;\"></div><div style=\"display: table-cell;\">outline_line_join&nbsp;=&nbsp;'bevel',</div></div><div class=\"1221\" style=\"display: none;\"><div style=\"display: table-cell;\"></div><div style=\"display: table-cell;\">outline_line_width&nbsp;=&nbsp;{'value': 1},</div></div><div class=\"1221\" style=\"display: none;\"><div style=\"display: table-cell;\"></div><div style=\"display: table-cell;\">output_backend&nbsp;=&nbsp;'canvas',</div></div><div class=\"1221\" style=\"display: none;\"><div style=\"display: table-cell;\"></div><div style=\"display: table-cell;\">plot_height&nbsp;=&nbsp;400,</div></div><div class=\"1221\" style=\"display: none;\"><div style=\"display: table-cell;\"></div><div style=\"display: table-cell;\">plot_width&nbsp;=&nbsp;600,</div></div><div class=\"1221\" style=\"display: none;\"><div style=\"display: table-cell;\"></div><div style=\"display: table-cell;\">renderers&nbsp;=&nbsp;[GlyphRenderer(id='1145', ...)],</div></div><div class=\"1221\" style=\"display: none;\"><div style=\"display: table-cell;\"></div><div style=\"display: table-cell;\">reset_policy&nbsp;=&nbsp;'standard',</div></div><div class=\"1221\" style=\"display: none;\"><div style=\"display: table-cell;\"></div><div style=\"display: table-cell;\">right&nbsp;=&nbsp;[],</div></div><div class=\"1221\" style=\"display: none;\"><div style=\"display: table-cell;\"></div><div style=\"display: table-cell;\">sizing_mode&nbsp;=&nbsp;None,</div></div><div class=\"1221\" style=\"display: none;\"><div style=\"display: table-cell;\"></div><div style=\"display: table-cell;\">subscribed_events&nbsp;=&nbsp;[],</div></div><div class=\"1221\" style=\"display: none;\"><div style=\"display: table-cell;\"></div><div style=\"display: table-cell;\">tags&nbsp;=&nbsp;[],</div></div><div class=\"1221\" style=\"display: none;\"><div style=\"display: table-cell;\"></div><div style=\"display: table-cell;\">title&nbsp;=&nbsp;Title(id='1158', ...),</div></div><div class=\"1221\" style=\"display: none;\"><div style=\"display: table-cell;\"></div><div style=\"display: table-cell;\">title_location&nbsp;=&nbsp;'above',</div></div><div class=\"1221\" style=\"display: none;\"><div style=\"display: table-cell;\"></div><div style=\"display: table-cell;\">toolbar&nbsp;=&nbsp;Toolbar(id='1135', ...),</div></div><div class=\"1221\" style=\"display: none;\"><div style=\"display: table-cell;\"></div><div style=\"display: table-cell;\">toolbar_location&nbsp;=&nbsp;'right',</div></div><div class=\"1221\" style=\"display: none;\"><div style=\"display: table-cell;\"></div><div style=\"display: table-cell;\">toolbar_sticky&nbsp;=&nbsp;True,</div></div><div class=\"1221\" style=\"display: none;\"><div style=\"display: table-cell;\"></div><div style=\"display: table-cell;\">visible&nbsp;=&nbsp;True,</div></div><div class=\"1221\" style=\"display: none;\"><div style=\"display: table-cell;\"></div><div style=\"display: table-cell;\">width&nbsp;=&nbsp;None,</div></div><div class=\"1221\" style=\"display: none;\"><div style=\"display: table-cell;\"></div><div style=\"display: table-cell;\">width_policy&nbsp;=&nbsp;'auto',</div></div><div class=\"1221\" style=\"display: none;\"><div style=\"display: table-cell;\"></div><div style=\"display: table-cell;\">x_range&nbsp;=&nbsp;DataRange1d(id='1111', ...),</div></div><div class=\"1221\" style=\"display: none;\"><div style=\"display: table-cell;\"></div><div style=\"display: table-cell;\">x_scale&nbsp;=&nbsp;LinearScale(id='1115', ...),</div></div><div class=\"1221\" style=\"display: none;\"><div style=\"display: table-cell;\"></div><div style=\"display: table-cell;\">y_range&nbsp;=&nbsp;DataRange1d(id='1113', ...),</div></div><div class=\"1221\" style=\"display: none;\"><div style=\"display: table-cell;\"></div><div style=\"display: table-cell;\">y_scale&nbsp;=&nbsp;LinearScale(id='1117', ...))</div></div></div>\n",
       "<script>\n",
       "(function() {\n",
       "  var expanded = false;\n",
       "  var ellipsis = document.getElementById(\"1222\");\n",
       "  ellipsis.addEventListener(\"click\", function() {\n",
       "    var rows = document.getElementsByClassName(\"1221\");\n",
       "    for (var i = 0; i < rows.length; i++) {\n",
       "      var el = rows[i];\n",
       "      el.style.display = expanded ? \"none\" : \"table-row\";\n",
       "    }\n",
       "    ellipsis.innerHTML = expanded ? \"&hellip;)\" : \"&lsaquo;&lsaquo;&lsaquo;\";\n",
       "    expanded = !expanded;\n",
       "  });\n",
       "})();\n",
       "</script>\n"
      ],
      "text/plain": [
       "Figure(id='1110', ...)"
      ]
     },
     "execution_count": 20,
     "metadata": {},
     "output_type": "execute_result"
    }
   ],
   "source": [
    "draw_vectors(word_tsne[:, 0], word_tsne[:, 1], color='green', token=words)"
   ]
  },
  {
   "cell_type": "markdown",
   "metadata": {},
   "source": [
    "### Visualizing phrases\n",
    "\n",
    "Word embeddings can also be used to represent short phrases. The simplest way is to take __an average__ of vectors for all tokens in the phrase with some weights.\n",
    "\n",
    "This trick is useful to identify what data are you working with: find if there are any outliers, clusters or other artefacts.\n",
    "\n",
    "Let's try this new hammer on our data!\n"
   ]
  },
  {
   "cell_type": "code",
   "execution_count": 21,
   "metadata": {},
   "outputs": [],
   "source": [
    "def get_phrase_embedding(phrase):\n",
    "    \"\"\"\n",
    "    Convert phrase to a vector by aggregating it's word embeddings. See description above.\n",
    "    \"\"\"\n",
    "    # 1. lowercase phrase\n",
    "    # 2. tokenize phrase\n",
    "    # 3. average word vectors for all words in tokenized phrase\n",
    "    # skip words that are not in model's vocabulary\n",
    "    # if all words are missing from vocabulary, return zeros\n",
    "    \n",
    "    vector = np.zeros([model.vector_size], dtype='float32')\n",
    "    \n",
    "    phrase_tok = tokenizer.tokenize(phrase.lower())\n",
    "    word_vectors = np.array([model.get_vector(word) for word in phrase_tok if word in model.vocab])\n",
    "    if len(word_vectors) > 0:\n",
    "        return word_vectors.mean(0)\n",
    "    return vector"
   ]
  },
  {
   "cell_type": "code",
   "execution_count": 22,
   "metadata": {},
   "outputs": [],
   "source": [
    "vector = get_phrase_embedding(\"I'm very sure. This never happened to me before...\")\n",
    "\n",
    "assert np.allclose(vector[::10],\n",
    "                   np.array([ 0.31807372, -0.02558171,  0.0933293 , -0.1002182 , -1.0278689 ,\n",
    "                             -0.16621883,  0.05083408,  0.17989802,  1.3701859 ,  0.08655966],\n",
    "                              dtype=np.float32))"
   ]
  },
  {
   "cell_type": "code",
   "execution_count": 23,
   "metadata": {},
   "outputs": [],
   "source": [
    "# let's only consider ~5k phrases for a first run.\n",
    "chosen_phrases = data[::len(data) // 1000]\n",
    "\n",
    "# compute vectors for chosen phrases\n",
    "phrase_vectors = np.array([get_phrase_embedding(phrase) for phrase in chosen_phrases])"
   ]
  },
  {
   "cell_type": "code",
   "execution_count": 24,
   "metadata": {},
   "outputs": [],
   "source": [
    "assert isinstance(phrase_vectors, np.ndarray) and np.isfinite(phrase_vectors).all()\n",
    "assert phrase_vectors.shape == (len(chosen_phrases), model.vector_size)"
   ]
  },
  {
   "cell_type": "code",
   "execution_count": 25,
   "metadata": {},
   "outputs": [
    {
     "name": "stdout",
     "output_type": "stream",
     "text": [
      "[t-SNE] Computing 91 nearest neighbors...\n",
      "[t-SNE] Indexed 1001 samples in 0.002s...\n",
      "[t-SNE] Computed neighbors for 1001 samples in 0.186s...\n",
      "[t-SNE] Computed conditional probabilities for sample 1000 / 1001\n",
      "[t-SNE] Computed conditional probabilities for sample 1001 / 1001\n",
      "[t-SNE] Mean sigma: 0.477874\n",
      "[t-SNE] Computed conditional probabilities in 0.035s\n",
      "[t-SNE] Iteration 50: error = 77.1874084, gradient norm = 0.3330577 (50 iterations in 6.525s)\n",
      "[t-SNE] Iteration 100: error = 79.8868713, gradient norm = 0.3162883 (50 iterations in 7.244s)\n",
      "[t-SNE] Iteration 150: error = 81.2788315, gradient norm = 0.3159787 (50 iterations in 7.957s)\n",
      "[t-SNE] Iteration 200: error = 82.3438492, gradient norm = 0.2816339 (50 iterations in 7.402s)\n",
      "[t-SNE] Iteration 250: error = 80.8344727, gradient norm = 0.2949817 (50 iterations in 7.094s)\n",
      "[t-SNE] KL divergence after 250 iterations with early exaggeration: 80.834473\n",
      "[t-SNE] Iteration 300: error = 2.0850468, gradient norm = 0.0029601 (50 iterations in 4.660s)\n",
      "[t-SNE] Iteration 350: error = 1.9942746, gradient norm = 0.0008422 (50 iterations in 3.765s)\n",
      "[t-SNE] Iteration 400: error = 1.9521776, gradient norm = 0.0004482 (50 iterations in 3.734s)\n",
      "[t-SNE] Iteration 450: error = 1.9289017, gradient norm = 0.0002811 (50 iterations in 3.746s)\n",
      "[t-SNE] Iteration 500: error = 1.9175373, gradient norm = 0.0001969 (50 iterations in 3.671s)\n",
      "[t-SNE] Iteration 550: error = 1.9117017, gradient norm = 0.0001588 (50 iterations in 3.657s)\n",
      "[t-SNE] Iteration 600: error = 1.9031806, gradient norm = 0.0001815 (50 iterations in 3.586s)\n",
      "[t-SNE] Iteration 650: error = 1.8906088, gradient norm = 0.0001892 (50 iterations in 3.523s)\n",
      "[t-SNE] Iteration 700: error = 1.8862756, gradient norm = 0.0001303 (50 iterations in 3.439s)\n",
      "[t-SNE] Iteration 750: error = 1.8824900, gradient norm = 0.0001490 (50 iterations in 3.540s)\n",
      "[t-SNE] KL divergence after 750 iterations: 1.882490\n"
     ]
    }
   ],
   "source": [
    "# map vectors into 2d space with pca, tsne or your other method of choice\n",
    "# don't forget to normalize\n",
    "\n",
    "phrase_vectors_2d = TSNE(verbose=1000, n_iter=750).fit_transform(phrase_vectors)\n",
    "\n",
    "phrase_vectors_2d = (phrase_vectors_2d - phrase_vectors_2d.mean(axis=0)) / phrase_vectors_2d.std(axis=0)"
   ]
  },
  {
   "cell_type": "code",
   "execution_count": 26,
   "metadata": {},
   "outputs": [
    {
     "data": {
      "text/html": [
       "\n",
       "\n",
       "\n",
       "\n",
       "\n",
       "\n",
       "  <div class=\"bk-root\" id=\"0def01b2-eae6-4c27-bda7-84481769bff1\" data-root-id=\"1226\"></div>\n"
      ]
     },
     "metadata": {},
     "output_type": "display_data"
    },
    {
     "data": {
      "application/javascript": [
       "(function(root) {\n",
       "  function embed_document(root) {\n",
       "    \n",
       "  var docs_json = {\"1d24d125-a97c-4cf9-9541-03623b564493\":{\"roots\":{\"references\":[{\"attributes\":{\"below\":[{\"id\":\"1235\",\"type\":\"LinearAxis\"}],\"center\":[{\"id\":\"1239\",\"type\":\"Grid\"},{\"id\":\"1244\",\"type\":\"Grid\"}],\"left\":[{\"id\":\"1240\",\"type\":\"LinearAxis\"}],\"plot_height\":400,\"renderers\":[{\"id\":\"1261\",\"type\":\"GlyphRenderer\"}],\"title\":{\"id\":\"1283\",\"type\":\"Title\"},\"toolbar\":{\"id\":\"1251\",\"type\":\"Toolbar\"},\"x_range\":{\"id\":\"1227\",\"type\":\"DataRange1d\"},\"x_scale\":{\"id\":\"1231\",\"type\":\"LinearScale\"},\"y_range\":{\"id\":\"1229\",\"type\":\"DataRange1d\"},\"y_scale\":{\"id\":\"1233\",\"type\":\"LinearScale\"}},\"id\":\"1226\",\"subtype\":\"Figure\",\"type\":\"Plot\"},{\"attributes\":{\"callback\":null,\"tooltips\":[[\"phrase\",\"@phrase\"]]},\"id\":\"1263\",\"type\":\"HoverTool\"},{\"attributes\":{\"formatter\":{\"id\":\"1288\",\"type\":\"BasicTickFormatter\"},\"ticker\":{\"id\":\"1236\",\"type\":\"BasicTicker\"}},\"id\":\"1235\",\"type\":\"LinearAxis\"},{\"attributes\":{\"callback\":null},\"id\":\"1227\",\"type\":\"DataRange1d\"},{\"attributes\":{},\"id\":\"1241\",\"type\":\"BasicTicker\"},{\"attributes\":{},\"id\":\"1250\",\"type\":\"HelpTool\"},{\"attributes\":{\"ticker\":{\"id\":\"1236\",\"type\":\"BasicTicker\"}},\"id\":\"1239\",\"type\":\"Grid\"},{\"attributes\":{\"text\":\"\"},\"id\":\"1283\",\"type\":\"Title\"},{\"attributes\":{},\"id\":\"1288\",\"type\":\"BasicTickFormatter\"},{\"attributes\":{},\"id\":\"1290\",\"type\":\"Selection\"},{\"attributes\":{\"dimension\":1,\"ticker\":{\"id\":\"1241\",\"type\":\"BasicTicker\"}},\"id\":\"1244\",\"type\":\"Grid\"},{\"attributes\":{},\"id\":\"1233\",\"type\":\"LinearScale\"},{\"attributes\":{},\"id\":\"1231\",\"type\":\"LinearScale\"},{\"attributes\":{\"data_source\":{\"id\":\"1225\",\"type\":\"ColumnDataSource\"},\"glyph\":{\"id\":\"1259\",\"type\":\"Scatter\"},\"hover_glyph\":null,\"muted_glyph\":null,\"nonselection_glyph\":{\"id\":\"1260\",\"type\":\"Scatter\"},\"selection_glyph\":null,\"view\":{\"id\":\"1262\",\"type\":\"CDSView\"}},\"id\":\"1261\",\"type\":\"GlyphRenderer\"},{\"attributes\":{},\"id\":\"1286\",\"type\":\"BasicTickFormatter\"},{\"attributes\":{},\"id\":\"1245\",\"type\":\"PanTool\"},{\"attributes\":{\"fill_alpha\":{\"value\":0.25},\"fill_color\":{\"field\":\"color\"},\"line_alpha\":{\"value\":0.25},\"line_color\":{\"field\":\"color\"},\"size\":{\"units\":\"screen\",\"value\":20},\"x\":{\"field\":\"x\"},\"y\":{\"field\":\"y\"}},\"id\":\"1259\",\"type\":\"Scatter\"},{\"attributes\":{\"bottom_units\":\"screen\",\"fill_alpha\":{\"value\":0.5},\"fill_color\":{\"value\":\"lightgrey\"},\"left_units\":\"screen\",\"level\":\"overlay\",\"line_alpha\":{\"value\":1.0},\"line_color\":{\"value\":\"black\"},\"line_dash\":[4,4],\"line_width\":{\"value\":2},\"render_mode\":\"css\",\"right_units\":\"screen\",\"top_units\":\"screen\"},\"id\":\"1289\",\"type\":\"BoxAnnotation\"},{\"attributes\":{},\"id\":\"1246\",\"type\":\"WheelZoomTool\"},{\"attributes\":{\"callback\":null,\"data\":{\"color\":[\"blue\",\"blue\",\"blue\",\"blue\",\"blue\",\"blue\",\"blue\",\"blue\",\"blue\",\"blue\",\"blue\",\"blue\",\"blue\",\"blue\",\"blue\",\"blue\",\"blue\",\"blue\",\"blue\",\"blue\",\"blue\",\"blue\",\"blue\",\"blue\",\"blue\",\"blue\",\"blue\",\"blue\",\"blue\",\"blue\",\"blue\",\"blue\",\"blue\",\"blue\",\"blue\",\"blue\",\"blue\",\"blue\",\"blue\",\"blue\",\"blue\",\"blue\",\"blue\",\"blue\",\"blue\",\"blue\",\"blue\",\"blue\",\"blue\",\"blue\",\"blue\",\"blue\",\"blue\",\"blue\",\"blue\",\"blue\",\"blue\",\"blue\",\"blue\",\"blue\",\"blue\",\"blue\",\"blue\",\"blue\",\"blue\",\"blue\",\"blue\",\"blue\",\"blue\",\"blue\",\"blue\",\"blue\",\"blue\",\"blue\",\"blue\",\"blue\",\"blue\",\"blue\",\"blue\",\"blue\",\"blue\",\"blue\",\"blue\",\"blue\",\"blue\",\"blue\",\"blue\",\"blue\",\"blue\",\"blue\",\"blue\",\"blue\",\"blue\",\"blue\",\"blue\",\"blue\",\"blue\",\"blue\",\"blue\",\"blue\",\"blue\",\"blue\",\"blue\",\"blue\",\"blue\",\"blue\",\"blue\",\"blue\",\"blue\",\"blue\",\"blue\",\"blue\",\"blue\",\"blue\",\"blue\",\"blue\",\"blue\",\"blue\",\"blue\",\"blue\",\"blue\",\"blue\",\"blue\",\"blue\",\"blue\",\"blue\",\"blue\",\"blue\",\"blue\",\"blue\",\"blue\",\"blue\",\"blue\",\"blue\",\"blue\",\"blue\",\"blue\",\"blue\",\"blue\",\"blue\",\"blue\",\"blue\",\"blue\",\"blue\",\"blue\",\"blue\",\"blue\",\"blue\",\"blue\",\"blue\",\"blue\",\"blue\",\"blue\",\"blue\",\"blue\",\"blue\",\"blue\",\"blue\",\"blue\",\"blue\",\"blue\",\"blue\",\"blue\",\"blue\",\"blue\",\"blue\",\"blue\",\"blue\",\"blue\",\"blue\",\"blue\",\"blue\",\"blue\",\"blue\",\"blue\",\"blue\",\"blue\",\"blue\",\"blue\",\"blue\",\"blue\",\"blue\",\"blue\",\"blue\",\"blue\",\"blue\",\"blue\",\"blue\",\"blue\",\"blue\",\"blue\",\"blue\",\"blue\",\"blue\",\"blue\",\"blue\",\"blue\",\"blue\",\"blue\",\"blue\",\"blue\",\"blue\",\"blue\",\"blue\",\"blue\",\"blue\",\"blue\",\"blue\",\"blue\",\"blue\",\"blue\",\"blue\",\"blue\",\"blue\",\"blue\",\"blue\",\"blue\",\"blue\",\"blue\",\"blue\",\"blue\",\"blue\",\"blue\",\"blue\",\"blue\",\"blue\",\"blue\",\"blue\",\"blue\",\"blue\",\"blue\",\"blue\",\"blue\",\"blue\",\"blue\",\"blue\",\"blue\",\"blue\",\"blue\",\"blue\",\"blue\",\"blue\",\"blue\",\"blue\",\"blue\",\"blue\",\"blue\",\"blue\",\"blue\",\"blue\",\"blue\",\"blue\",\"blue\",\"blue\",\"blue\",\"blue\",\"blue\",\"blue\",\"blue\",\"blue\",\"blue\",\"blue\",\"blue\",\"blue\",\"blue\",\"blue\",\"blue\",\"blue\",\"blue\",\"blue\",\"blue\",\"blue\",\"blue\",\"blue\",\"blue\",\"blue\",\"blue\",\"blue\",\"blue\",\"blue\",\"blue\",\"blue\",\"blue\",\"blue\",\"blue\",\"blue\",\"blue\",\"blue\",\"blue\",\"blue\",\"blue\",\"blue\",\"blue\",\"blue\",\"blue\",\"blue\",\"blue\",\"blue\",\"blue\",\"blue\",\"blue\",\"blue\",\"blue\",\"blue\",\"blue\",\"blue\",\"blue\",\"blue\",\"blue\",\"blue\",\"blue\",\"blue\",\"blue\",\"blue\",\"blue\",\"blue\",\"blue\",\"blue\",\"blue\",\"blue\",\"blue\",\"blue\",\"blue\",\"blue\",\"blue\",\"blue\",\"blue\",\"blue\",\"blue\",\"blue\",\"blue\",\"blue\",\"blue\",\"blue\",\"blue\",\"blue\",\"blue\",\"blue\",\"blue\",\"blue\",\"blue\",\"blue\",\"blue\",\"blue\",\"blue\",\"blue\",\"blue\",\"blue\",\"blue\",\"blue\",\"blue\",\"blue\",\"blue\",\"blue\",\"blue\",\"blue\",\"blue\",\"blue\",\"blue\",\"blue\",\"blue\",\"blue\",\"blue\",\"blue\",\"blue\",\"blue\",\"blue\",\"blue\",\"blue\",\"blue\",\"blue\",\"blue\",\"blue\",\"blue\",\"blue\",\"blue\",\"blue\",\"blue\",\"blue\",\"blue\",\"blue\",\"blue\",\"blue\",\"blue\",\"blue\",\"blue\",\"blue\",\"blue\",\"blue\",\"blue\",\"blue\",\"blue\",\"blue\",\"blue\",\"blue\",\"blue\",\"blue\",\"blue\",\"blue\",\"blue\",\"blue\",\"blue\",\"blue\",\"blue\",\"blue\",\"blue\",\"blue\",\"blue\",\"blue\",\"blue\",\"blue\",\"blue\",\"blue\",\"blue\",\"blue\",\"blue\",\"blue\",\"blue\",\"blue\",\"blue\",\"blue\",\"blue\",\"blue\",\"blue\",\"blue\",\"blue\",\"blue\",\"blue\",\"blue\",\"blue\",\"blue\",\"blue\",\"blue\",\"blue\",\"blue\",\"blue\",\"blue\",\"blue\",\"blue\",\"blue\",\"blue\",\"blue\",\"blue\",\"blue\",\"blue\",\"blue\",\"blue\",\"blue\",\"blue\",\"blue\",\"blue\",\"blue\",\"blue\",\"blue\",\"blue\",\"blue\",\"blue\",\"blue\",\"blue\",\"blue\",\"blue\",\"blue\",\"blue\",\"blue\",\"blue\",\"blue\",\"blue\",\"blue\",\"blue\",\"blue\",\"blue\",\"blue\",\"blue\",\"blue\",\"blue\",\"blue\",\"blue\",\"blue\",\"blue\",\"blue\",\"blue\",\"blue\",\"blue\",\"blue\",\"blue\",\"blue\",\"blue\",\"blue\",\"blue\",\"blue\",\"blue\",\"blue\",\"blue\",\"blue\",\"blue\",\"blue\",\"blue\",\"blue\",\"blue\",\"blue\",\"blue\",\"blue\",\"blue\",\"blue\",\"blue\",\"blue\",\"blue\",\"blue\",\"blue\",\"blue\",\"blue\",\"blue\",\"blue\",\"blue\",\"blue\",\"blue\",\"blue\",\"blue\",\"blue\",\"blue\",\"blue\",\"blue\",\"blue\",\"blue\",\"blue\",\"blue\",\"blue\",\"blue\",\"blue\",\"blue\",\"blue\",\"blue\",\"blue\",\"blue\",\"blue\",\"blue\",\"blue\",\"blue\",\"blue\",\"blue\",\"blue\",\"blue\",\"blue\",\"blue\",\"blue\",\"blue\",\"blue\",\"blue\",\"blue\",\"blue\",\"blue\",\"blue\",\"blue\",\"blue\",\"blue\",\"blue\",\"blue\",\"blue\",\"blue\",\"blue\",\"blue\",\"blue\",\"blue\",\"blue\",\"blue\",\"blue\",\"blue\",\"blue\",\"blue\",\"blue\",\"blue\",\"blue\",\"blue\",\"blue\",\"blue\",\"blue\",\"blue\",\"blue\",\"blue\",\"blue\",\"blue\",\"blue\",\"blue\",\"blue\",\"blue\",\"blue\",\"blue\",\"blue\",\"blue\",\"blue\",\"blue\",\"blue\",\"blue\",\"blue\",\"blue\",\"blue\",\"blue\",\"blue\",\"blue\",\"blue\",\"blue\",\"blue\",\"blue\",\"blue\",\"blue\",\"blue\",\"blue\",\"blue\",\"blue\",\"blue\",\"blue\",\"blue\",\"blue\",\"blue\",\"blue\",\"blue\",\"blue\",\"blue\",\"blue\",\"blue\",\"blue\",\"blue\",\"blue\",\"blue\",\"blue\",\"blue\",\"blue\",\"blue\",\"blue\",\"blue\",\"blue\",\"blue\",\"blue\",\"blue\",\"blue\",\"blue\",\"blue\",\"blue\",\"blue\",\"blue\",\"blue\",\"blue\",\"blue\",\"blue\",\"blue\",\"blue\",\"blue\",\"blue\",\"blue\",\"blue\",\"blue\",\"blue\",\"blue\",\"blue\",\"blue\",\"blue\",\"blue\",\"blue\",\"blue\",\"blue\",\"blue\",\"blue\",\"blue\",\"blue\",\"blue\",\"blue\",\"blue\",\"blue\",\"blue\",\"blue\",\"blue\",\"blue\",\"blue\",\"blue\",\"blue\",\"blue\",\"blue\",\"blue\",\"blue\",\"blue\",\"blue\",\"blue\",\"blue\",\"blue\",\"blue\",\"blue\",\"blue\",\"blue\",\"blue\",\"blue\",\"blue\",\"blue\",\"blue\",\"blue\",\"blue\",\"blue\",\"blue\",\"blue\",\"blue\",\"blue\",\"blue\",\"blue\",\"blue\",\"blue\",\"blue\",\"blue\",\"blue\",\"blue\",\"blue\",\"blue\",\"blue\",\"blue\",\"blue\",\"blue\",\"blue\",\"blue\",\"blue\",\"blue\",\"blue\",\"blue\",\"blue\",\"blue\",\"blue\",\"blue\",\"blue\",\"blue\",\"blue\",\"blue\",\"blue\",\"blue\",\"blue\",\"blue\",\"blue\",\"blue\",\"blue\",\"blue\",\"blue\",\"blue\",\"blue\",\"blue\",\"blue\",\"blue\",\"blue\",\"blue\",\"blue\",\"blue\",\"blue\",\"blue\",\"blue\",\"blue\",\"blue\",\"blue\",\"blue\",\"blue\",\"blue\",\"blue\",\"blue\",\"blue\",\"blue\",\"blue\",\"blue\",\"blue\",\"blue\",\"blue\",\"blue\",\"blue\",\"blue\",\"blue\",\"blue\",\"blue\",\"blue\",\"blue\",\"blue\",\"blue\",\"blue\",\"blue\",\"blue\",\"blue\",\"blue\",\"blue\",\"blue\",\"blue\",\"blue\",\"blue\",\"blue\",\"blue\",\"blue\",\"blue\",\"blue\",\"blue\",\"blue\",\"blue\",\"blue\",\"blue\",\"blue\",\"blue\",\"blue\",\"blue\",\"blue\",\"blue\",\"blue\",\"blue\",\"blue\",\"blue\",\"blue\",\"blue\",\"blue\",\"blue\",\"blue\",\"blue\",\"blue\",\"blue\",\"blue\",\"blue\",\"blue\",\"blue\",\"blue\",\"blue\",\"blue\",\"blue\",\"blue\",\"blue\",\"blue\",\"blue\",\"blue\",\"blue\",\"blue\",\"blue\",\"blue\",\"blue\",\"blue\",\"blue\",\"blue\",\"blue\",\"blue\",\"blue\",\"blue\",\"blue\",\"blue\",\"blue\",\"blue\",\"blue\",\"blue\",\"blue\",\"blue\",\"blue\",\"blue\",\"blue\",\"blue\",\"blue\",\"blue\",\"blue\",\"blue\",\"blue\",\"blue\",\"blue\",\"blue\",\"blue\",\"blue\",\"blue\",\"blue\",\"blue\",\"blue\",\"blue\",\"blue\",\"blue\",\"blue\",\"blue\",\"blue\",\"blue\",\"blue\",\"blue\",\"blue\",\"blue\",\"blue\",\"blue\",\"blue\",\"blue\",\"blue\",\"blue\",\"blue\",\"blue\",\"blue\",\"blue\",\"blue\",\"blue\",\"blue\",\"blue\",\"blue\",\"blue\",\"blue\",\"blue\",\"blue\",\"blue\",\"blue\",\"blue\",\"blue\",\"blue\",\"blue\",\"blue\",\"blue\",\"blue\",\"blue\",\"blue\",\"blue\",\"blue\",\"blue\",\"blue\",\"blue\",\"blue\",\"blue\",\"blue\",\"blue\",\"blue\",\"blue\",\"blue\",\"blue\",\"blue\",\"blue\",\"blue\",\"blue\",\"blue\",\"blue\",\"blue\",\"blue\",\"blue\",\"blue\",\"blue\",\"blue\",\"blue\",\"blue\",\"blue\",\"blue\",\"blue\",\"blue\",\"blue\",\"blue\",\"blue\",\"blue\",\"blue\",\"blue\",\"blue\",\"blue\",\"blue\",\"blue\",\"blue\",\"blue\",\"blue\",\"blue\",\"blue\",\"blue\",\"blue\",\"blue\",\"blue\",\"blue\",\"blue\",\"blue\",\"blue\",\"blue\",\"blue\",\"blue\",\"blue\",\"blue\",\"blue\",\"blue\",\"blue\",\"blue\",\"blue\",\"blue\",\"blue\",\"blue\",\"blue\",\"blue\",\"blue\",\"blue\",\"blue\",\"blue\",\"blue\",\"blue\",\"blue\",\"blue\",\"blue\",\"blue\",\"blue\",\"blue\",\"blue\",\"blue\",\"blue\",\"blue\",\"blue\",\"blue\",\"blue\",\"blue\",\"blue\",\"blue\",\"blue\",\"blue\",\"blue\",\"blue\",\"blue\",\"blue\"],\"phrase\":[\"Can I get back with my ex even though she is pregn\",\"What is the best way to become an arms dealer in t\",\"Why doesn't Japan contribute to peace and prosperi\",\"Which is the best Panasonic air conditioner servic\",\"What did ancient Egyptians believe about the after\",\"How does one prepare for the RBI grade B officers \",\"Which institutions in Kolkata give coaching for en\",\"Will omar bravo be in fifa 17?\\n\",\"What are the pros and cons of arranged marriages?\\n\",\"What will happen if all the vegetable dies?\\n\",\"Why do people hate hypocrites?\\n\",\"What do you consider poor, middle class, wealthy a\",\"How do I concentrate on my studies?\\n\",\"What is new age psychobabble?\\n\",\"How can you tell if your man is cheating even if h\",\"Can you see yourself during lucid dreaming?\\n\",\"Which browser is most safe in terms of privacy and\",\"Can Google Assistant run on OnePlus 3T?\\n\",\"Apart from the VW Vento / Polo and Skoda Rapid, ar\",\"What is Panera Bread?\\n\",\"Do athletes live longer and healthier? If not, why\",\"Could a pitbull take on a wolf in a fight?\\n\",\"What has Obama done for Latinos/Hispanics?\\n\",\"How much is |x|^2?\\n\",\"How does operator.com work?\\n\",\"Why do people not make movies/talk about the Romas\",\"What were the major contributions of the political\",\"Company Secretaries (CS): How do I prepare for CS \",\"What are the job prospects of chemical engineers a\",\"I have never gone to a bank. How do I put money in\",\"What is the best strategy to prepare for the GATE \",\"Who is this porn star?\\n\",\"Why are specs & sunglasses so expensive?\\n\",\"I installed the movie torrent with Ultra XVid Code\",\"Can we ride scootry with learning lisence age of 1\",\"Two cards were drawn, without replacement, from a \",\"How much money is needed per month to live in indi\",\"Why do companies issue bonus shares?\\n\",\"Why are Iranians and Afghans considered white Amer\",\"Could mumps cause deafness?\\n\",\"What is meaning of sadaka?\\n\",\"What should I know before starting a YouTube caree\",\"Is the ITI College Principal is gazetted officer?\\n\",\"How do you feel now that Donald Trump is now the P\",\"What is the difference between imperial units and \",\"What is the easiest way to do effective self hypno\",\"Why has China increased its involvement in the Syr\",\"From which year CBSE class 10th exam be reintroduc\",\"Is 1080p a Blu-ray?\\n\",\"Does using mirrors to concentrate thermal energy d\",\"How do I avoid attractions by phones?\\n\",\"What are some of the effects of education can you \",\"What are the characteristics of a Pisces Sun/Libra\",\"What is the most cost-effective option to ship pac\",\"Are red and blue complementary colors?\\n\",\"Is it possible to make a material that is a superc\",\"What is the best Shonen Jump manga?\\n\",\"Are Oracle and Cisco good companies for a new grad\",\"If lighting a match is considered a chemical chang\",\"Why is Hillary so afraid of Putin?\\n\",\"Which is the best book to study electronics basics\",\"What are the basics I should know before learning \",\"Can I use Cph4 on a day to day basis?\\n\",\"Is it safe when I buy things from China?\\n\",\"Why did some ethnic minorities support Brexit?\\n\",\"How much money has tinder made?\\n\",\"What is the limit?\\n\",\"Will browsing Facebook while connected to Tor reve\",\"If I get 68.4 percent in ftre 2016 class 10 then w\",\"No product market fit: change product or market fi\",\"What makes you sad about India?\\n\",\"How do I know if someone has read my messages on w\",\"Why there is a sound when we crack our knuckles?\\n\",\"Why do I only make friends with guys?\\n\",\"What is 'open-mindedness'?\\n\",\"What is the cause of carpal tunnel syndrome?\\n\",\"What is the difference between a \\\"slow cooker\\\" and\",\"What is Hillary Clinton's stance on nuclear energy\",\"Do IIT colleges require a caste validity for an ST\",\"How do I listen a song from you?\\n\",\"Why do so many Iranians immigrate to Canada?\\n\",\"What will happen to India-U.S. relations after Tru\",\"A program that stored five words in the memory the\",\"What are ways of joining to ISRO as engineer other\",\"Can Magneto defeat Hulk?\\n\",\"What time of year is it best to visit Singapore?\\n\",\"How do I study for ib?\\n\",\"What should I do if someone doesn't reply to my em\",\"How much does Manveer Singh Phogat gets for Dangal\",\"What is it like to be cannibal?\\n\",\"How can the Android app development companies help\",\"Who would you say is the most fun person in Israel\",\"How can one improve her figure and butt size witho\",\"As a company that provides travel agencies and tou\",\"What is the most beautiful thing you saw today?\\n\",\"Is gay flirting good?\\n\",\"Can I use Stripe in Europe?\\n\",\"Will Britain leaving the European Union lead to th\",\"Why are so many East Asian immigrants so averse to\",\"Why do we need computer networking?\\n\",\"What is retina detachment?\\n\",\"Why don't more bars have mechanical bulls?\\n\",\"How do I get better understanding of C++?\\n\",\"Which is the most profitable Porsche US dealer?\\n\",\"What are the best over the ear headphones for abou\",\"Is it true that the first kill is the hardest?\\n\",\"Which is best 32 inch led tv to buy below 20,000 I\",\"I am scoring 130/506 in FiitJEE aits part test adv\",\"What kind of websites are missing from the Interne\",\"What is the best way to use free time at IITB?\\n\",\"Is it possible for me to buy my first company usin\",\"What should I do to have sex with as many women as\",\"What is the scope of Executive MBA in India?\\n\",\"Which BMW models do not have a Hofmeister Kink?\\n\",\"What is yellow journalism?\\n\",\"Why do doctors charge uninsured patients 10 times \",\"Which one is the best public sector job or private\",\"Will social media ever help to spur on the US youn\",\"How should I know a video is 360 degree?\\n\",\"Is a practice manual sufficient for the CA Final I\",\"Career Advice: Being an Indian college student, ho\",\"What are the advantages and disadvantages of Li-Fi\",\"On Snapchat, I deleted someone. Can they re-add me\",\"Are there any cereals that taste good with water?\\n\",\"Why does a woman's vagina push a mans penis out?\\n\",\"What is the British word for bullpen?\\n\",\"How hard is it for international students to get a\",\"How did Revan build his foundation of his army in \",\"What is the best way to read a fictional book? Do \",\"How do you replace a ignition lock cylinder?\\n\",\"How can I prevent business failure?\\n\",\"How often do tides occur? What causes it?\\n\",\"How do I learn Calculus on my own?\\n\",\"What is the reason for Priyanka Gandhi not changin\",\"What should I eat when I'm sick with a cold or flu\",\"What is a Business Intelligence Analyst?\\n\",\"Which sports should I start to play to paticipate \",\"How should I prepare for Java fresher interview?\\n\",\"How different are cuisines of Arab countries?\\n\",\"What is the meaning of the phrase, all is fair in \",\"Why does Quora send me a notification that my ques\",\"What are the hardest obstacles to breaking into a \",\"What makes a falling snowflake large (or not)?\\n\",\"What is the compensation for Partners/Principals a\",\"What is the difference between an array and a vect\",\"If you kiss the NC State wolf do you become an NC \",\"Is it boring (from a social perspective) to live i\",\"What would have happened if in 1971 war all 93000 \",\"What are the easiest things to do while being abro\",\"Does getting root canal cause problem in speaking \",\"What is the definition of a truncated sentence and\",\"Would I look good with a nose ring? if yes which n\",\"What are the perks of working in Amazon?\\n\",\"How can we say that climate change does not bring \",\"What it is like to meet \\\"Shahid Kapoor\\\"?\\n\",\"How does it feel when you are dead?\\n\",\"Which is the best juicer, grinder or mixer in Indi\",\"How do I learn to think more logically?\\n\",\"Which movie has the best beginning ever?\\n\",\"Which laws been enacted to prevent family members \",\"What is iPhone 6s plus cost present?\\n\",\"What is Ohm's law and amperage I?\\n\",\"What is the nicest thing a stranger has done for y\",\"Why do some heroic people who do good things choos\",\"How will Hindus react if Babri Masjid is reconstru\",\"R2I - How did you plan R2I from US if you own the \",\"How can I master C programming in 7 days?\\n\",\"What is the right way to clean ear wax?\\n\",\"What are some good games to play during class?\\n\",\"Is it possible to hack WhatsApp messenger?\\n\",\"Why do airplanes carry more weight than helicopter\",\"Shaving: Do electric shavers work better than manu\",\"Has anyone benefited, health-wise, from essential \",\"Can Students at Hogwarts have sex while there? Doe\",\"How can we enhance our efficiency with Yoga?\\n\",\"What are the best app review sites and blogs?\\n\",\"Can two companies be registered on the same addres\",\"Is it true that as per Indian law, one can't be ha\",\"Who would win in a war between Bangladesh and Myan\",\"How do you reply when someone thanks you for forgi\",\"Who would win a fight between wolverine and Batman\",\"What is one thing you wish for yourself in the fut\",\"Can you cry underwater?\\n\",\"What's the difference between SSL, TLS, and HTTPS?\",\"Why are antigravity muscles more affected in Upper\",\"In order to buy a house, does one have to rent fir\",\"What is the probability of choosing a pink ball fr\",\"Which is the best car to get under 8 lakhs?\\n\",\"Why isn't China's role in the Korean and Vietnam w\",\"What is the Laplace transform of t^(1/2) * e^ (-1/\",\"To those who told a big lie to their parents and t\",\"What is runtime polymorphism or dynamic method dis\",\"I had sex 5 days after my period, what are the cha\",\"How would you describe yourself in one tweet?\\n\",\"How do fairy tales influence creativity in humans?\",\"How do I add delay() and sound() in Dev-C++?\\n\",\"What is the pathophysiology of ADHD?\\n\",\"What are the top benefits of life insurance polici\",\"Can I get a TV from Bang & Olufsen for under $2500\",\"How is the life of an ece student at dayananda sag\",\"What is meditation?\\n\",\"Were the Ancient Greeks scientists, or just philos\",\"How does Google authenticator work?\\n\",\"Wouldn't it be better if kids were allowed to focu\",\"Can you apply for a certificate on Coursera/edX af\",\"Why do Quora engineers use large monitors?\\n\",\"How do I start an online clothing business?\\n\",\"How will the government meet the challenges of acc\",\"I saw a charge on my credit card under from a comp\",\"What is the difference between socialization and r\",\"How would the world be different if everyone spoke\",\"Who receives the fares in a cab service?\\n\",\"As a non-resident alien doing a summer internship \",\"Which is the best camera smartphone under 20k?\\n\",\"What does it mean to dream about someone before th\",\"What are the subjects in which I can apply for my \",\"What are the basics of Jainism?\\n\",\"What is the Difference between existential nihilis\",\"How can I see my girlfriend's WhatsApp chat messag\",\"What are some ways to enjoy sex with my newly marr\",\"How can I study the Bible?\\n\",\"How can someone be a friend, girlfriend, wife and \",\"What are the Snapchat usernames of punjabi celebri\",\"What is 1/2 times 1/2?\\n\",\"Where does the word restaurant come from and what \",\"What can I do with a computational linguistics deg\",\"Will trump win as president?\\n\",\"What impact will AI eventually have on how we plan\",\"Why is eating too unhealthy?\\n\",\"What if the Syrian civil war never happened?\\n\",\"How do the teachings, learning, followership and/o\",\"Did you ever been in a group of stupid people?\\n\",\"What are the multiple types of social issues?\\n\",\"Where can I find beginner NodeJS tutorials that us\",\"If I got a 7.4 CGPA in the SA1 10 class, then can \",\"Which the best time table for 10th class exams pre\",\"Elite Escorts in DHA Lahore?\\n\",\"My ex bf says he doesn't have feelings for me righ\",\"What are the questions in the interview for a fres\",\"What do you think are some of benefits to humans f\",\"Which one is the best medical college hostel in in\",\"Have you lived in a tiny house?\\n\",\"What are some things new employees should know goi\",\"Where can I hire high pressure cleaning service in\",\"How many Bollywood Actresses consume alcohol in re\",\"How does PayU earn money?\\n\",\"Is it possible to change your personality as a chi\",\"How do I apply to London School of Economics as an\",\"How do I build a profile to get accepted into a st\",\"How can I get real ghost stories?\\n\",\"Is it possible to hack NASA's New Horizons satelli\",\"What is the best way of getting good at answering \",\"How would you deal with jerks?\\n\",\"How can I do internship in Accenture India?\\n\",\"Why would an Indian girl not want to get married?\\n\",\"My WhatsApp chat backup got deleted from Google, I\",\"Is going to college really worth it or just a wast\",\"How many prophets did God send to the Jews?\\n\",\"What is the relation and difference between Artifi\",\"If you don\\u2019t have a good network, what would be th\",\"What are the best place to visit in Rio de Janeiro\",\"Which is the best college for PG in Cyber Security\",\"Which are the best English serials?\\n\",\"How do you say \\u201cWhat\\u2019s up?\\u201d in Chinese?\\n\",\"Is it bad to take expired fish oil pills because t\",\"Will there ever be a genuine Authoritarian candida\",\"Is World War III on its way right now?\\n\",\"How can you use time formats in Excel?\\n\",\"What is the best antivirus for Windows 8?\\n\",\"Why do people like Metal/Hard rock so much?\\n\",\"What are the worst smelling things in the world?\\n\",\"Could someone explain the following electives at N\",\"What's a funny thing?\\n\",\"What are the main reason of cracks?\\n\",\"How do I hitchhike in Europe?\\n\",\"What is the physical significance of quantum mecha\",\"How do we get dead people off business junk mail l\",\"Who among the four in the picture given in descrip\",\"How do I know if I authentically, genuinely, hones\",\"On average, how long does it take a letter mail fr\",\"When will One Piece have episode 517 dubbed?\\n\",\"What should I do if I fell in love with my best fr\",\"How do criminal lawyers sleep at night even when t\",\"Can I get refund for Tatkal e-ticket because train\",\"How can I buy the new Macbook 12\\\" M7 512GB model i\",\"What are the different e-governance methods used b\",\"How do I run smoother GTA V? I have intel core i3 \",\"What is the use of tanpura?\\n\",\"What are the Snapchat usernames of celebrities?\\n\",\"Which is better- cracking gate and going for IIT/i\",\"Can you lose weight without exercising?\\n\",\"What is the best way to make life more interesting\",\"Is Delhi a must for UPSC coaching?\\n\",\"Which are the best colleges for electronics and in\",\"I have been a .Net developer for over 2 years and \",\"Has a smartphone ever been taken to space? If yes \",\"What questions should I ask my boyfriend, we are b\",\"How do I delete a contact blocked in WhatsApp?\\n\",\"Is it a good time to buy real estate in Cyprus?\\n\",\"South India: Why is South India much more develope\",\"What is the formula for a hydrocarbon?\\n\",\"What if an alien comes and tells us that the physi\",\"What are the pros & cons of democracy?\\n\",\"I'm 16 years old and wanted to lose weight and bod\",\"Can I add more peers to the torrent for max speed \",\"What are the best neighborhoods to Airbnb in Chica\",\"What we will get in mahabalipuram beach sunrise or\",\"How fast can you accelerate to the speed of light?\",\"What is the difference between R-squared and Adjus\",\"How many times can women reach orgasm in a hour an\",\"Why didn't Johor, Batam & Singapore integrate more\",\"Which products are more profitable in online sell?\",\"How do I get rid of muscle?\\n\",\"What is the process of directing and casting child\",\"Is the 7th pay commission needed?\\n\",\"What are the best games that are compatible on a C\",\"What was the significance of the battle of Somme, \",\"How do you see Pakistan PM Nawaz Sharif's speech a\",\"Where can I publish my apps?\\n\",\"What was your darkest moment?\\n\",\"Why does the UK have an unwritten Constitution?\\n\",\"What are the necessary steps in documenting a mobi\",\"Why was life created? Why was life so painful?\\n\",\"How can I use explainer video to review products o\",\"What is difference between residue and error?\\n\",\"If 6.5 to 8.5 will be the safe level of pH value i\",\"I am 23 and don't know what I want. My life is ver\",\"What are your three favorite websites for reading?\",\"Why do people choose to be a GAY?\\n\",\"What is the process of death?\\n\",\"Why does light red deserve the special name \\\"pink\\\"\",\"Who are millennials?\\n\",\"What it's like doing CA articleship from Big 4s?\\n\",\"What is the most important right or freedom guaran\",\"Why do some porn stars have unprotected sex?\\n\",\"What are my reasons to live?\\n\",\"How small would a planet need to be to plainly see\",\"Some religion speaks of burning in hell after deat\",\"What does it feel like to be an IITian?\\n\",\"How does cognitive behavioural therapy work?\\n\",\"Why should you visit India?\\n\",\"I lost my Google account information. How can I re\",\"What if I port a number from Airtel to Vodafone in\",\"What are the reasons why time travel is impossible\",\"Will my iPhone alarm still go off if \\\"Do Not Distu\",\"Did South Korea cheat during the 2014 Asian Games?\",\"Take the minimum lethal volume of a gaz, put it in\",\"\\\"How to improve Project Management skills?\\\"\\n\",\"When you were small, did you ever think that your \",\"Where did the pointy \\\"S\\\" symbol come from?\\n\",\"How does it feels like to have a rich boyfriend?\\n\",\"What have you used your intelligence for?\\n\",\"What is a freewheeling diode?\\n\",\"How do we derive pi?\\n\",\"What is the importance of communication skills in \",\"How can I put icons on YouTube video titles? Also \",\"What does the phrase \\\"resonate with me\\\" mean?\\n\",\"How many types do we have of Manual testing?\\n\",\"What are IBAN numbers?\\n\",\"What is regret?\\n\",\"As a student specializing in English language, lit\",\"What is the corporate culture like at Corning? How\",\"How can I convert jazz standards to jazz guitar so\",\"How good was the surgical strike by Indian Army on\",\"What recipes are most conducive to romance?\\n\",\"What are the unknown facts about Tamil people whic\",\"Where do I find the most beautiful woman in the wo\",\"What does the grey phone icon mean on the messenge\",\"How do I share 360\\u00b0 photos on WhatsApp?\\n\",\"What is the difference between working stress meth\",\"What are the opportunities for an MBA in finance?\\n\",\"Can you patent clothing or fashion designs?\\n\",\"My in laws are apologists for Nazi war criminals a\",\"Which is the safest city in India for women?\\n\",\"What horse breed were commonly used during the \\\"Wi\",\"Is it weird to sometimes feel almost overwhelmed b\",\"Can anyone please list all the SAP SD topics a per\",\"In the filling of ibps application I put martial s\",\"In a restaurant, what are the different types of t\",\"Why does amir khan never go to any filmy awards fu\",\"What is a good inpatient drug and alcohol rehab ce\",\"Why does UV light cause contamination on optics, b\",\"How do I invest in mutual funds in India?\\n\",\"How comfortable are you with failure?\\n\",\"What skills are required to become a quant?\\n\",\"Why do startups announce fundraising?\\n\",\"What is your review of Amazon Video?\\n\",\"Why there is no team from Tamil nadu in pro kabbad\",\"How do I auto forward texts from my Verizon phone \",\"How do the Chinese people view Americans?\\n\",\"What is virgin or virginity?\\n\",\"What are the different ways of submitting a Reques\",\"Can a high school teacher legally force students t\",\"Why does water droplets form on the outer surface \",\"Which mammals have dark circles around eyes beside\",\"How do each components of a printer work?\\n\",\"What are some foods beginning with the letter W?\\n\",\"What are symptoms of a bad transmission control mo\",\"How do astronauts in ISS vote for Presidential ele\",\"What is the difference between Aim and Goal?\\n\",\"What is AT & C?\\n\",\"Who was Jackson Pollock? Was he mentally ill?\\n\",\"How do I make good vine edits?\\n\",\"How can I cut my penis?\\n\",\"How can I change my Quora profile photo?\\n\",\"My husband was here seeking asylum before we got m\",\"Is it good to use Laravel to develop a web app wit\",\"I have a mild sore throat an headache. What is tha\",\"When will a working nintendo 3DS emulator release \",\"What do we know about the health effects of vaping\",\"INSEAD: Worth the investment?\\n\",\"How is long rides in royal Enfield classic 350?\\n\",\"What famous boxers have participated on Dancing wi\",\"Will season 10 of Big Bang Theory be the final sea\",\"Can I crack KVPY (SX) with only three months left \",\"What are some little-known facts from World War II\",\"What is the most unique way of exam cheating you'v\",\"When was the last time a slam dunk broke a basketb\",\"What should I do for my excessive hair loss?\\n\",\"How do I find people's psychological weakness?\\n\",\"What is the difference between Awareness and Consc\",\"I hate everything that people around me like. Is i\",\"I think I am pretty good at thinking of a business\",\"How do you determine the thickness of a footing ba\",\"Why does vapours are formed when we pressurize alc\",\"Is it easy to adjust in German Universities withou\",\"What is UNIX and UNIX-like?\\n\",\"What is the best way to promote www.dorkyard.com?\\n\",\"What's up in Addis Abeba tonight?\\n\",\"Is there any point to going to college if you have\",\"How much would it cost to construct 800 sqft area \",\"What is an ideal wife? What is an ideal husband? W\",\"What information does port scanning provide?\\n\",\"What are the application of quasicrystals?\\n\",\"What is the determinant of the inverse of a matrix\",\"How is Brad Pitt in \\\"real Life\\\"?\\n\",\"I have a 3 yr bachelor's degree in Computer Scienc\",\"Demonetisation is good for county like India or no\",\"My parents think I am rude for being so introverte\",\"How many people have jumped off the Golden Gate br\",\"What are Osho's views on Islam?\\n\",\"Why does the government regulate health care?\\n\",\"Which phone has the best sound recording quality?\\n\",\"What is the best part of your life, and why is it \",\"Which is better hair wax or hair clay?\\n\",\"How do I charge my motorcycle battery?\\n\",\"What are the updates we get after miui 8.0.6.0?\\n\",\"Why does Robinhood need to bypass the App Store?\\n\",\"Which is a better route, Alipiri or Sri Vaari?\\n\",\"How much extra would it cost if Apple manufactured\",\"When will the next recession be?\\n\",\"What are some arguments in support of electing Don\",\"What does Russia want with Ukraine?\\n\",\"What is the difference between a recorder (block f\",\"What is the meaning of random number?\\n\",\"Which one is good for health: tea or coffee?\\n\",\"Is Texas good state for non-resident to register a\",\"What is kirchoff's law?\\n\",\"Is it wrong for a family member to keep making com\",\"My parents are forcing to marry a girl of their ch\",\"Which is better, Windows+Linux or OSX?\\n\",\"Why aren\\u2019t Christians that pray to/have a relation\",\"How much TDS will I have to pay for an RD account \",\"What is the meaning of thematic connection?\\n\",\"How should you prepare to take your maneuverabilit\",\"What are the best materials/videos/resources to ge\",\"Can a \\\"dirty\\\" finish be added back to jeans?\\n\",\"Why does my dog keep whining at night?\\n\",\"Is it bad to turn off my PC using the power button\",\"What is image processing?\\n\",\"I went to school with mostly black kids, they bull\",\"Does Donald Trump actually think he can become Pre\",\"Which are the 5 best movies you have ever seen?\\n\",\"How do I get traffic to excursions travel website?\",\"Where can I download the Android game Leo's Fortun\",\"How do I get more followers and upvotes on Quora?\\n\",\"What is a factory reset on a phone?\\n\",\"Which phone should I buy if my budget is 12000?\\n\",\"I have GPU implementation as a graduation project.\",\"What are the libertarian views on the Antarctic Tr\",\"What would the world be like if it were ruled by a\",\"How do you choose your first bank?\\n\",\"Who runs berkuliah.com?\\n\",\"What does Godel's incompleteness theorem mean for \",\"How do I delete a Gmail account?\\n\",\"If my ultimate goal is to become a vegan, should I\",\"Did the US win the war in Afghanistan?\\n\",\"How can I become a good engineering student?\\n\",\"What are some ways to increase intuition?\\n\",\"What causes depression in humans?\\n\",\"How can I control my anxiety and worries?\\n\",\"How can we jump in between the working regions of \",\"How do I stop loving someone who loves me?\\n\",\"Can personality and insecurity create a liar?\\n\",\"What is the best country and university to do a Ph\",\"How do I edit a video offline?\\n\",\"What is the rent of kiosk in an upscale mall?\\n\",\"What should I start reading if I want to attempt t\",\"Which is the best anti-virus for computers?\\n\",\"Does food unite people?\\n\",\"What do you like most about Internet?\\n\",\"What is a good model of federalism in the Philippi\",\"How do you know if a girl secretly loves you?\\n\",\"Who is the most annoying fictional character you h\",\"How do you feel when your question is unanswered o\",\"Did early humans know how babies were made?\\n\",\"If I cancel xfinity, how can I sign up as a new cu\",\"Are there any TV series similar to House MD?\\n\",\"What you need to know before buying furniture for \",\"Have you ever had a dream happen in reality?\\n\",\"Is dark matter just a scientific theory or has its\",\"How can you increase your tolerance for pain?\\n\",\"How many logical fallacies are there?\\n\",\"How do buttercream icing frosting separate?\\n\",\"Which is the cheapest cinema hall of India?\\n\",\"What do you think would be a good gre score?\\n\",\"What is the best way to update Xiaomi redmi 3 to M\",\"What does toe jam cheese taste like?\\n\",\"How do I know if a YouTube video is copyrighted?\\n\",\"How should I start a business reselling shoes?\\n\",\"How do I hire a mobile app development company?\\n\",\"What is paras pathar?\\n\",\"How is the word \\\"colony\\\" used in a sentence?\\n\",\"What is Rebecca Fugate known for?\\n\",\"What should I consider before starting my consulta\",\"Do you feel that many attractive women get away wi\",\"Why do I feel so much guilt for kissing a girl?\\n\",\"What are some good tutorials for learning Blender?\",\"Is it deceitful to befriend someone in the hopes t\",\"Who do you think BJP will put as a candidate for t\",\"Which protein supplement is best for gym to gain w\",\"What is your review of KVPY SX/SB 2016?\\n\",\"How do I get people's attention for my work?\\n\",\"What are some of your own personal stories and exp\",\"If salt concentration of the sea(3%) were differen\",\"What is the chemical name for mothballs? How was i\",\"Vitamin D receptors in the Testes?\\n\",\"How do I lose weight without working out?\\n\",\"Where can I watch anime?\\n\",\"What is BusyBox used for?\\n\",\"What would be a good desktop computer for software\",\"What are your top five favorite books and why?\\n\",\"What are some good Harry/Ginny fanfiction?\\n\",\"What are the pros and cons of having sex during pe\",\"Which device will you enjoy watching movies in: a \",\"Will there be \\\"faithless\\\" electors this election?\\n\",\"Is Donald Trump an undercover democrat?\\n\",\"Why am I the way I am?\\n\",\"Why do some women get their nipples pierced?\\n\",\"What do Delhi University girls (especially North C\",\"What is the name of this TV series?\\n\",\"My salary is below the Basic Exemption Limit, yet \",\"What is a foliated rock?\\n\",\"What are some of the best books to start learning \",\"How should I prepare for IIT-JEE 2018?\\n\",\"How do unions work?\\n\",\"Can we give neet coaching in class 11?\\n\",\"Which is the best dish TV connection in Hyderabad?\",\"How can you train a Doberman/Lab mix?\\n\",\"How do you reduce stress at work?\\n\",\"What is the best algorithm for finding the number \",\"How can I earn $250 in 2 months?\\n\",\"Why did GE buy NBC?\\n\",\"What is the highest level of c?\\n\",\"How do you mash potatoes without a masher? What el\",\"How difficult is it to learn Python?\\n\",\"How do you convert years into seconds?\\n\",\"How do you view bisexuality?\\n\",\"What is information technology? What are some exam\",\"Why are Altoids so strong?\\n\",\"How effective is email marketing?\\n\",\"Why does my tutor keep winding me up. He says he i\",\"How can I start my Tok essay which is about accura\",\"How do I repair my corrupt memory card?\\n\",\"I have 3 years to prepare for IIT JAM Physics. How\",\"What are the best Instagram hack tools that have n\",\"I am studing interior design. What are some good i\",\"What are some stupid jokes that make you laugh?\\n\",\"What are the factors affecting Real estate investm\",\"How can I get rid of white dry spot on my face? It\",\"What is it like to have an ugly wife/partner?\\n\",\"What do you love most about your life and why?\\n\",\"In the unlikely event that the Electoral College t\",\"How is life as an Engineer?\\n\",\"Where and why are the imaginary numbers used?\\n\",\"What are some good hypo-allergenic lipsticks?\\n\",\"Did the United Nations play a part in the divide o\",\"When and Why did America become a world power?\\n\",\"What are some recipes using Hormel Black Label Ham\",\"Which is the best company to invest shares on Nove\",\"The man I'm about 2 marry says when I have my peri\",\"What can be the best answer for why finance?\\n\",\"What are the best facts about the universe?\\n\",\"What's the sweetest thing you did for a bestfriend\",\"What is the difference between techno and trance m\",\"TV Sitcoms: Why do English comedy shows have peopl\",\"Does percentile system would affect neet 1 student\",\"Is there Uber in Valencia, Madrid and Barcelona?\\n\",\"Have real-life siblings ever shot intimate scenes \",\"How should I improve my writing skill for blogging\",\"Can cold weather affect a menstrual cycle?\\n\",\"How can we earn money online while studying?\\n\",\"Can a tablet keyboard be used on any kind of table\",\"What are the Upcoming development projects in Chha\",\"Where can I buy cheap Twitter followers?\\n\",\"Why do passengers from aircraft are not given a bu\",\"When should I tell my crush I like her?\\n\",\"Why does Pakistan have a better image and reputati\",\"What are Andrea Pirlo's strengths as a midfielder?\",\"From a point in space billions of light years away\",\"Will Medicaid pay for electrologist to do the shav\",\"Why do technical employees despise sales people so\",\"What are the best freelance websites for C#?\\n\",\"Will I be successful without educations?\\n\",\"How can I learn about cars?\\n\",\"What is the best question asked in an interview?\\n\",\"Why there is so much hatred against Brahmins in In\",\"How do I learn to enter journal entries online in \",\"Will CS be issuing a PR message for Boston?\\n\",\"Why do some people 'hate' drugs or people who ever\",\"How do I know my passion? What is my talent and wh\",\"How do pessimists and optimists differ?\\n\",\"How many pulleys did it take for Archimedes to lif\",\"What is the best course after 12th for a medical s\",\"What are the steps that I should follow to get in \",\"Where was the boston marathon?\\n\",\"What is it like to be in or around a bomb blast?\\n\",\"Will Trump destroy international US-companies thro\",\"Should celebrities have the right to voice their o\",\"Can I say that: \\\"A battery can be seem as a capaci\",\"What is it like to be an ENTP?\\n\",\"How do I start designing on glass?\\n\",\"What is the market risk premium formula?\\n\",\"How can I pay the parking meter if I have no coins\",\"Is it true that Obama has a secret son named \\\"Luth\",\"Which is the best coaching for IAS in up?\\n\",\"How big is the equity funding market in North Amer\",\"Which are the good government medical colleges in \",\"How do I control my hair fall?\\n\",\"Is it really worth creating Shopify themes?\\n\",\"What can cause knee pain? It only hurts when I sta\",\"Where can you find a list of common 9 letter words\",\"NSFW: Is this penis color normal or should I see a\",\"Why do most women remove the hair from their arm p\",\"Which processor is better (faster/more efficient),\",\"Which two statements are true regarding views in s\",\"What is the easiest and quickest Indian food recip\",\"What are the best local SEO companies in India?\\n\",\"How do I get rid of adult content on my Quora feed\",\"Can the zombie fungi attack humans as well?\\n\",\"If I wanted to learn about the Roman Empire,what w\",\"What are the key differences between LXDE and XFCE\",\"Can people see the sellers real name, e-mail addre\",\"Should I still watch The Matrix movie?\\n\",\"Is there any truth to the rumor that the youngest \",\"Is it ok that I don't want to hang out with my fam\",\"I am in class 9. If i want to crack IIT JEE, then \",\"Will Obama's gang stalking/surveillance program be\",\"What are some good songs to lyric text prank a fri\",\"Where can I get best quality video DJ for party in\",\"How long does it take for your hair to grow?\\n\",\"Should I update my Redmi 3s from MIUI 7 to MIUI 8?\",\"How do muscles work?\\n\",\"WHAT IS THE BEST ROUT FOR NEPAL PASUPATI NATH TEMP\",\"How to make a website similar to feedwiser.com in \",\"Why does India so scared of CPEC?\\n\",\"What did your first sex feel like as a girl?\\n\",\"In International ODI/T20 cricket matches, if a bat\",\"Why can humans feel acceleration, but not constant\",\"Can the Microsoft Surface Pro 4 run AutoCAD?\\n\",\"What are the differences between stock Crown Victo\",\"What are the good ways to download Lynda.com's tut\",\"How much is the average salary package for a 1.5 y\",\"How can you reduce the barriers of communication?\\n\",\"Why would someone use Instagram Stories over Snapc\",\"Whiskey: How many 'shots' are in a fifth of Jack D\",\"What might happen now that President-elect Donald \",\"How do I write a waiver letter for school?\\n\",\"I am interested in persuing ma industrial psycholo\",\"Does modafinil shows up on a drug test? Because my\",\"Is it possible to get high off Vyvanse?\\n\",\"Is an agnostic necessarily a skeptic, and how?\\n\",\"Where can I get best support in Sydney for buying \",\"What are the duties of a lieutenant in Indian army\",\"Why is smileys not used on Quora?\\n\",\"What does it feel like for a man when someone who \",\"How does post graduation permit impact .lets say I\",\"Online Payment Gateways and Processing: What is th\",\"What are the best books to learn c programing lang\",\"Solid State Physics: What is The Theory of Alloys?\",\"How do I fill in my first name in a PAN card dupli\",\"Why is egg yolk not good for you?\\n\",\"Anatomy of Female Pelvis: Do women really have an \",\"How much does it cost to develop mobile applicatio\",\"Who is the most honest Game of Thrones character?\\n\",\"What is a high quality Apple MacBook Air charger?\\n\",\"Where and how is the WWE championship belt made?\\n\",\"What is green communication?\\n\",\"I have been a good student since chiild hood but j\",\"I'm solving exercises of artificial neural network\",\"Compared to your own compensation, and in consider\",\"How can I keep browsing Quora forever?\\n\",\"Having built web stuff the old way (PHP/MySQL) bac\",\"Is our new currency note of Rs.2000 equipped with \",\"What's the best way to join a startup in DC?\\n\",\"What would happen if we added a second Earth of eq\",\"When will piracy on Android stop?\\n\",\"What do you mean by executive consultant and suppo\",\"Why do I always feel like I am missing something?\\n\",\"What does a user see when he/she gets a new messag\",\"How can I become a web developer?\\n\",\"Is there any good alternative softwares to Tally?\\n\",\"Would you have sex during period?\\n\",\"Are there prominent Bangladeshi Hindus?\\n\",\"I have registered for PhD (no NET) (phy) in 2013, \",\"I changed my name, but the person did a mistake. M\",\"At what age do your breasts stop growing?\\n\",\"How do I get a girl's phone number in a library?\\n\",\"I am into a habit of over thinking things. How do \",\"What is the average salary of a civil engineer?\\n\",\"What is the difference between rote learning vs me\",\"What are the ways to compete in the Olympics in 20\",\"What trivia (and/or little-known facts) do you fin\",\"Xiaomi Redmi note 3: Which is the best colour to b\",\"What does \\\" the Hadamard Perron theorem\\\" means?\\n\",\"Is there a way to see the viewing history and chat\",\"What is the best place for trekking in Goa?\\n\",\"How does an instant messenger work?\\n\",\"What are the disadvantages of the World Trade Orga\",\"Why does the US military not use AK series rifles?\",\"Does Moto m have gorilla glass?\\n\",\"What is the hierarchy of an associate consultant a\",\"What are some major landforms in Texas, and how do\",\"What other jobs can a medical degree holder do mea\",\"MY HP DEXTOP DOESNOT CONNECT WIFI WHY?\\n\",\"How can I get motivated to workout?\\n\",\"What should I gift it to my mom on her birthday?\\n\",\"Which is the best video you have ever seen?\\n\",\"I was selected in campus and was issued a joining \",\"What makes a poem a good way to express emotions? \",\"What would happen if I cut down a tree outside my \",\"Can you make money in Amway?\\n\",\"Body Weight: How many pounds can I gain every week\",\"What are the impacts (both positive & negative) of\",\"I forgot the password which I used to login n n lo\",\"What are the best websites for career?\\n\",\"What is your favourite episode of the office (USA)\",\"Why is time slower down near heavy objects?\\n\",\"How do l update any version after rooting the mobi\",\"Why is 3 am called the witching hour?\\n\",\"How do I run a shell script from Java code?\\n\",\"What are the advertising campaigns of 2011?\\n\",\"Should I opt for computer science if I don't take \",\"What are the polymers of protein?\\n\",\"How much better will the JWST be than Hubble?\\n\",\"What are the greatest examples of absence of mind?\",\"How can I understand the STOCK market from the bas\",\"How do I make Gazpacho?\\n\",\"What is the typical role of a brand manager?\\n\",\"Who are the top 5 hottest women ever?\\n\",\"What is the name of the game that Aamir Khan was r\",\"How long does it take to learn dance?\\n\",\"What's the funniest thing that's happened to you a\",\"Why are metals malleable and ductile?\\n\",\"List of national daily in India?\\n\",\"Are Volvos actually safer than comparable cars?\\n\",\"Can you tell who has been looking at your Instagra\",\"A ball dropped from the roof of a building takes 4\",\"What percentage of Hillary Clinton's supporters ha\",\"Do you think you are beautiful?\\n\",\"Which are the free email marketing tools?\\n\",\"What topic of discussion do people hate the most? \",\"What is the point in having hyper-politicised stud\",\"Why Steve Jobs is considered as innovator?\\n\",\"How long would it take an average programmer to wr\",\"Why are conservatives defending Holly Fisher? (see\",\"What is so important about Adam Smith's pin factor\",\"What is the Arizona bark scorpion, and how do anim\",\"How do I stop smoking cigarettes?\\n\",\"What are the functions of a computer's motherboard\",\"How can tea bags help for styes?\\n\",\"How can I get a patent for my really effective inn\",\"Can India ever become 'Sone Ki Chidiya' again?\\n\",\"Is there any way to play Android games LAN multipl\",\"Why should I ask my first question?\\n\",\"Who are the top writers on Hinduism on Quora? Who \",\"How do I wake up at 4:00 A.M.?\\n\",\"Why is Quora moderation collapsing all my answers?\",\"In an honest assessment, what do you think of Trum\",\"What type of bonding is present in a coordinate bo\",\"Is it possible to delete your Wikipedia account hi\",\"I'm a +2 CBSE non-medical student. Is there any pr\",\"Are there any limitations as to setting up a forei\",\"How will the drought in California affect its econ\",\"What is Informatica online training?\\n\",\"Is it compulsory for a Web designer and developer \",\"How could the US realistically pay off its debt?\\n\",\"Who is Barry Soetoro?\\n\",\"How do I solve [math]2x^3-x^2+11x+3=0[/math]?\\n\",\"What are some hobbies couples can do at home?\\n\",\"How have meerkats adapted to the desert?\\n\",\"What causes dizziness when you lay down?\\n\",\"What should one do after a civil engineering degre\",\"What are the advantages of hiring skip bins servic\",\"Why is it necessary that singers lip-sync?\\n\",\"How can I turn off the screen overlay detected on \",\"How do you clean or polish a pair of Woodland shoe\",\"What are some classes you wish you took in high sc\",\"What is the formula of [math](a+b)^3[/math]?\\n\",\"What is it like to commit yourself to a psychiatri\",\"Is there any way to slow or reverse the late effec\",\"What would the implications be if we discovered th\",\"Any other program to help on code contribution for\",\"What is the bond order of [math]H_2[/math]?\\n\",\"What is the best way to create a website without c\",\"What were some causes and effects of the French Re\",\"What are some catchy headlines for a dating site?\\n\",\"Should I get Company of Heroes, World in Conflict \",\"How do I remove a person from a group in Skype?\\n\",\"Why was Manmohan Singh briefed by PM Modi after su\",\"Does anybody want to learn Chinese?\\n\",\"Is Xiaomi going the Nokia way to oblivion?\\n\",\"Should I buy hp 17.3 AMD laptop or lenovo 17.3 i5 \",\"Which is better a government job or a software job\",\"How can the word \\\"credulity\\\" be used in a sentence\",\"Does uber track time on app?\\n\",\"How do I get over direct rejection?\\n\",\"How can any institute get an ISO certificate?\\n\",\"What are the best pranks?\\n\",\"Are non-solicit agreements enforceable if the pers\",\"Which phone is best in 2016 for a 18 years boy my \",\"What is the definition of an archetypal hero?\\n\",\"Why are some \\\"ugly\\\" people still very attractive?\\n\",\"What are the chances of Donald Trump's impeachment\",\"What would a society based on laws enforcing only \",\"What is the full form of \\\"veto\\\" power?\\n\",\"How much do people get paid to do a TED talk?\\n\",\"What does it mean to say \\\"enriching herself off of\",\"How can I be more persuasive at work?\\n\",\"What is the corporate culture like at National Bev\",\"What is the fastest way to get a PAN card?\\n\",\"Who will win in America presidential elections in \",\"How do I solve this differential problem?\\n\",\"How is Banjara's Saffron Facial Kit used?\\n\",\"How do you understand life?\\n\",\"Will an MS from NUS in electrical engineering prov\",\"How does one create a strong password? Any tips?\\n\",\"Who was the best dressed at the 2016 Emmy's?\\n\",\"What is the cost of manufacturing a SIM card?\\n\",\"Are you tolerant?\\n\",\"Is [math]\\\\{1,2,3\\\\}[/math] a compact subset of a me\",\"What kind of energy is involved in hearing and vis\",\"What happened with Lehman Brothers?\\n\",\"What is a good web page publisher?\\n\",\"Why does eating radishes cause diarrhea?\\n\",\"How do I encrypt the data on my Android phone?\\n\",\"If there were an Oscar for \\\"Best Line in a Movie\\\",\",\"Why are tyres black?\\n\",\"What is the best way to unlock a Motorola Droid Bi\",\"Is a $45 a month job worth the experience?\\n\",\"Should I settle in Canada or Japan?\\n\",\"How is the appraisal process in Accenture? How wil\",\"How does sand turn into glass?\\n\",\"What effect will increased automation of jobs and \",\"I am 25 years old Indian guy, want to settle in Ne\",\"What are some Raksha Bandhan gift suggestions for \",\"How do I write a multi-dimensional villain that is\",\"Why is there no nucleus in a red blood cell?\\n\",\"Why do Quora allow anonymous fake questions from A\",\"Is it possible to merge a foursquare venue into a \",\"How do I find out if I have Siri on my phone?\\n\",\"Why do I feel like I'm not living my life?\\n\",\"What will happen to global stock market if Donald \",\"What makes weeds grow so much faster and easier th\",\"Do people with extremely high IQ need higher sugar\",\"What should teaching assistants do?\\n\",\"Why is Perth one of the most liveable cities in th\",\"How do you get to the entrance for Resolution Cave\",\"How do I get involved in research as an undergradu\",\"If you have one option to remove anything, what wi\",\"What are the risk after angioplasty?\\n\",\"Why can't men read the signals women give off when\",\"How can a non-EU medical graduate get into residen\",\"How do I stay active?\\n\",\"I'm going to Paris. What is the equivalent \\\"neighb\",\"How do I get rid of dandruff, or at least prevent \",\"Is Medicaid going to pay for the electrologist for\",\"When Australia became a nation in 1901, Did aborig\",\"What is the difference between SSL and Sitelock?\\n\",\"What are some unsolved problems in deep machine le\",\"What's the difference between computer engineering\",\"Is it possible to get a decent job after completin\",\"What is the difference between MG & BG in railway \",\"How do I control an Arduino with a Raspberry Pi?\\n\",\"What is the best field to pursue MS after doing el\",\"What is the difference between Directx and graphic\",\"How do I wirelessly charge the electrical devices \",\"Can you upload Numbers sheets from iPad to Google \",\"What's the best movie franchise you have ever watc\",\"If light does not have mass, then how can it be ab\",\"Why is the book of Esther in the Bible?\\n\",\"What makes comic books worth reading?\\n\",\"What are the advantages of outsourcing property ma\",\"What is a Quora credit competition?\\n\",\"Are data analyst/data science jobs boring?\\n\",\"Why don't satellites crash into each other?\\n\",\"How do dermatologists remove blackheads?\\n\",\"How can I choose between my dad and my mom?\\n\",\"Can you really not change people?\\n\",\"Being a non believer of a spiritual entity, I have\",\"Is black coffee fattening? If so, what makes it fa\",\"The education system is outdated. What would you d\",\"Who are the founders of Quora?\\n\",\"What is it like to be a landlord?\\n\",\"How many stamps do I need to send a letter to germ\",\"My father just recently got married. His wife goes\",\"Which countries are best to migrate from the US?\\n\",\"Can any one tell me a basketball club in Bangalore\",\"How can Spotify download songs offline?\\n\",\"How do I make money online for free in Spain?\\n\",\"Why is Tornado Alley prone to tornadoes?\\n\",\"How does helium change the inhaler's voice?\\n\",\"What is a bedding ceremony in Game of Thrones?\\n\",\"What is it like living in former East Germany as a\",\"Did the USA or NATO commit any war crimes in Iraq?\",\"Why don't we capture terrorist and behead them?\\n\",\"What is your favorite quote (books, movies, people\",\"What mixes well with peach vodka?\\n\",\"Which Patanjali products contain cow urine?\\n\",\"Why are three phases denoted by RYB?\\n\",\"Where could I learn JavaScript online?\\n\",\"Is it appropriate to wear a sports bra simply to t\",\"What are the differences between Jenkins CI and Dr\",\"T right do you think we should be entitled to?\\n\",\"What was the public's reaction to Crystal Pepsi?\\n\",\"How can I crack MH-CET 2017 engineering by self-st\",\"What is the way to become a dental hygienist in th\",\"Why do solving math/statistics problems causes my \",\"Does your name sound as awkward to others as it so\",\"What is the proper format of writing formal-inform\",\"How does doc2vec represent feature vector of a doc\",\"Why are software development task estimations regu\",\"How can I set up molecular pathology lab?\\n\",\"How do I score a rank in CA - IPCC?\\n\",\"What are some examples of strong organic acids?\\n\",\"What can be a good hindi (indian) name for a tea b\",\"Is the Google host matching process different for \",\"Is Cuba considered part of Latin America?\\n\",\"Does the following script (\\u0256\\u2200\\u0f61\\u0632\\u2202 \\u0250\\u0167 \\u01ab\\u04bf\\u03de\\u026e\\u2609 \\u027d\\u03c6\\u0289\\u029b\\u0195), \",\"How can I increase my website's DA?\\n\",\"Is it normal to imagine having sex with other guy \",\"What is the percent purity (approx) of consumable \",\"Do soulmates just come walking into your life when\",\"If I use marijuana with my boyfriend, is there a p\",\"Can you analyze everything in soil?\\n\",\"What difference it would make if India Nuked and K\",\"What are the advantages of a dominant party system\",\"What were some things India did not do but takes c\",\"How many total women have accused Bill Clinton of \",\"Why do I wish some fictional characters existed?\\n\",\"Where can I find best hotel at Ranikhet?\\n\",\"How do I make good memes?\\n\",\"What are some of the common sayings or proverbs in\",\"What kind of writing style makes someone a \\\"dark w\",\"Are Trump and Hillary really the best America has \",\"How can I make my career in embedded system and ro\",\"Will adding a USB to VGA adapter always give an ex\",\"We will never be able to see our own faces with ou\",\"What are the ways you can stop a friend from pitch\",\"What is the average time for preparation of IAS?\\n\",\"How can I learn new things quickly?\\n\",\"What is the definition of political courage?\\n\",\"What makes death scary?\\n\",\"I'm really pretty but I don't want to be I hate th\",\"Is Assam Down Town University good?\\n\",\"How do the brain structures of bonobos change as t\",\"What's the biggest scam?\\n\",\"Does the US government have an alien flying saucer\",\"I need to gain weight, but I don't have abs. It's \",\"Why should I study Calculus?\\n\",\"Do you think your childhood contributed to your fi\",\"How does the Goods and Services Tax (GST) works?\\n\",\"Where can I download Cisco 500-285 exam dumps?\\n\",\"How do I can make a second nation in Cybernations \",\"Did Neil Armstrong really land on the moon?\\n\",\"Why is Devil any other than God head of state?\\n\",\"How do I stop being possessive over my girlfriend?\",\"How does Kongregate compute the statistics of adve\",\"Who is the best nuero physician at NIMHANS, Bangal\",\"What are nonprofit organizations?\\n\",\"I want to know the process of starting outbound ca\",\"Which are some of the best hotels to stay in Helsi\",\"What is good about Deloitte Chicago?\\n\",\"How do I recover data from a formatted hard drive?\",\"Could India and Pakistan unite again?\\n\",\"How often should I massage my face with Argan oil?\",\"How is psychodynamic therapy different from psycho\",\"What are some of Barack Obama's character traits?\\n\",\"Would it make sense to replace the B-52's 8 1960s \",\"Is it possible to bring forward my flight date of \",\"How can I learn marathons?\\n\"],\"x\":{\"__ndarray__\":\"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\",\"dtype\":\"float32\",\"shape\":[1001]},\"y\":{\"__ndarray__\":\"to4FP9/KeT+GVLa/NalIv1ZE4L/FC4u9s3j1vhnLlb//bpS/zchnP34i5j4NYyW/6Imgv+me5T+Vg0w/ItDWPT6nyr7+mU8/jSuUv+mSLr+SxCm/6+4bPzWPmD98Fqg/cGGYv2O2tr/sGFS/1lbMvgpxab7GH7E+6wd/PnCNxj+6fAnAIgOlP3clpL7WyBO/uxC+Po6tQz7Otsy/gxXiv+pE9z/1GyU+Z3CXviW5iD8mnHS/h9qjvoWDCL9DI6w953+nv5K4AcBqlb2/gORBv6dnuL8UBYq+QEzEvf9gqT+D2F+/p+U6u3vzqz+vCdo/a8TMvRTU9r749uQ+da4RP4stvL8CPrk/qwvlP1dJiz6UlY89mVDSPT5r0D/mxwo/aUJUP9PdDb43cNa/XNOPvxcu2D+tBb2/7ATGvrkQbL/p98S/Pfm6v2qAnj/nwGG+P4J3v21nnj/qlJe/bCI2Pti7yT4OQI8/FiZTPxalgj+QdgS+QAEjP1Dfmz/6T/4/bLruPgD0F7/KBLq/640PvtAHAcA4CZu/T9gqPHYhbr7hIZQ/36+qP/mBtz9WO729tvdpv+OtnD/MyRI+MBDfvt1yAr8flAw/iikKQMZCv7+BbPC9Io5JP+1KdT/8ki89hEnCPc+xXr8ma4U+y20Hv1ehAD9c5sY/Q5yiPnwofT9xTHW9KJWav1xwar/+2cO/xj6hv4YzrD+Nioo+TmC+PmS6ir9GGLG+OQemv7/+yj/c2jc+DEE4v/CXkj2wv5u9wBQCQG4fcD/rWgo/CM9jP9Lb2L4X+Xg9lGjVP/Dlzz5h1Wa/oANPv+VQrD9a/lc/B0pNvzcwH7+tvrM/pZk9vw1LZz9cqsu/w6GTP/T3/b6F6XE+o/J3Ps61h75dmgk8CueKv8i/vD+4A8q/0W4KwHUOXb9XyK2+NsOku2YMQT+dBVg92Ph5P6BIOz/pPWK+6FrZvs8znT+BuAs+3rO1v01DCcA8gK8+CSmzvRM8lD4FdbG/WJ3Sv565jL4X5pM+GQ7wPiiy871kgra/Xe2cvqqi8j+nJ3+/lOkiP1dZqL76QgtATc7fv+pScD/ZlK2+ZIRAvR87DMDGN5+9N4jHvh2vGT9s+QdALF92PyzXDD5YVNQ8Y/CYP/7Vaj+X2x68bYliv0B2CkA8Woy/ChsfP8ejmb8jwrI+NJsLQF8jyb/hAL0/ZdA1vqyDgD9h3v4915wnvygIbj87AmS/8Xt+P0rZhL+YZC8/jMyXvNbSDT5KcEW/rKJ9PnD4Ab40sxu/oJkcvxfURT8kzZ6+gTeCPEtOpb8/3T0/29OvPzPJRL52RBK+BDFmv9sofD/7tp0/J+4ovoBlnL6QhB0/mbSfPt1t1D6bJN6/AHllvzKe/z7xUAc/hdwWv1fsKr+TE4E/TTHfvhMZSz+8SZA/DVmwvT3NlD+jwgI+kO+NPzvz3T31xY4/Wyp5PzZlrr4RuWe/kJgJvqTSQb+SSBu/b+ClPiT6ij+Gew4/xPuwvug8nj3pMfk+a7trv/UPzD8iO9w/82YLQIkHLj65FwO/B5abP9Ln5L5/qQ6+Cv1PPrJiND9/ZuA+n8Kbv/eGuT5MW/m+fhi/Pssv277ME5O/DhkCv0n7gj8fqdU+hjkSP/FOR77iWqK/bD0nvZH1u7/csYK+7iDRvtROPL8PcmA+iUu6P8rdPL8/aMG/FJdKPHWVzD+JpSk/rE6PPxxo1D9xUoA/c6MKQBGlf79Q240+Ju5aPzEaDb+vldo/idmtva4Mob72xIc/meRcv63hLT+ZXru9IrpAPR6f7z3Z/Ig/cP4YPo/4xb99ORk+KTcAPgD9hT/ul8E+buDGv2/kKz5f+iM+DHlTP/YHUj/TCso+kOulvruw/b9/f5W/TRr4P3wc7j35xlk/Y+CHv9ibEECB+tg/0VVSvoOib79rF16++/csvxqEBD9WjTS/ROqMP1QD1T64+ou//0Jhv73My75wPVq+zqu2v9x8IL+HsMS/baxQvnc/Nz0yDcc8H45Zv134wz4KUg2+9nX+vys9or4HtDa+g44ivg5wZT6HPuM/cAVrv32pnj6RNAu/YNvyP5Wi876Oe4k9tysGwDAV879dfo2/NA0iv36zf7/nM1w/fjEFQCk3nT+Huts/SfGEv7JNaL6Cr1g9W/kYPwwGMj+p0pw+6w6eP0zRSb8ekVC97yRsv4f0QD9eTEW/U//6vgKPJ7+HytA/dXKYP2RSub5v4Lc9RX8JQML7Dj5GOyK+vxFIvwQUsz7e/C++dwvVvxr5Xj94OZe/MmbPPvSqiD7SBvw/nnS5PiHGY79iDek/cRW/P1s1YL1jx74/4R+FvHFmlr/Mi7y/RttYv2Lrmj8kZKQ/hBcEvnpXo79dX5Q+QppmP9PDBz+mY/E+Q4BrP+QwqL8WrhpAbRebvzKu4j+i7ZQ/ViykvOU6y7+wEHy+j9yKPgO31T9eMKy/7YSiPqQ38j+k6OU+fEPyu2pXJD9z9aQ+pqPbPmzFD0CFfEA+QQOMP5AzrD+HK7m/X9RwP6jAjb13URM/BLYFP06MiL7Gen2/00lqP2HCkb44L5q/XzJ2v//2m79fepC+qetIP2YmSr4noFS/PMq+v61Dgr6BLSu/XN4AviCi37/7PVI+DaKIv2woKL8oNQQ6oxqUP1OoFr+U7LK+FaPGP9V3D77/D8A/peAgPg4aAL9Tghc+zS4zPz3crj7TTFA/38nvPxUin76i9PO/YksKwAn4ML8Y1N2+RkmuP+BFLb/+fXu/dNoRvSH8Mz+dcgfADwTRP9iCwD/HHAE9Lm2jPIFAhj6i9Ay/c167vbBGVT/V7yO/zTuEvyjpUz4ZYjy/P3ofv/kkwD+aUYa/CIjsvoqYcL/nlds/3SAxP3kpXD/PtsO/UwuVv0axqT9js5w/nuC/v4B13z5RhjS+lk+xv17F1z+pOCa9YOGhP7QrKr/gsr2+7ci3v0kRHr5N/j6/QZvlvpRPqb987zi/a2v6PsatEMDDWtg/ba9tv0P1NL/7Ync+NfVEv5k1er/XOvq/bS7yPvu8PT+TD9G9qHGgv2hwYr0DEjI/MnqEvtRkZD/s41W+4FcNPbxCGD/5v5S+GPJrP+mR4z4Mcua+fOMDwHpfKz+Y6Ec/C40DwCk2gL4QdqE++5uLP+s8iD+ENIs/UYQBQB5stb/r14Y+rJyUv7lir7+sdvO+QQEAwCKmBT9onKo/IpSTvvRrpr+ZwQK/aZYXP0W+PT/MLa6/lDIdvzApND5v6Ig+icZOPyuFor4xvUK/G1SsPzRNm78uJEm9yWGrPAjVjT0H/gY/yZ8HwG3A2b+obXE+GjCNPkAdgD8DnY4/I/ZrvyKAt75scRk/7CCLP/sJw716gIk9TjuJPLc3rT9l4YM+IHnEvl8jkb4SUZ2+WggFP4RnRT4OY2w9SMLzPqOu+L2Qv8o/fIGxvlHtFUAIErS+r/KTvdkDuL/mS5y9f0r9vzJ20j2kKnW/vCmEP61Yqj5lUz69Liu9vxnW6j/KHtc+wY4Lv8wxtj8VCrK/yEQzv32FTT+4LtQ/Ig3PPlLmk7/K8M2/gWjWP+2Mgb8E3WQ/3B0sPi+ldL9z4gY+u7Knv+lYhD9/DWq/8AJQvc4Jgz6cv4s+k6Hwv+qltD6nJbY+yrrGPbP7MT8sE5E7dMRKvEhEJb/RdeC+adsovfnInD9j4oy9jERXP1ifwz+94L0/si2gP9qaCkA8Z+Q+UcdZvzXR570RpHA8JoDkPH56uz+xxA4/0okpv+GaoD/vWW4+lb/KPrrSkz6v3TI/szb4PhsI7z6PNtK/FtjYvioLCT8KCJG+N123PmU7CD6CSGg+u2hRvxNSNz/sY7u/pVCvP1zBYT/HFzQ/TAcav7YwdT+mJ22/xBq+vwqUij8q0j++PZjvvSFTRr0SlMo/UkgKv3+2Kj+doas/0CnyPCegwz/sfIc+Fsf0PuQLFb+b7x2/Bsw3PuMBUj+3o9k/hyH1v0iPkD9Q9Lg/y+G4vlpWf7/rxsC9fh2XvydMgj+lfFW/I09lvwc8hL96Cb4+Z9RfPzpUpj9iWRC/pPSJPxhx+r/ADgO/iI7/v/blhz/385O/M7ChP6oaf77vufM+xZbtvsP1Eb8+hG6+08UzPt5usL/hZ5y/zZjEv/pJWb8vOyK/FbGWP6aUQL0Rpq+/+tWYPxfz+T51C0c/joKoPp+vDb/0yZ+/THEVv0zCvz/j1uq+9dIvvkgJx76j5cY++PMmPy+0Yj5kCuQ/6Qfcv0Jk175tYdG/vfHOv77vt71OM3C+xgIBPwBXrT9lrxm+lQ8+PyjV9b+ZMgO/mk34v/fDdT9rilA9LrT2v46/Nj8Sxk2/bRgiP0p8Gj/Ajb4+mdc0v8zSKb/lqKg/bsHHP7RS2j6TqtA/RlWUP/FtAz3Xi3S95XKEP4sLS78jNH4/JBrlP4HlWzxOxKW/9Guuv9l62j96tw+/R3yjP2TTHb+lt2+/FuI1PzlEVT/1Pqq/F0+Nv+QLt76RgBe+8ia5P8TUZD8UXLE+azn1v6Ju5b8tfvY/6CTcv005/T6Sdt2/g2OmPpRYfD/ohwnAQb2kP+FTdz6GSPQ+yipQPrqP0j2ajRG/yxOtPkxCKT81EY6/elbPP846tL+uFyo/eNgNP9mApj5R/oA/eprPvu3PWj0l9ru/Y8xgv6VeM77mQDu+gR+FvpLrZb/gvVQ9cT2AOsMdkL89pwc/5j5Avud4Rz76BJu/NZQGQIOjpr+CpyK/ykOBPaaaar8TeM6+JRaRvvtUA0CH6b6/X9+wPwsZsz/AbBQ+4A7UPwml0D8D0Gm+olb1PgmZ0zy9RKK/ZP8OwLtAKD//8ay+3ZK3vpIrLL9gMSy/p1A9P3WFjj8bNGS/mokNP3E44j6M+Ww+7GWWP2/awj73Sva/kvaTvzSESb/Dths/tSAMvyNvpb9267+/8CsJwJuQC8DUFfi/4N1yvedlmj8PGKC/W0XavvTDnb+4sOS+wB2+PifbMb73uK8/Iz87v1O18T7N86o8pW92viWqmb7ttJm/rTSQPz6fW73CVxe/XVepv7gdaD7g+hM/H6SCv4X3W748gnS+ufluvkaKWj/+r2K/ahnQvp/lqr+CZXC/7LDyPmM5hb8yfza/yh/IP5KGhD+jnKW+Qr+6P4BZe76ia/Y+BWWAPuFuQL/jduY/OyLKP4Tcgj444Ry/fkitv2ANmr+KeBu/9pp5PpETn7/HMiW/HjaIvzosyb7COKe+mKmOP0hZrz/HbmQ+aDS1PiqANb8F9J6+rjd+PaT32T64yQJAxD2fv3r2Pz98gyO+m2s8v4pBqD8mZ5a/hqMnPhtySL8=\",\"dtype\":\"float32\",\"shape\":[1001]}},\"selected\":{\"id\":\"1290\",\"type\":\"Selection\"},\"selection_policy\":{\"id\":\"1291\",\"type\":\"UnionRenderers\"}},\"id\":\"1225\",\"type\":\"ColumnDataSource\"},{\"attributes\":{\"overlay\":{\"id\":\"1289\",\"type\":\"BoxAnnotation\"}},\"id\":\"1247\",\"type\":\"BoxZoomTool\"},{\"attributes\":{},\"id\":\"1236\",\"type\":\"BasicTicker\"},{\"attributes\":{},\"id\":\"1248\",\"type\":\"SaveTool\"},{\"attributes\":{\"fill_alpha\":{\"value\":0.1},\"fill_color\":{\"value\":\"#1f77b4\"},\"line_alpha\":{\"value\":0.1},\"line_color\":{\"value\":\"#1f77b4\"},\"size\":{\"units\":\"screen\",\"value\":20},\"x\":{\"field\":\"x\"},\"y\":{\"field\":\"y\"}},\"id\":\"1260\",\"type\":\"Scatter\"},{\"attributes\":{},\"id\":\"1249\",\"type\":\"ResetTool\"},{\"attributes\":{\"formatter\":{\"id\":\"1286\",\"type\":\"BasicTickFormatter\"},\"ticker\":{\"id\":\"1241\",\"type\":\"BasicTicker\"}},\"id\":\"1240\",\"type\":\"LinearAxis\"},{\"attributes\":{\"callback\":null},\"id\":\"1229\",\"type\":\"DataRange1d\"},{\"attributes\":{\"active_drag\":\"auto\",\"active_inspect\":\"auto\",\"active_multi\":null,\"active_scroll\":{\"id\":\"1246\",\"type\":\"WheelZoomTool\"},\"active_tap\":\"auto\",\"tools\":[{\"id\":\"1245\",\"type\":\"PanTool\"},{\"id\":\"1246\",\"type\":\"WheelZoomTool\"},{\"id\":\"1247\",\"type\":\"BoxZoomTool\"},{\"id\":\"1248\",\"type\":\"SaveTool\"},{\"id\":\"1249\",\"type\":\"ResetTool\"},{\"id\":\"1250\",\"type\":\"HelpTool\"},{\"id\":\"1263\",\"type\":\"HoverTool\"}]},\"id\":\"1251\",\"type\":\"Toolbar\"},{\"attributes\":{},\"id\":\"1291\",\"type\":\"UnionRenderers\"},{\"attributes\":{\"source\":{\"id\":\"1225\",\"type\":\"ColumnDataSource\"}},\"id\":\"1262\",\"type\":\"CDSView\"}],\"root_ids\":[\"1226\"]},\"title\":\"Bokeh Application\",\"version\":\"1.3.4\"}};\n",
       "  var render_items = [{\"docid\":\"1d24d125-a97c-4cf9-9541-03623b564493\",\"roots\":{\"1226\":\"0def01b2-eae6-4c27-bda7-84481769bff1\"}}];\n",
       "  root.Bokeh.embed.embed_items_notebook(docs_json, render_items);\n",
       "\n",
       "  }\n",
       "  if (root.Bokeh !== undefined) {\n",
       "    embed_document(root);\n",
       "  } else {\n",
       "    var attempts = 0;\n",
       "    var timer = setInterval(function(root) {\n",
       "      if (root.Bokeh !== undefined) {\n",
       "        embed_document(root);\n",
       "        clearInterval(timer);\n",
       "      }\n",
       "      attempts++;\n",
       "      if (attempts > 100) {\n",
       "        console.log(\"Bokeh: ERROR: Unable to run BokehJS code because BokehJS library is missing\");\n",
       "        clearInterval(timer);\n",
       "      }\n",
       "    }, 10, root)\n",
       "  }\n",
       "})(window);"
      ],
      "application/vnd.bokehjs_exec.v0+json": ""
     },
     "metadata": {
      "application/vnd.bokehjs_exec.v0+json": {
       "id": "1226"
      }
     },
     "output_type": "display_data"
    },
    {
     "data": {
      "text/html": [
       "<div style=\"display: table;\"><div style=\"display: table-row;\"><div style=\"display: table-cell;\"><b title=\"bokeh.plotting.figure.Figure\">Figure</b>(</div><div style=\"display: table-cell;\">id&nbsp;=&nbsp;'1226', <span id=\"1347\" style=\"cursor: pointer;\">&hellip;)</span></div></div><div class=\"1346\" style=\"display: none;\"><div style=\"display: table-cell;\"></div><div style=\"display: table-cell;\">above&nbsp;=&nbsp;[],</div></div><div class=\"1346\" style=\"display: none;\"><div style=\"display: table-cell;\"></div><div style=\"display: table-cell;\">align&nbsp;=&nbsp;'start',</div></div><div class=\"1346\" style=\"display: none;\"><div style=\"display: table-cell;\"></div><div style=\"display: table-cell;\">aspect_ratio&nbsp;=&nbsp;None,</div></div><div class=\"1346\" style=\"display: none;\"><div style=\"display: table-cell;\"></div><div style=\"display: table-cell;\">aspect_scale&nbsp;=&nbsp;1,</div></div><div class=\"1346\" style=\"display: none;\"><div style=\"display: table-cell;\"></div><div style=\"display: table-cell;\">background&nbsp;=&nbsp;None,</div></div><div class=\"1346\" style=\"display: none;\"><div style=\"display: table-cell;\"></div><div style=\"display: table-cell;\">background_fill_alpha&nbsp;=&nbsp;{'value': 1.0},</div></div><div class=\"1346\" style=\"display: none;\"><div style=\"display: table-cell;\"></div><div style=\"display: table-cell;\">background_fill_color&nbsp;=&nbsp;{'value': '#ffffff'},</div></div><div class=\"1346\" style=\"display: none;\"><div style=\"display: table-cell;\"></div><div style=\"display: table-cell;\">below&nbsp;=&nbsp;[LinearAxis(id='1235', ...)],</div></div><div class=\"1346\" style=\"display: none;\"><div style=\"display: table-cell;\"></div><div style=\"display: table-cell;\">border_fill_alpha&nbsp;=&nbsp;{'value': 1.0},</div></div><div class=\"1346\" style=\"display: none;\"><div style=\"display: table-cell;\"></div><div style=\"display: table-cell;\">border_fill_color&nbsp;=&nbsp;{'value': '#ffffff'},</div></div><div class=\"1346\" style=\"display: none;\"><div style=\"display: table-cell;\"></div><div style=\"display: table-cell;\">center&nbsp;=&nbsp;[Grid(id='1239', ...), Grid(id='1244', ...)],</div></div><div class=\"1346\" style=\"display: none;\"><div style=\"display: table-cell;\"></div><div style=\"display: table-cell;\">css_classes&nbsp;=&nbsp;[],</div></div><div class=\"1346\" style=\"display: none;\"><div style=\"display: table-cell;\"></div><div style=\"display: table-cell;\">disabled&nbsp;=&nbsp;False,</div></div><div class=\"1346\" style=\"display: none;\"><div style=\"display: table-cell;\"></div><div style=\"display: table-cell;\">extra_x_ranges&nbsp;=&nbsp;{},</div></div><div class=\"1346\" style=\"display: none;\"><div style=\"display: table-cell;\"></div><div style=\"display: table-cell;\">extra_y_ranges&nbsp;=&nbsp;{},</div></div><div class=\"1346\" style=\"display: none;\"><div style=\"display: table-cell;\"></div><div style=\"display: table-cell;\">frame_height&nbsp;=&nbsp;None,</div></div><div class=\"1346\" style=\"display: none;\"><div style=\"display: table-cell;\"></div><div style=\"display: table-cell;\">frame_width&nbsp;=&nbsp;None,</div></div><div class=\"1346\" style=\"display: none;\"><div style=\"display: table-cell;\"></div><div style=\"display: table-cell;\">height&nbsp;=&nbsp;None,</div></div><div class=\"1346\" style=\"display: none;\"><div style=\"display: table-cell;\"></div><div style=\"display: table-cell;\">height_policy&nbsp;=&nbsp;'auto',</div></div><div class=\"1346\" style=\"display: none;\"><div style=\"display: table-cell;\"></div><div style=\"display: table-cell;\">hidpi&nbsp;=&nbsp;True,</div></div><div class=\"1346\" style=\"display: none;\"><div style=\"display: table-cell;\"></div><div style=\"display: table-cell;\">js_event_callbacks&nbsp;=&nbsp;{},</div></div><div class=\"1346\" style=\"display: none;\"><div style=\"display: table-cell;\"></div><div style=\"display: table-cell;\">js_property_callbacks&nbsp;=&nbsp;{},</div></div><div class=\"1346\" style=\"display: none;\"><div style=\"display: table-cell;\"></div><div style=\"display: table-cell;\">left&nbsp;=&nbsp;[LinearAxis(id='1240', ...)],</div></div><div class=\"1346\" style=\"display: none;\"><div style=\"display: table-cell;\"></div><div style=\"display: table-cell;\">lod_factor&nbsp;=&nbsp;10,</div></div><div class=\"1346\" style=\"display: none;\"><div style=\"display: table-cell;\"></div><div style=\"display: table-cell;\">lod_interval&nbsp;=&nbsp;300,</div></div><div class=\"1346\" style=\"display: none;\"><div style=\"display: table-cell;\"></div><div style=\"display: table-cell;\">lod_threshold&nbsp;=&nbsp;2000,</div></div><div class=\"1346\" style=\"display: none;\"><div style=\"display: table-cell;\"></div><div style=\"display: table-cell;\">lod_timeout&nbsp;=&nbsp;500,</div></div><div class=\"1346\" style=\"display: none;\"><div style=\"display: table-cell;\"></div><div style=\"display: table-cell;\">margin&nbsp;=&nbsp;(0, 0, 0, 0),</div></div><div class=\"1346\" style=\"display: none;\"><div style=\"display: table-cell;\"></div><div style=\"display: table-cell;\">match_aspect&nbsp;=&nbsp;False,</div></div><div class=\"1346\" style=\"display: none;\"><div style=\"display: table-cell;\"></div><div style=\"display: table-cell;\">max_height&nbsp;=&nbsp;None,</div></div><div class=\"1346\" style=\"display: none;\"><div style=\"display: table-cell;\"></div><div style=\"display: table-cell;\">max_width&nbsp;=&nbsp;None,</div></div><div class=\"1346\" style=\"display: none;\"><div style=\"display: table-cell;\"></div><div style=\"display: table-cell;\">min_border&nbsp;=&nbsp;5,</div></div><div class=\"1346\" style=\"display: none;\"><div style=\"display: table-cell;\"></div><div style=\"display: table-cell;\">min_border_bottom&nbsp;=&nbsp;None,</div></div><div class=\"1346\" style=\"display: none;\"><div style=\"display: table-cell;\"></div><div style=\"display: table-cell;\">min_border_left&nbsp;=&nbsp;None,</div></div><div class=\"1346\" style=\"display: none;\"><div style=\"display: table-cell;\"></div><div style=\"display: table-cell;\">min_border_right&nbsp;=&nbsp;None,</div></div><div class=\"1346\" style=\"display: none;\"><div style=\"display: table-cell;\"></div><div style=\"display: table-cell;\">min_border_top&nbsp;=&nbsp;None,</div></div><div class=\"1346\" style=\"display: none;\"><div style=\"display: table-cell;\"></div><div style=\"display: table-cell;\">min_height&nbsp;=&nbsp;None,</div></div><div class=\"1346\" style=\"display: none;\"><div style=\"display: table-cell;\"></div><div style=\"display: table-cell;\">min_width&nbsp;=&nbsp;None,</div></div><div class=\"1346\" style=\"display: none;\"><div style=\"display: table-cell;\"></div><div style=\"display: table-cell;\">name&nbsp;=&nbsp;None,</div></div><div class=\"1346\" style=\"display: none;\"><div style=\"display: table-cell;\"></div><div style=\"display: table-cell;\">outline_line_alpha&nbsp;=&nbsp;{'value': 1.0},</div></div><div class=\"1346\" style=\"display: none;\"><div style=\"display: table-cell;\"></div><div style=\"display: table-cell;\">outline_line_cap&nbsp;=&nbsp;'butt',</div></div><div class=\"1346\" style=\"display: none;\"><div style=\"display: table-cell;\"></div><div style=\"display: table-cell;\">outline_line_color&nbsp;=&nbsp;{'value': '#e5e5e5'},</div></div><div class=\"1346\" style=\"display: none;\"><div style=\"display: table-cell;\"></div><div style=\"display: table-cell;\">outline_line_dash&nbsp;=&nbsp;[],</div></div><div class=\"1346\" style=\"display: none;\"><div style=\"display: table-cell;\"></div><div style=\"display: table-cell;\">outline_line_dash_offset&nbsp;=&nbsp;0,</div></div><div class=\"1346\" style=\"display: none;\"><div style=\"display: table-cell;\"></div><div style=\"display: table-cell;\">outline_line_join&nbsp;=&nbsp;'bevel',</div></div><div class=\"1346\" style=\"display: none;\"><div style=\"display: table-cell;\"></div><div style=\"display: table-cell;\">outline_line_width&nbsp;=&nbsp;{'value': 1},</div></div><div class=\"1346\" style=\"display: none;\"><div style=\"display: table-cell;\"></div><div style=\"display: table-cell;\">output_backend&nbsp;=&nbsp;'canvas',</div></div><div class=\"1346\" style=\"display: none;\"><div style=\"display: table-cell;\"></div><div style=\"display: table-cell;\">plot_height&nbsp;=&nbsp;400,</div></div><div class=\"1346\" style=\"display: none;\"><div style=\"display: table-cell;\"></div><div style=\"display: table-cell;\">plot_width&nbsp;=&nbsp;600,</div></div><div class=\"1346\" style=\"display: none;\"><div style=\"display: table-cell;\"></div><div style=\"display: table-cell;\">renderers&nbsp;=&nbsp;[GlyphRenderer(id='1261', ...)],</div></div><div class=\"1346\" style=\"display: none;\"><div style=\"display: table-cell;\"></div><div style=\"display: table-cell;\">reset_policy&nbsp;=&nbsp;'standard',</div></div><div class=\"1346\" style=\"display: none;\"><div style=\"display: table-cell;\"></div><div style=\"display: table-cell;\">right&nbsp;=&nbsp;[],</div></div><div class=\"1346\" style=\"display: none;\"><div style=\"display: table-cell;\"></div><div style=\"display: table-cell;\">sizing_mode&nbsp;=&nbsp;None,</div></div><div class=\"1346\" style=\"display: none;\"><div style=\"display: table-cell;\"></div><div style=\"display: table-cell;\">subscribed_events&nbsp;=&nbsp;[],</div></div><div class=\"1346\" style=\"display: none;\"><div style=\"display: table-cell;\"></div><div style=\"display: table-cell;\">tags&nbsp;=&nbsp;[],</div></div><div class=\"1346\" style=\"display: none;\"><div style=\"display: table-cell;\"></div><div style=\"display: table-cell;\">title&nbsp;=&nbsp;Title(id='1283', ...),</div></div><div class=\"1346\" style=\"display: none;\"><div style=\"display: table-cell;\"></div><div style=\"display: table-cell;\">title_location&nbsp;=&nbsp;'above',</div></div><div class=\"1346\" style=\"display: none;\"><div style=\"display: table-cell;\"></div><div style=\"display: table-cell;\">toolbar&nbsp;=&nbsp;Toolbar(id='1251', ...),</div></div><div class=\"1346\" style=\"display: none;\"><div style=\"display: table-cell;\"></div><div style=\"display: table-cell;\">toolbar_location&nbsp;=&nbsp;'right',</div></div><div class=\"1346\" style=\"display: none;\"><div style=\"display: table-cell;\"></div><div style=\"display: table-cell;\">toolbar_sticky&nbsp;=&nbsp;True,</div></div><div class=\"1346\" style=\"display: none;\"><div style=\"display: table-cell;\"></div><div style=\"display: table-cell;\">visible&nbsp;=&nbsp;True,</div></div><div class=\"1346\" style=\"display: none;\"><div style=\"display: table-cell;\"></div><div style=\"display: table-cell;\">width&nbsp;=&nbsp;None,</div></div><div class=\"1346\" style=\"display: none;\"><div style=\"display: table-cell;\"></div><div style=\"display: table-cell;\">width_policy&nbsp;=&nbsp;'auto',</div></div><div class=\"1346\" style=\"display: none;\"><div style=\"display: table-cell;\"></div><div style=\"display: table-cell;\">x_range&nbsp;=&nbsp;DataRange1d(id='1227', ...),</div></div><div class=\"1346\" style=\"display: none;\"><div style=\"display: table-cell;\"></div><div style=\"display: table-cell;\">x_scale&nbsp;=&nbsp;LinearScale(id='1231', ...),</div></div><div class=\"1346\" style=\"display: none;\"><div style=\"display: table-cell;\"></div><div style=\"display: table-cell;\">y_range&nbsp;=&nbsp;DataRange1d(id='1229', ...),</div></div><div class=\"1346\" style=\"display: none;\"><div style=\"display: table-cell;\"></div><div style=\"display: table-cell;\">y_scale&nbsp;=&nbsp;LinearScale(id='1233', ...))</div></div></div>\n",
       "<script>\n",
       "(function() {\n",
       "  var expanded = false;\n",
       "  var ellipsis = document.getElementById(\"1347\");\n",
       "  ellipsis.addEventListener(\"click\", function() {\n",
       "    var rows = document.getElementsByClassName(\"1346\");\n",
       "    for (var i = 0; i < rows.length; i++) {\n",
       "      var el = rows[i];\n",
       "      el.style.display = expanded ? \"none\" : \"table-row\";\n",
       "    }\n",
       "    ellipsis.innerHTML = expanded ? \"&hellip;)\" : \"&lsaquo;&lsaquo;&lsaquo;\";\n",
       "    expanded = !expanded;\n",
       "  });\n",
       "})();\n",
       "</script>\n"
      ],
      "text/plain": [
       "Figure(id='1226', ...)"
      ]
     },
     "execution_count": 26,
     "metadata": {},
     "output_type": "execute_result"
    }
   ],
   "source": [
    "draw_vectors(phrase_vectors_2d[:, 0], phrase_vectors_2d[:, 1],\n",
    "             phrase=[phrase[:50] for phrase in chosen_phrases],\n",
    "             radius=20,)"
   ]
  },
  {
   "cell_type": "markdown",
   "metadata": {},
   "source": [
    "Finally, let's build a simple \"similar question\" engine with phrase embeddings we've built."
   ]
  },
  {
   "cell_type": "code",
   "execution_count": 27,
   "metadata": {},
   "outputs": [],
   "source": [
    "# compute vector embedding for all lines in data\n",
    "data_vectors = np.array([get_phrase_embedding(l) for l in data])"
   ]
  },
  {
   "cell_type": "code",
   "execution_count": 28,
   "metadata": {},
   "outputs": [],
   "source": [
    "from sklearn.metrics.pairwise import cosine_similarity as cosine # small hack\n",
    "\n",
    "def find_nearest(query, k=10):\n",
    "    \"\"\"\n",
    "    given text line (query), return k most similar lines from data, sorted from most to least similar\n",
    "    similarity should be measured as cosine between query and line embedding vectors\n",
    "    hint: it's okay to use global variables: data and data_vectors. see also: np.argpartition, np.argsort\n",
    "    \"\"\"\n",
    "    \n",
    "    query_emb = get_phrase_embedding(query).reshape(1, -1)\n",
    "    cosine_scores = cosine(query_emb, data_vectors)\n",
    "    ind = np.argsort(-cosine_scores[0])[:k]\n",
    "    \n",
    "    return [data[i] for i in ind]"
   ]
  },
  {
   "cell_type": "code",
   "execution_count": 29,
   "metadata": {},
   "outputs": [
    {
     "name": "stdout",
     "output_type": "stream",
     "text": [
      "How do I get to the dark web?\n",
      "What should I do to enter hollywood?\n",
      "How do I use the Greenify app?\n",
      "What can I do to save the world?\n",
      "How do I win this?\n",
      "How do I think out of the box? How do I learn to think out of the box?\n",
      "How do I find the 5th dimension?\n",
      "How do I use the pad in MMA?\n",
      "How do I estimate the competition?\n",
      "What do I do to enter the line of event management?\n",
      "\n"
     ]
    }
   ],
   "source": [
    "results = find_nearest(query=\"How do i enter the matrix?\", k=10)\n",
    "\n",
    "print(''.join(results))\n",
    "\n",
    "assert len(results) == 10 and isinstance(results[0], str)\n",
    "assert results[0] == 'How do I get to the dark web?\\n'\n",
    "assert results[3] == 'What can I do to save the world?\\n'"
   ]
  },
  {
   "cell_type": "code",
   "execution_count": 30,
   "metadata": {},
   "outputs": [
    {
     "data": {
      "text/plain": [
       "['What does Donald Trump think about Israel?\\n',\n",
       " 'What books does Donald Trump like?\\n',\n",
       " 'What does Donald Trump think of India?\\n',\n",
       " 'What does India think of Donald Trump?\\n',\n",
       " 'What does Donald Trump think of China?\\n',\n",
       " 'What does Donald Trump think about Pakistan?\\n',\n",
       " 'What companies does Donald Trump own?\\n',\n",
       " 'What does Dushka Zapata think about Donald Trump?\\n',\n",
       " 'How does it feel to date Ivanka Trump?\\n',\n",
       " 'What does salesforce mean?\\n']"
      ]
     },
     "execution_count": 30,
     "metadata": {},
     "output_type": "execute_result"
    }
   ],
   "source": [
    "find_nearest(query=\"How does Trump?\", k=10)"
   ]
  },
  {
   "cell_type": "code",
   "execution_count": 31,
   "metadata": {},
   "outputs": [
    {
     "data": {
      "text/plain": [
       "[\"Why don't I get a date?\\n\",\n",
       " \"Why do you always answer a question with a question? I don't, or do I?\\n\",\n",
       " \"Why can't I ask a question anonymously?\\n\",\n",
       " \"Why don't I get a girlfriend?\\n\",\n",
       " \"Why don't I have a boyfriend?\\n\",\n",
       " \"I don't have no question?\\n\",\n",
       " \"Why can't I take a joke?\\n\",\n",
       " \"Why don't I ever get a girl?\\n\",\n",
       " \"Can I ask a girl out that I don't know?\\n\",\n",
       " \"Why don't I have a girlfriend?\\n\"]"
      ]
     },
     "execution_count": 31,
     "metadata": {},
     "output_type": "execute_result"
    }
   ],
   "source": [
    "find_nearest(query=\"Why don't i ask a question myself?\", k=10)"
   ]
  },
  {
   "cell_type": "markdown",
   "metadata": {
    "collapsed": true
   },
   "source": [
    "__Now what?__\n",
    "* Try running TSNE on all data, not just 1000 phrases\n",
    "* See what other embeddings are there in the model zoo: `gensim.downloader.info()`\n",
    "* Take a look at [FastText](https://github.com/facebookresearch/fastText) embeddings\n",
    "* Optimize find_nearest with locality-sensitive hashing: use [nearpy](https://github.com/pixelogik/NearPy) or `sklearn.neighbors`."
   ]
  }
 ],
 "metadata": {
  "kernelspec": {
   "display_name": "Python 3",
   "language": "python",
   "name": "python3"
  },
  "language_info": {
   "codemirror_mode": {
    "name": "ipython",
    "version": 3
   },
   "file_extension": ".py",
   "mimetype": "text/x-python",
   "name": "python",
   "nbconvert_exporter": "python",
   "pygments_lexer": "ipython3",
   "version": "3.7.4"
  }
 },
 "nbformat": 4,
 "nbformat_minor": 2
}
